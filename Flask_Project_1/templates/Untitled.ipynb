{
 "cells": [
  {
   "cell_type": "code",
   "execution_count": 1,
   "metadata": {},
   "outputs": [
    {
     "name": "stdout",
     "output_type": "stream",
     "text": [
      "Collecting passlib\n",
      "  Downloading passlib-1.7.2-py2.py3-none-any.whl (507 kB)\n",
      "\u001b[K     |████████████████████████████████| 507 kB 740 kB/s eta 0:00:01\n",
      "\u001b[?25hInstalling collected packages: passlib\n",
      "Successfully installed passlib-1.7.2\n",
      "Note: you may need to restart the kernel to use updated packages.\n"
     ]
    }
   ],
   "source": [
    "pip install passlib\n"
   ]
  },
  {
   "cell_type": "code",
   "execution_count": 1,
   "metadata": {},
   "outputs": [
    {
     "ename": "NameError",
     "evalue": "name 'passlib' is not defined",
     "output_type": "error",
     "traceback": [
      "\u001b[0;31m---------------------------------------------------------------------------\u001b[0m",
      "\u001b[0;31mNameError\u001b[0m                                 Traceback (most recent call last)",
      "\u001b[0;32m<ipython-input-1-5323a57d2490>\u001b[0m in \u001b[0;36m<module>\u001b[0;34m\u001b[0m\n\u001b[0;32m----> 1\u001b[0;31m \u001b[0mdir\u001b[0m \u001b[0;34m(\u001b[0m\u001b[0mpasslib\u001b[0m\u001b[0;34m)\u001b[0m\u001b[0;34m\u001b[0m\u001b[0;34m\u001b[0m\u001b[0m\n\u001b[0m",
      "\u001b[0;31mNameError\u001b[0m: name 'passlib' is not defined"
     ]
    }
   ],
   "source": [
    "dir (passlib)"
   ]
  },
  {
   "cell_type": "code",
   "execution_count": 2,
   "metadata": {},
   "outputs": [],
   "source": [
    "import passlib"
   ]
  },
  {
   "cell_type": "code",
   "execution_count": 3,
   "metadata": {},
   "outputs": [
    {
     "data": {
      "text/plain": [
       "['__builtins__',\n",
       " '__cached__',\n",
       " '__doc__',\n",
       " '__file__',\n",
       " '__loader__',\n",
       " '__name__',\n",
       " '__package__',\n",
       " '__path__',\n",
       " '__spec__',\n",
       " '__version__']"
      ]
     },
     "execution_count": 3,
     "metadata": {},
     "output_type": "execute_result"
    }
   ],
   "source": [
    "dir(passlib)"
   ]
  },
  {
   "cell_type": "code",
   "execution_count": 5,
   "metadata": {},
   "outputs": [],
   "source": [
    "from passlib import hash"
   ]
  },
  {
   "cell_type": "code",
   "execution_count": 6,
   "metadata": {},
   "outputs": [
    {
     "name": "stdout",
     "output_type": "stream",
     "text": [
      "['__class__', '__delattr__', '__dict__', '__dir__', '__doc__', '__eq__', '__format__', '__ge__', '__getattr__', '__getattribute__', '__gt__', '__hash__', '__init__', '__init_subclass__', '__le__', '__lt__', '__module__', '__name__', '__ne__', '__new__', '__package__', '__reduce__', '__reduce_ex__', '__repr__', '__setattr__', '__sizeof__', '__str__', '__subclasshook__', '__weakref__', 'apr_md5_crypt', 'argon2', 'atlassian_pbkdf2_sha1', 'bcrypt', 'bcrypt_sha256', 'bigcrypt', 'bsd_nthash', 'bsdi_crypt', 'cisco_asa', 'cisco_pix', 'cisco_type7', 'crypt16', 'cta_pbkdf2_sha1', 'des_crypt', 'django_argon2', 'django_bcrypt', 'django_bcrypt_sha256', 'django_des_crypt', 'django_disabled', 'django_pbkdf2_sha1', 'django_pbkdf2_sha256', 'django_salted_md5', 'django_salted_sha1', 'dlitz_pbkdf2_sha1', 'fshp', 'grub_pbkdf2_sha512', 'hex_md4', 'hex_md5', 'hex_sha1', 'hex_sha256', 'hex_sha512', 'htdigest', 'ldap_bcrypt', 'ldap_bsdi_crypt', 'ldap_des_crypt', 'ldap_hex_md5', 'ldap_hex_sha1', 'ldap_md5', 'ldap_md5_crypt', 'ldap_pbkdf2_sha1', 'ldap_pbkdf2_sha256', 'ldap_pbkdf2_sha512', 'ldap_plaintext', 'ldap_salted_md5', 'ldap_salted_sha1', 'ldap_sha1', 'ldap_sha1_crypt', 'ldap_sha256_crypt', 'ldap_sha512_crypt', 'lmhash', 'md5_crypt', 'msdcc', 'msdcc2', 'mssql2000', 'mssql2005', 'mysql323', 'mysql41', 'nthash', 'oracle10', 'oracle11', 'pbkdf2_sha1', 'pbkdf2_sha256', 'pbkdf2_sha512', 'phpass', 'plaintext', 'postgres_md5', 'roundup_plaintext', 'scram', 'scrypt', 'sha1_crypt', 'sha256_crypt', 'sha512_crypt', 'sun_md5_crypt', 'unix_disabled', 'unix_fallback']\n"
     ]
    }
   ],
   "source": [
    "print(dir(hash))"
   ]
  },
  {
   "cell_type": "code",
   "execution_count": 8,
   "metadata": {},
   "outputs": [],
   "source": [
    "from passlib.hash import pbkdf2_sha256 as sha"
   ]
  },
  {
   "cell_type": "code",
   "execution_count": 10,
   "metadata": {},
   "outputs": [],
   "source": [
    "h=sha.hash(\"hello\")"
   ]
  },
  {
   "cell_type": "code",
   "execution_count": 11,
   "metadata": {},
   "outputs": [
    {
     "name": "stdout",
     "output_type": "stream",
     "text": [
      "$pbkdf2-sha256$29000$bY2Rcs4Zwxij9F7rHSNESA$JmSK8U6J.YBKSX1FTmTl6TLeNuAYnxFG6EzPEVMGBmQ\n"
     ]
    }
   ],
   "source": [
    "print(h)"
   ]
  },
  {
   "cell_type": "code",
   "execution_count": 14,
   "metadata": {},
   "outputs": [
    {
     "data": {
      "text/plain": [
       "True"
      ]
     },
     "execution_count": 14,
     "metadata": {},
     "output_type": "execute_result"
    }
   ],
   "source": [
    "sha.verify(\"hello\",\"$pbkdf2-sha256$29000$bY2Rcs4Zwxij9F7rHSNESA$JmSK8U6J.YBKSX1FTmTl6TLeNuAYnxFG6EzPEVMGBmQ\")"
   ]
  },
  {
   "cell_type": "code",
   "execution_count": 15,
   "metadata": {},
   "outputs": [
    {
     "ename": "NameError",
     "evalue": "name 'os' is not defined",
     "output_type": "error",
     "traceback": [
      "\u001b[0;31m---------------------------------------------------------------------------\u001b[0m",
      "\u001b[0;31mNameError\u001b[0m                                 Traceback (most recent call last)",
      "\u001b[0;32m<ipython-input-15-6d1a2f3270ec>\u001b[0m in \u001b[0;36m<module>\u001b[0;34m\u001b[0m\n\u001b[0;32m----> 1\u001b[0;31m \u001b[0mos\u001b[0m\u001b[0;34m.\u001b[0m\u001b[0menviron\u001b[0m\u001b[0;34m\u001b[0m\u001b[0;34m\u001b[0m\u001b[0m\n\u001b[0m",
      "\u001b[0;31mNameError\u001b[0m: name 'os' is not defined"
     ]
    }
   ],
   "source": [
    "os.environ"
   ]
  },
  {
   "cell_type": "code",
   "execution_count": 16,
   "metadata": {},
   "outputs": [],
   "source": [
    "import os"
   ]
  },
  {
   "cell_type": "code",
   "execution_count": 23,
   "metadata": {},
   "outputs": [],
   "source": [
    "p=os.environ"
   ]
  },
  {
   "cell_type": "code",
   "execution_count": 24,
   "metadata": {},
   "outputs": [
    {
     "data": {
      "text/plain": [
       "environ{'TERM_PROGRAM': 'Apple_Terminal',\n",
       "        'SHELL': '/bin/zsh',\n",
       "        'TERM': 'xterm-color',\n",
       "        'TMPDIR': '/var/folders/sf/pkl6c5qs4t38vl9yqs4d1hxw0000gn/T/',\n",
       "        'TERM_PROGRAM_VERSION': '433',\n",
       "        'TERM_SESSION_ID': '07F6E3DE-A31D-4A72-958E-51303669FA76',\n",
       "        'USER': 'navendrasingh',\n",
       "        'SSH_AUTH_SOCK': '/private/tmp/com.apple.launchd.7VEAPyernY/Listeners',\n",
       "        'PATH': '/Users/navendrasingh/opt/anaconda3/bin:/Users/navendrasingh/opt/anaconda3/condabin:/Library/Frameworks/Python.framework/Versions/3.8/bin:/usr/local/bin:/usr/bin:/bin:/usr/sbin:/sbin',\n",
       "        'PWD': '/Users/navendrasingh/Documents/d/My_project',\n",
       "        'LANG': 'en_GB.UTF-8',\n",
       "        'XPC_FLAGS': '0x0',\n",
       "        'XPC_SERVICE_NAME': '0',\n",
       "        'SHLVL': '1',\n",
       "        'HOME': '/Users/navendrasingh',\n",
       "        'LOGNAME': 'navendrasingh',\n",
       "        'OLDPWD': '/Users/navendrasingh/Documents/d/My_project',\n",
       "        'CONDA_EXE': '/Users/navendrasingh/opt/anaconda3/bin/conda',\n",
       "        '_CE_M': '',\n",
       "        '_CE_CONDA': '',\n",
       "        'CONDA_PYTHON_EXE': '/Users/navendrasingh/opt/anaconda3/bin/python',\n",
       "        'CONDA_SHLVL': '1',\n",
       "        'CONDA_PREFIX': '/Users/navendrasingh/opt/anaconda3',\n",
       "        'CONDA_DEFAULT_ENV': 'base',\n",
       "        'CONDA_PROMPT_MODIFIER': '(base) ',\n",
       "        '_': '/Users/navendrasingh/opt/anaconda3/bin/jupyter',\n",
       "        'KERNEL_LAUNCH_TIMEOUT': '40',\n",
       "        'JPY_PARENT_PID': '56233',\n",
       "        'CLICOLOR': '1',\n",
       "        'PAGER': 'cat',\n",
       "        'GIT_PAGER': 'cat',\n",
       "        'MPLBACKEND': 'module://ipykernel.pylab.backend_inline'}"
      ]
     },
     "execution_count": 24,
     "metadata": {},
     "output_type": "execute_result"
    }
   ],
   "source": [
    "p"
   ]
  },
  {
   "cell_type": "code",
   "execution_count": 27,
   "metadata": {},
   "outputs": [],
   "source": [
    "p['PASSWORD']='Dipu8991'"
   ]
  },
  {
   "cell_type": "code",
   "execution_count": 28,
   "metadata": {},
   "outputs": [
    {
     "data": {
      "text/plain": [
       "environ{'TERM_PROGRAM': 'Apple_Terminal',\n",
       "        'SHELL': '/bin/zsh',\n",
       "        'TERM': 'xterm-color',\n",
       "        'TMPDIR': '/var/folders/sf/pkl6c5qs4t38vl9yqs4d1hxw0000gn/T/',\n",
       "        'TERM_PROGRAM_VERSION': '433',\n",
       "        'TERM_SESSION_ID': '07F6E3DE-A31D-4A72-958E-51303669FA76',\n",
       "        'USER': 'navendrasingh',\n",
       "        'SSH_AUTH_SOCK': '/private/tmp/com.apple.launchd.7VEAPyernY/Listeners',\n",
       "        'PATH': '/Users/navendrasingh/opt/anaconda3/bin:/Users/navendrasingh/opt/anaconda3/condabin:/Library/Frameworks/Python.framework/Versions/3.8/bin:/usr/local/bin:/usr/bin:/bin:/usr/sbin:/sbin',\n",
       "        'PWD': '/Users/navendrasingh/Documents/d/My_project',\n",
       "        'LANG': 'en_GB.UTF-8',\n",
       "        'XPC_FLAGS': '0x0',\n",
       "        'XPC_SERVICE_NAME': '0',\n",
       "        'SHLVL': '1',\n",
       "        'HOME': '/Users/navendrasingh',\n",
       "        'LOGNAME': 'navendrasingh',\n",
       "        'OLDPWD': '/Users/navendrasingh/Documents/d/My_project',\n",
       "        'CONDA_EXE': '/Users/navendrasingh/opt/anaconda3/bin/conda',\n",
       "        '_CE_M': '',\n",
       "        '_CE_CONDA': '',\n",
       "        'CONDA_PYTHON_EXE': '/Users/navendrasingh/opt/anaconda3/bin/python',\n",
       "        'CONDA_SHLVL': '1',\n",
       "        'CONDA_PREFIX': '/Users/navendrasingh/opt/anaconda3',\n",
       "        'CONDA_DEFAULT_ENV': 'base',\n",
       "        'CONDA_PROMPT_MODIFIER': '(base) ',\n",
       "        '_': '/Users/navendrasingh/opt/anaconda3/bin/jupyter',\n",
       "        'KERNEL_LAUNCH_TIMEOUT': '40',\n",
       "        'JPY_PARENT_PID': '56233',\n",
       "        'CLICOLOR': '1',\n",
       "        'PAGER': 'cat',\n",
       "        'GIT_PAGER': 'cat',\n",
       "        'MPLBACKEND': 'module://ipykernel.pylab.backend_inline',\n",
       "        'PASSWORD': 'Dipu8991'}"
      ]
     },
     "execution_count": 28,
     "metadata": {},
     "output_type": "execute_result"
    }
   ],
   "source": [
    "p"
   ]
  },
  {
   "cell_type": "code",
   "execution_count": null,
   "metadata": {},
   "outputs": [],
   "source": []
  }
 ],
 "metadata": {
  "kernelspec": {
   "display_name": "Python 3",
   "language": "python",
   "name": "python3"
  },
  "language_info": {
   "codemirror_mode": {
    "name": "ipython",
    "version": 3
   },
   "file_extension": ".py",
   "mimetype": "text/x-python",
   "name": "python",
   "nbconvert_exporter": "python",
   "pygments_lexer": "ipython3",
   "version": "3.7.6"
  }
 },
 "nbformat": 4,
 "nbformat_minor": 4
}
