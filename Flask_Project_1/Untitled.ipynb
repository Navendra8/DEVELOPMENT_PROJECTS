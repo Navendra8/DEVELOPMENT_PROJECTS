{
 "cells": [
  {
   "cell_type": "code",
   "execution_count": 1,
   "metadata": {},
   "outputs": [],
   "source": [
    "import os\n"
   ]
  },
  {
   "cell_type": "code",
   "execution_count": 2,
   "metadata": {},
   "outputs": [],
   "source": [
    "p=os.environ"
   ]
  },
  {
   "cell_type": "code",
   "execution_count": 6,
   "metadata": {},
   "outputs": [],
   "source": [
    "p['PASSWORD']=\"Dipu8991\""
   ]
  },
  {
   "cell_type": "code",
   "execution_count": 5,
   "metadata": {},
   "outputs": [
    {
     "name": "stdout",
     "output_type": "stream",
     "text": [
      "Help on _Environ in module os object:\n",
      "\n",
      "class _Environ(collections.abc.MutableMapping)\n",
      " |  _Environ(data, encodekey, decodekey, encodevalue, decodevalue, putenv, unsetenv)\n",
      " |  \n",
      " |  Method resolution order:\n",
      " |      _Environ\n",
      " |      collections.abc.MutableMapping\n",
      " |      collections.abc.Mapping\n",
      " |      collections.abc.Collection\n",
      " |      collections.abc.Sized\n",
      " |      collections.abc.Iterable\n",
      " |      collections.abc.Container\n",
      " |      builtins.object\n",
      " |  \n",
      " |  Methods defined here:\n",
      " |  \n",
      " |  __delitem__(self, key)\n",
      " |  \n",
      " |  __getitem__(self, key)\n",
      " |  \n",
      " |  __init__(self, data, encodekey, decodekey, encodevalue, decodevalue, putenv, unsetenv)\n",
      " |      Initialize self.  See help(type(self)) for accurate signature.\n",
      " |  \n",
      " |  __iter__(self)\n",
      " |  \n",
      " |  __len__(self)\n",
      " |  \n",
      " |  __repr__(self)\n",
      " |      Return repr(self).\n",
      " |  \n",
      " |  __setitem__(self, key, value)\n",
      " |  \n",
      " |  copy(self)\n",
      " |  \n",
      " |  setdefault(self, key, value)\n",
      " |      D.setdefault(k[,d]) -> D.get(k,d), also set D[k]=d if k not in D\n",
      " |  \n",
      " |  ----------------------------------------------------------------------\n",
      " |  Data descriptors defined here:\n",
      " |  \n",
      " |  __dict__\n",
      " |      dictionary for instance variables (if defined)\n",
      " |  \n",
      " |  __weakref__\n",
      " |      list of weak references to the object (if defined)\n",
      " |  \n",
      " |  ----------------------------------------------------------------------\n",
      " |  Data and other attributes defined here:\n",
      " |  \n",
      " |  __abstractmethods__ = frozenset()\n",
      " |  \n",
      " |  ----------------------------------------------------------------------\n",
      " |  Methods inherited from collections.abc.MutableMapping:\n",
      " |  \n",
      " |  clear(self)\n",
      " |      D.clear() -> None.  Remove all items from D.\n",
      " |  \n",
      " |  pop(self, key, default=<object object at 0x7f97f4674130>)\n",
      " |      D.pop(k[,d]) -> v, remove specified key and return the corresponding value.\n",
      " |      If key is not found, d is returned if given, otherwise KeyError is raised.\n",
      " |  \n",
      " |  popitem(self)\n",
      " |      D.popitem() -> (k, v), remove and return some (key, value) pair\n",
      " |      as a 2-tuple; but raise KeyError if D is empty.\n",
      " |  \n",
      " |  update(*args, **kwds)\n",
      " |      D.update([E, ]**F) -> None.  Update D from mapping/iterable E and F.\n",
      " |      If E present and has a .keys() method, does:     for k in E: D[k] = E[k]\n",
      " |      If E present and lacks .keys() method, does:     for (k, v) in E: D[k] = v\n",
      " |      In either case, this is followed by: for k, v in F.items(): D[k] = v\n",
      " |  \n",
      " |  ----------------------------------------------------------------------\n",
      " |  Methods inherited from collections.abc.Mapping:\n",
      " |  \n",
      " |  __contains__(self, key)\n",
      " |  \n",
      " |  __eq__(self, other)\n",
      " |      Return self==value.\n",
      " |  \n",
      " |  get(self, key, default=None)\n",
      " |      D.get(k[,d]) -> D[k] if k in D, else d.  d defaults to None.\n",
      " |  \n",
      " |  items(self)\n",
      " |      D.items() -> a set-like object providing a view on D's items\n",
      " |  \n",
      " |  keys(self)\n",
      " |      D.keys() -> a set-like object providing a view on D's keys\n",
      " |  \n",
      " |  values(self)\n",
      " |      D.values() -> an object providing a view on D's values\n",
      " |  \n",
      " |  ----------------------------------------------------------------------\n",
      " |  Data and other attributes inherited from collections.abc.Mapping:\n",
      " |  \n",
      " |  __hash__ = None\n",
      " |  \n",
      " |  __reversed__ = None\n",
      " |  \n",
      " |  ----------------------------------------------------------------------\n",
      " |  Class methods inherited from collections.abc.Collection:\n",
      " |  \n",
      " |  __subclasshook__(C) from abc.ABCMeta\n",
      " |      Abstract classes can override this to customize issubclass().\n",
      " |      \n",
      " |      This is invoked early on by abc.ABCMeta.__subclasscheck__().\n",
      " |      It should return True, False or NotImplemented.  If it returns\n",
      " |      NotImplemented, the normal algorithm is used.  Otherwise, it\n",
      " |      overrides the normal algorithm (and the outcome is cached).\n",
      "\n"
     ]
    }
   ],
   "source": [
    "help(os.environ)"
   ]
  },
  {
   "cell_type": "code",
   "execution_count": 3,
   "metadata": {},
   "outputs": [
    {
     "data": {
      "text/plain": [
       "environ{'TERM_PROGRAM': 'Apple_Terminal',\n",
       "        'SHELL': '/bin/zsh',\n",
       "        'TERM': 'xterm-color',\n",
       "        'TMPDIR': '/var/folders/sf/pkl6c5qs4t38vl9yqs4d1hxw0000gn/T/',\n",
       "        'TERM_PROGRAM_VERSION': '433',\n",
       "        'TERM_SESSION_ID': '1A1E47F1-4AE4-4BDD-84EF-D5530C926CC4',\n",
       "        'USER': 'navendrasingh',\n",
       "        'SSH_AUTH_SOCK': '/private/tmp/com.apple.launchd.7VEAPyernY/Listeners',\n",
       "        'PATH': '/Users/navendrasingh/opt/anaconda3/bin:/Users/navendrasingh/opt/anaconda3/condabin:/Library/Frameworks/Python.framework/Versions/3.8/bin:/usr/local/bin:/usr/bin:/bin:/usr/sbin:/sbin',\n",
       "        'PWD': '/Users/navendrasingh/Documents/d/My_project',\n",
       "        'LANG': 'en_GB.UTF-8',\n",
       "        'XPC_FLAGS': '0x0',\n",
       "        'XPC_SERVICE_NAME': '0',\n",
       "        'SHLVL': '1',\n",
       "        'HOME': '/Users/navendrasingh',\n",
       "        'LOGNAME': 'navendrasingh',\n",
       "        'OLDPWD': '/Users/navendrasingh/Documents/d/My_project',\n",
       "        'CONDA_EXE': '/Users/navendrasingh/opt/anaconda3/bin/conda',\n",
       "        '_CE_M': '',\n",
       "        '_CE_CONDA': '',\n",
       "        'CONDA_PYTHON_EXE': '/Users/navendrasingh/opt/anaconda3/bin/python',\n",
       "        'CONDA_SHLVL': '1',\n",
       "        'CONDA_PREFIX': '/Users/navendrasingh/opt/anaconda3',\n",
       "        'CONDA_DEFAULT_ENV': 'base',\n",
       "        'CONDA_PROMPT_MODIFIER': '(base) ',\n",
       "        '_': '/Users/navendrasingh/opt/anaconda3/bin/jupyter',\n",
       "        'KERNEL_LAUNCH_TIMEOUT': '40',\n",
       "        'JPY_PARENT_PID': '57663',\n",
       "        'CLICOLOR': '1',\n",
       "        'PAGER': 'cat',\n",
       "        'GIT_PAGER': 'cat',\n",
       "        'MPLBACKEND': 'module://ipykernel.pylab.backend_inline'}"
      ]
     },
     "execution_count": 3,
     "metadata": {},
     "output_type": "execute_result"
    }
   ],
   "source": [
    "p"
   ]
  },
  {
   "cell_type": "code",
   "execution_count": 4,
   "metadata": {},
   "outputs": [
    {
     "name": "stdout",
     "output_type": "stream",
     "text": [
      "Collecting django\n",
      "  Downloading Django-3.0.7-py3-none-any.whl (7.5 MB)\n",
      "\u001b[K     |████████████████████████████████| 7.5 MB 3.4 MB/s eta 0:00:01     |███                             | 675 kB 1.3 MB/s eta 0:00:06\n",
      "\u001b[?25hRequirement already satisfied: pytz in /Users/navendrasingh/opt/anaconda3/lib/python3.7/site-packages (from django) (2019.3)\n",
      "Requirement already satisfied: sqlparse>=0.2.2 in /Users/navendrasingh/opt/anaconda3/lib/python3.7/site-packages (from django) (0.3.1)\n",
      "Collecting asgiref~=3.2\n",
      "  Downloading asgiref-3.2.10-py3-none-any.whl (19 kB)\n",
      "Installing collected packages: asgiref, django\n",
      "Successfully installed asgiref-3.2.10 django-3.0.7\n",
      "Note: you may need to restart the kernel to use updated packages.\n"
     ]
    }
   ],
   "source": [
    "pip install django\n"
   ]
  },
  {
   "cell_type": "code",
   "execution_count": 1,
   "metadata": {},
   "outputs": [],
   "source": [
    "import smtplib,ssl\n",
    "from email.mime.multipart import MIMEMultipart\n",
    "from email.mime.text import MIMEText"
   ]
  },
  {
   "cell_type": "code",
   "execution_count": 1,
   "metadata": {},
   "outputs": [
    {
     "name": "stdout",
     "output_type": "stream",
     "text": [
      "Requirement already satisfied: Django==3.0.7 in /Users/navendrasingh/opt/anaconda3/lib/python3.7/site-packages (3.0.7)\n",
      "Requirement already satisfied: asgiref~=3.2 in /Users/navendrasingh/opt/anaconda3/lib/python3.7/site-packages (from Django==3.0.7) (3.2.10)\n",
      "Requirement already satisfied: pytz in /Users/navendrasingh/opt/anaconda3/lib/python3.7/site-packages (from Django==3.0.7) (2019.3)\n",
      "Requirement already satisfied: sqlparse>=0.2.2 in /Users/navendrasingh/opt/anaconda3/lib/python3.7/site-packages (from Django==3.0.7) (0.3.1)\n",
      "Note: you may need to restart the kernel to use updated packages.\n"
     ]
    }
   ],
   "source": [
    "pip install Django==3.0.7\n"
   ]
  },
  {
   "cell_type": "code",
   "execution_count": 2,
   "metadata": {},
   "outputs": [
    {
     "name": "stdout",
     "output_type": "stream",
     "text": [
      "{\"carbonEquivalent\":201.24}\n"
     ]
    }
   ],
   "source": [
    "import requests\n",
    "\n",
    "url = \"https://carbonfootprint1.p.rapidapi.com/CarbonFootprintFromFlight\"\n",
    "\n",
    "querystring = {\"distance\":\"1000\",\"type\":\"DomesticFlight\"}\n",
    "\n",
    "headers = {\n",
    "    'x-rapidapi-host': \"carbonfootprint1.p.rapidapi.com\",\n",
    "    'x-rapidapi-key': \"5eeb1e148amsh67824ebcafb1348p1d1c15jsncfb7a2cbf97f\"\n",
    "    }\n",
    "\n",
    "response = requests.request(\"GET\", url, headers=headers, params=querystring)\n",
    "\n",
    "print(response.text)"
   ]
  },
  {
   "cell_type": "code",
   "execution_count": 4,
   "metadata": {},
   "outputs": [
    {
     "name": "stdout",
     "output_type": "stream",
     "text": [
      "{\"carbonEquivalent\":402.48}\n"
     ]
    }
   ],
   "source": [
    "import requests\n",
    "\n",
    "url = \"https://carbonfootprint1.p.rapidapi.com/CarbonFootprintFromFlight\"\n",
    "\n",
    "querystring = {\"distance\":\"2000\",\"type\":\"DomesticFlight\"}\n",
    "\n",
    "headers = {\n",
    "    'x-rapidapi-host': \"carbonfootprint1.p.rapidapi.com\",\n",
    "    'x-rapidapi-key': \"5eeb1e148amsh67824ebcafb1348p1d1c15jsncfb7a2cbf97f\"\n",
    "    }\n",
    "\n",
    "response = requests.request(\"GET\", url, headers=headers, params=querystring)\n",
    "\n",
    "print(response.text)"
   ]
  },
  {
   "cell_type": "code",
   "execution_count": 5,
   "metadata": {},
   "outputs": [
    {
     "name": "stdout",
     "output_type": "stream",
     "text": [
      "{\"airQualityHealthIndex\":2}\n"
     ]
    }
   ],
   "source": [
    "import requests\n",
    "\n",
    "url = \"https://carbonfootprint1.p.rapidapi.com/AirQualityHealthIndex\"\n",
    "\n",
    "querystring = {\"O3\":\"10\",\"NO2\":\"10\",\"PM\":\"10\"}\n",
    "\n",
    "headers = {\n",
    "    'x-rapidapi-host': \"carbonfootprint1.p.rapidapi.com\",\n",
    "    'x-rapidapi-key': \"5eeb1e148amsh67824ebcafb1348p1d1c15jsncfb7a2cbf97f\"\n",
    "    }\n",
    "\n",
    "response = requests.request(\"GET\", url, headers=headers, params=querystring)\n",
    "\n",
    "print(response.text)"
   ]
  },
  {
   "cell_type": "code",
   "execution_count": 7,
   "metadata": {},
   "outputs": [
    {
     "name": "stdout",
     "output_type": "stream",
     "text": [
      "{\"carbonEquivalent\":0.0}\n"
     ]
    }
   ],
   "source": [
    "import requests\n",
    "\n",
    "url = \"https://carbonfootprint1.p.rapidapi.com/CarbonFootprintFromCarTravel\"\n",
    "\n",
    "querystring = {\"distance\":\"100\",\"vehicle\":\"\"}\n",
    "\n",
    "headers = {\n",
    "    'x-rapidapi-host': \"carbonfootprint1.p.rapidapi.com\",\n",
    "    'x-rapidapi-key': \"5eeb1e148amsh67824ebcafb1348p1d1c15jsncfb7a2cbf97f\"\n",
    "    }\n",
    "\n",
    "response = requests.request(\"GET\", url, headers=headers, params=querystring)\n",
    "\n",
    "print(response.text)"
   ]
  },
  {
   "cell_type": "code",
   "execution_count": 8,
   "metadata": {},
   "outputs": [
    {
     "ename": "ConnectionError",
     "evalue": "HTTPSConnectionPool(host='beekeeping-research.p.rapidapi.comhttps', port=443): Max retries exceeded with url: //api.beekeeping.io (Caused by NewConnectionError('<urllib3.connection.VerifiedHTTPSConnection object at 0x7fbccd44ec50>: Failed to establish a new connection: [Errno 8] nodename nor servname provided, or not known'))",
     "output_type": "error",
     "traceback": [
      "\u001b[0;31m---------------------------------------------------------------------------\u001b[0m",
      "\u001b[0;31mgaierror\u001b[0m                                  Traceback (most recent call last)",
      "\u001b[0;32m~/opt/anaconda3/lib/python3.7/site-packages/urllib3/connection.py\u001b[0m in \u001b[0;36m_new_conn\u001b[0;34m(self)\u001b[0m\n\u001b[1;32m    156\u001b[0m             conn = connection.create_connection(\n\u001b[0;32m--> 157\u001b[0;31m                 \u001b[0;34m(\u001b[0m\u001b[0mself\u001b[0m\u001b[0;34m.\u001b[0m\u001b[0m_dns_host\u001b[0m\u001b[0;34m,\u001b[0m \u001b[0mself\u001b[0m\u001b[0;34m.\u001b[0m\u001b[0mport\u001b[0m\u001b[0;34m)\u001b[0m\u001b[0;34m,\u001b[0m \u001b[0mself\u001b[0m\u001b[0;34m.\u001b[0m\u001b[0mtimeout\u001b[0m\u001b[0;34m,\u001b[0m \u001b[0;34m**\u001b[0m\u001b[0mextra_kw\u001b[0m\u001b[0;34m\u001b[0m\u001b[0;34m\u001b[0m\u001b[0m\n\u001b[0m\u001b[1;32m    158\u001b[0m             )\n",
      "\u001b[0;32m~/opt/anaconda3/lib/python3.7/site-packages/urllib3/util/connection.py\u001b[0m in \u001b[0;36mcreate_connection\u001b[0;34m(address, timeout, source_address, socket_options)\u001b[0m\n\u001b[1;32m     60\u001b[0m \u001b[0;34m\u001b[0m\u001b[0m\n\u001b[0;32m---> 61\u001b[0;31m     \u001b[0;32mfor\u001b[0m \u001b[0mres\u001b[0m \u001b[0;32min\u001b[0m \u001b[0msocket\u001b[0m\u001b[0;34m.\u001b[0m\u001b[0mgetaddrinfo\u001b[0m\u001b[0;34m(\u001b[0m\u001b[0mhost\u001b[0m\u001b[0;34m,\u001b[0m \u001b[0mport\u001b[0m\u001b[0;34m,\u001b[0m \u001b[0mfamily\u001b[0m\u001b[0;34m,\u001b[0m \u001b[0msocket\u001b[0m\u001b[0;34m.\u001b[0m\u001b[0mSOCK_STREAM\u001b[0m\u001b[0;34m)\u001b[0m\u001b[0;34m:\u001b[0m\u001b[0;34m\u001b[0m\u001b[0;34m\u001b[0m\u001b[0m\n\u001b[0m\u001b[1;32m     62\u001b[0m         \u001b[0maf\u001b[0m\u001b[0;34m,\u001b[0m \u001b[0msocktype\u001b[0m\u001b[0;34m,\u001b[0m \u001b[0mproto\u001b[0m\u001b[0;34m,\u001b[0m \u001b[0mcanonname\u001b[0m\u001b[0;34m,\u001b[0m \u001b[0msa\u001b[0m \u001b[0;34m=\u001b[0m \u001b[0mres\u001b[0m\u001b[0;34m\u001b[0m\u001b[0;34m\u001b[0m\u001b[0m\n",
      "\u001b[0;32m~/opt/anaconda3/lib/python3.7/socket.py\u001b[0m in \u001b[0;36mgetaddrinfo\u001b[0;34m(host, port, family, type, proto, flags)\u001b[0m\n\u001b[1;32m    751\u001b[0m     \u001b[0maddrlist\u001b[0m \u001b[0;34m=\u001b[0m \u001b[0;34m[\u001b[0m\u001b[0;34m]\u001b[0m\u001b[0;34m\u001b[0m\u001b[0;34m\u001b[0m\u001b[0m\n\u001b[0;32m--> 752\u001b[0;31m     \u001b[0;32mfor\u001b[0m \u001b[0mres\u001b[0m \u001b[0;32min\u001b[0m \u001b[0m_socket\u001b[0m\u001b[0;34m.\u001b[0m\u001b[0mgetaddrinfo\u001b[0m\u001b[0;34m(\u001b[0m\u001b[0mhost\u001b[0m\u001b[0;34m,\u001b[0m \u001b[0mport\u001b[0m\u001b[0;34m,\u001b[0m \u001b[0mfamily\u001b[0m\u001b[0;34m,\u001b[0m \u001b[0mtype\u001b[0m\u001b[0;34m,\u001b[0m \u001b[0mproto\u001b[0m\u001b[0;34m,\u001b[0m \u001b[0mflags\u001b[0m\u001b[0;34m)\u001b[0m\u001b[0;34m:\u001b[0m\u001b[0;34m\u001b[0m\u001b[0;34m\u001b[0m\u001b[0m\n\u001b[0m\u001b[1;32m    753\u001b[0m         \u001b[0maf\u001b[0m\u001b[0;34m,\u001b[0m \u001b[0msocktype\u001b[0m\u001b[0;34m,\u001b[0m \u001b[0mproto\u001b[0m\u001b[0;34m,\u001b[0m \u001b[0mcanonname\u001b[0m\u001b[0;34m,\u001b[0m \u001b[0msa\u001b[0m \u001b[0;34m=\u001b[0m \u001b[0mres\u001b[0m\u001b[0;34m\u001b[0m\u001b[0;34m\u001b[0m\u001b[0m\n",
      "\u001b[0;31mgaierror\u001b[0m: [Errno 8] nodename nor servname provided, or not known",
      "\nDuring handling of the above exception, another exception occurred:\n",
      "\u001b[0;31mNewConnectionError\u001b[0m                        Traceback (most recent call last)",
      "\u001b[0;32m~/opt/anaconda3/lib/python3.7/site-packages/urllib3/connectionpool.py\u001b[0m in \u001b[0;36murlopen\u001b[0;34m(self, method, url, body, headers, retries, redirect, assert_same_host, timeout, pool_timeout, release_conn, chunked, body_pos, **response_kw)\u001b[0m\n\u001b[1;32m    671\u001b[0m                 \u001b[0mheaders\u001b[0m\u001b[0;34m=\u001b[0m\u001b[0mheaders\u001b[0m\u001b[0;34m,\u001b[0m\u001b[0;34m\u001b[0m\u001b[0;34m\u001b[0m\u001b[0m\n\u001b[0;32m--> 672\u001b[0;31m                 \u001b[0mchunked\u001b[0m\u001b[0;34m=\u001b[0m\u001b[0mchunked\u001b[0m\u001b[0;34m,\u001b[0m\u001b[0;34m\u001b[0m\u001b[0;34m\u001b[0m\u001b[0m\n\u001b[0m\u001b[1;32m    673\u001b[0m             )\n",
      "\u001b[0;32m~/opt/anaconda3/lib/python3.7/site-packages/urllib3/connectionpool.py\u001b[0m in \u001b[0;36m_make_request\u001b[0;34m(self, conn, method, url, timeout, chunked, **httplib_request_kw)\u001b[0m\n\u001b[1;32m    375\u001b[0m         \u001b[0;32mtry\u001b[0m\u001b[0;34m:\u001b[0m\u001b[0;34m\u001b[0m\u001b[0;34m\u001b[0m\u001b[0m\n\u001b[0;32m--> 376\u001b[0;31m             \u001b[0mself\u001b[0m\u001b[0;34m.\u001b[0m\u001b[0m_validate_conn\u001b[0m\u001b[0;34m(\u001b[0m\u001b[0mconn\u001b[0m\u001b[0;34m)\u001b[0m\u001b[0;34m\u001b[0m\u001b[0;34m\u001b[0m\u001b[0m\n\u001b[0m\u001b[1;32m    377\u001b[0m         \u001b[0;32mexcept\u001b[0m \u001b[0;34m(\u001b[0m\u001b[0mSocketTimeout\u001b[0m\u001b[0;34m,\u001b[0m \u001b[0mBaseSSLError\u001b[0m\u001b[0;34m)\u001b[0m \u001b[0;32mas\u001b[0m \u001b[0me\u001b[0m\u001b[0;34m:\u001b[0m\u001b[0;34m\u001b[0m\u001b[0;34m\u001b[0m\u001b[0m\n",
      "\u001b[0;32m~/opt/anaconda3/lib/python3.7/site-packages/urllib3/connectionpool.py\u001b[0m in \u001b[0;36m_validate_conn\u001b[0;34m(self, conn)\u001b[0m\n\u001b[1;32m    993\u001b[0m         \u001b[0;32mif\u001b[0m \u001b[0;32mnot\u001b[0m \u001b[0mgetattr\u001b[0m\u001b[0;34m(\u001b[0m\u001b[0mconn\u001b[0m\u001b[0;34m,\u001b[0m \u001b[0;34m\"sock\"\u001b[0m\u001b[0;34m,\u001b[0m \u001b[0;32mNone\u001b[0m\u001b[0;34m)\u001b[0m\u001b[0;34m:\u001b[0m  \u001b[0;31m# AppEngine might not have  `.sock`\u001b[0m\u001b[0;34m\u001b[0m\u001b[0;34m\u001b[0m\u001b[0m\n\u001b[0;32m--> 994\u001b[0;31m             \u001b[0mconn\u001b[0m\u001b[0;34m.\u001b[0m\u001b[0mconnect\u001b[0m\u001b[0;34m(\u001b[0m\u001b[0;34m)\u001b[0m\u001b[0;34m\u001b[0m\u001b[0;34m\u001b[0m\u001b[0m\n\u001b[0m\u001b[1;32m    995\u001b[0m \u001b[0;34m\u001b[0m\u001b[0m\n",
      "\u001b[0;32m~/opt/anaconda3/lib/python3.7/site-packages/urllib3/connection.py\u001b[0m in \u001b[0;36mconnect\u001b[0;34m(self)\u001b[0m\n\u001b[1;32m    299\u001b[0m         \u001b[0;31m# Add certificate verification\u001b[0m\u001b[0;34m\u001b[0m\u001b[0;34m\u001b[0m\u001b[0;34m\u001b[0m\u001b[0m\n\u001b[0;32m--> 300\u001b[0;31m         \u001b[0mconn\u001b[0m \u001b[0;34m=\u001b[0m \u001b[0mself\u001b[0m\u001b[0;34m.\u001b[0m\u001b[0m_new_conn\u001b[0m\u001b[0;34m(\u001b[0m\u001b[0;34m)\u001b[0m\u001b[0;34m\u001b[0m\u001b[0;34m\u001b[0m\u001b[0m\n\u001b[0m\u001b[1;32m    301\u001b[0m         \u001b[0mhostname\u001b[0m \u001b[0;34m=\u001b[0m \u001b[0mself\u001b[0m\u001b[0;34m.\u001b[0m\u001b[0mhost\u001b[0m\u001b[0;34m\u001b[0m\u001b[0;34m\u001b[0m\u001b[0m\n",
      "\u001b[0;32m~/opt/anaconda3/lib/python3.7/site-packages/urllib3/connection.py\u001b[0m in \u001b[0;36m_new_conn\u001b[0;34m(self)\u001b[0m\n\u001b[1;32m    168\u001b[0m             raise NewConnectionError(\n\u001b[0;32m--> 169\u001b[0;31m                 \u001b[0mself\u001b[0m\u001b[0;34m,\u001b[0m \u001b[0;34m\"Failed to establish a new connection: %s\"\u001b[0m \u001b[0;34m%\u001b[0m \u001b[0me\u001b[0m\u001b[0;34m\u001b[0m\u001b[0;34m\u001b[0m\u001b[0m\n\u001b[0m\u001b[1;32m    170\u001b[0m             )\n",
      "\u001b[0;31mNewConnectionError\u001b[0m: <urllib3.connection.VerifiedHTTPSConnection object at 0x7fbccd44ec50>: Failed to establish a new connection: [Errno 8] nodename nor servname provided, or not known",
      "\nDuring handling of the above exception, another exception occurred:\n",
      "\u001b[0;31mMaxRetryError\u001b[0m                             Traceback (most recent call last)",
      "\u001b[0;32m~/opt/anaconda3/lib/python3.7/site-packages/requests/adapters.py\u001b[0m in \u001b[0;36msend\u001b[0;34m(self, request, stream, timeout, verify, cert, proxies)\u001b[0m\n\u001b[1;32m    448\u001b[0m                     \u001b[0mretries\u001b[0m\u001b[0;34m=\u001b[0m\u001b[0mself\u001b[0m\u001b[0;34m.\u001b[0m\u001b[0mmax_retries\u001b[0m\u001b[0;34m,\u001b[0m\u001b[0;34m\u001b[0m\u001b[0;34m\u001b[0m\u001b[0m\n\u001b[0;32m--> 449\u001b[0;31m                     \u001b[0mtimeout\u001b[0m\u001b[0;34m=\u001b[0m\u001b[0mtimeout\u001b[0m\u001b[0;34m\u001b[0m\u001b[0;34m\u001b[0m\u001b[0m\n\u001b[0m\u001b[1;32m    450\u001b[0m                 )\n",
      "\u001b[0;32m~/opt/anaconda3/lib/python3.7/site-packages/urllib3/connectionpool.py\u001b[0m in \u001b[0;36murlopen\u001b[0;34m(self, method, url, body, headers, retries, redirect, assert_same_host, timeout, pool_timeout, release_conn, chunked, body_pos, **response_kw)\u001b[0m\n\u001b[1;32m    719\u001b[0m             retries = retries.increment(\n\u001b[0;32m--> 720\u001b[0;31m                 \u001b[0mmethod\u001b[0m\u001b[0;34m,\u001b[0m \u001b[0murl\u001b[0m\u001b[0;34m,\u001b[0m \u001b[0merror\u001b[0m\u001b[0;34m=\u001b[0m\u001b[0me\u001b[0m\u001b[0;34m,\u001b[0m \u001b[0m_pool\u001b[0m\u001b[0;34m=\u001b[0m\u001b[0mself\u001b[0m\u001b[0;34m,\u001b[0m \u001b[0m_stacktrace\u001b[0m\u001b[0;34m=\u001b[0m\u001b[0msys\u001b[0m\u001b[0;34m.\u001b[0m\u001b[0mexc_info\u001b[0m\u001b[0;34m(\u001b[0m\u001b[0;34m)\u001b[0m\u001b[0;34m[\u001b[0m\u001b[0;36m2\u001b[0m\u001b[0;34m]\u001b[0m\u001b[0;34m\u001b[0m\u001b[0;34m\u001b[0m\u001b[0m\n\u001b[0m\u001b[1;32m    721\u001b[0m             )\n",
      "\u001b[0;32m~/opt/anaconda3/lib/python3.7/site-packages/urllib3/util/retry.py\u001b[0m in \u001b[0;36mincrement\u001b[0;34m(self, method, url, response, error, _pool, _stacktrace)\u001b[0m\n\u001b[1;32m    435\u001b[0m         \u001b[0;32mif\u001b[0m \u001b[0mnew_retry\u001b[0m\u001b[0;34m.\u001b[0m\u001b[0mis_exhausted\u001b[0m\u001b[0;34m(\u001b[0m\u001b[0;34m)\u001b[0m\u001b[0;34m:\u001b[0m\u001b[0;34m\u001b[0m\u001b[0;34m\u001b[0m\u001b[0m\n\u001b[0;32m--> 436\u001b[0;31m             \u001b[0;32mraise\u001b[0m \u001b[0mMaxRetryError\u001b[0m\u001b[0;34m(\u001b[0m\u001b[0m_pool\u001b[0m\u001b[0;34m,\u001b[0m \u001b[0murl\u001b[0m\u001b[0;34m,\u001b[0m \u001b[0merror\u001b[0m \u001b[0;32mor\u001b[0m \u001b[0mResponseError\u001b[0m\u001b[0;34m(\u001b[0m\u001b[0mcause\u001b[0m\u001b[0;34m)\u001b[0m\u001b[0;34m)\u001b[0m\u001b[0;34m\u001b[0m\u001b[0;34m\u001b[0m\u001b[0m\n\u001b[0m\u001b[1;32m    437\u001b[0m \u001b[0;34m\u001b[0m\u001b[0m\n",
      "\u001b[0;31mMaxRetryError\u001b[0m: HTTPSConnectionPool(host='beekeeping-research.p.rapidapi.comhttps', port=443): Max retries exceeded with url: //api.beekeeping.io (Caused by NewConnectionError('<urllib3.connection.VerifiedHTTPSConnection object at 0x7fbccd44ec50>: Failed to establish a new connection: [Errno 8] nodename nor servname provided, or not known'))",
      "\nDuring handling of the above exception, another exception occurred:\n",
      "\u001b[0;31mConnectionError\u001b[0m                           Traceback (most recent call last)",
      "\u001b[0;32m<ipython-input-8-b8032438e04f>\u001b[0m in \u001b[0;36m<module>\u001b[0;34m\u001b[0m\n\u001b[1;32m      8\u001b[0m     }\n\u001b[1;32m      9\u001b[0m \u001b[0;34m\u001b[0m\u001b[0m\n\u001b[0;32m---> 10\u001b[0;31m \u001b[0mresponse\u001b[0m \u001b[0;34m=\u001b[0m \u001b[0mrequests\u001b[0m\u001b[0;34m.\u001b[0m\u001b[0mrequest\u001b[0m\u001b[0;34m(\u001b[0m\u001b[0;34m\"GET\"\u001b[0m\u001b[0;34m,\u001b[0m \u001b[0murl\u001b[0m\u001b[0;34m,\u001b[0m \u001b[0mheaders\u001b[0m\u001b[0;34m=\u001b[0m\u001b[0mheaders\u001b[0m\u001b[0;34m)\u001b[0m\u001b[0;34m\u001b[0m\u001b[0;34m\u001b[0m\u001b[0m\n\u001b[0m\u001b[1;32m     11\u001b[0m \u001b[0;34m\u001b[0m\u001b[0m\n\u001b[1;32m     12\u001b[0m \u001b[0mprint\u001b[0m\u001b[0;34m(\u001b[0m\u001b[0mresponse\u001b[0m\u001b[0;34m.\u001b[0m\u001b[0mtext\u001b[0m\u001b[0;34m)\u001b[0m\u001b[0;34m\u001b[0m\u001b[0;34m\u001b[0m\u001b[0m\n",
      "\u001b[0;32m~/opt/anaconda3/lib/python3.7/site-packages/requests/api.py\u001b[0m in \u001b[0;36mrequest\u001b[0;34m(method, url, **kwargs)\u001b[0m\n\u001b[1;32m     58\u001b[0m     \u001b[0;31m# cases, and look like a memory leak in others.\u001b[0m\u001b[0;34m\u001b[0m\u001b[0;34m\u001b[0m\u001b[0;34m\u001b[0m\u001b[0m\n\u001b[1;32m     59\u001b[0m     \u001b[0;32mwith\u001b[0m \u001b[0msessions\u001b[0m\u001b[0;34m.\u001b[0m\u001b[0mSession\u001b[0m\u001b[0;34m(\u001b[0m\u001b[0;34m)\u001b[0m \u001b[0;32mas\u001b[0m \u001b[0msession\u001b[0m\u001b[0;34m:\u001b[0m\u001b[0;34m\u001b[0m\u001b[0;34m\u001b[0m\u001b[0m\n\u001b[0;32m---> 60\u001b[0;31m         \u001b[0;32mreturn\u001b[0m \u001b[0msession\u001b[0m\u001b[0;34m.\u001b[0m\u001b[0mrequest\u001b[0m\u001b[0;34m(\u001b[0m\u001b[0mmethod\u001b[0m\u001b[0;34m=\u001b[0m\u001b[0mmethod\u001b[0m\u001b[0;34m,\u001b[0m \u001b[0murl\u001b[0m\u001b[0;34m=\u001b[0m\u001b[0murl\u001b[0m\u001b[0;34m,\u001b[0m \u001b[0;34m**\u001b[0m\u001b[0mkwargs\u001b[0m\u001b[0;34m)\u001b[0m\u001b[0;34m\u001b[0m\u001b[0;34m\u001b[0m\u001b[0m\n\u001b[0m\u001b[1;32m     61\u001b[0m \u001b[0;34m\u001b[0m\u001b[0m\n\u001b[1;32m     62\u001b[0m \u001b[0;34m\u001b[0m\u001b[0m\n",
      "\u001b[0;32m~/opt/anaconda3/lib/python3.7/site-packages/requests/sessions.py\u001b[0m in \u001b[0;36mrequest\u001b[0;34m(self, method, url, params, data, headers, cookies, files, auth, timeout, allow_redirects, proxies, hooks, stream, verify, cert, json)\u001b[0m\n\u001b[1;32m    531\u001b[0m         }\n\u001b[1;32m    532\u001b[0m         \u001b[0msend_kwargs\u001b[0m\u001b[0;34m.\u001b[0m\u001b[0mupdate\u001b[0m\u001b[0;34m(\u001b[0m\u001b[0msettings\u001b[0m\u001b[0;34m)\u001b[0m\u001b[0;34m\u001b[0m\u001b[0;34m\u001b[0m\u001b[0m\n\u001b[0;32m--> 533\u001b[0;31m         \u001b[0mresp\u001b[0m \u001b[0;34m=\u001b[0m \u001b[0mself\u001b[0m\u001b[0;34m.\u001b[0m\u001b[0msend\u001b[0m\u001b[0;34m(\u001b[0m\u001b[0mprep\u001b[0m\u001b[0;34m,\u001b[0m \u001b[0;34m**\u001b[0m\u001b[0msend_kwargs\u001b[0m\u001b[0;34m)\u001b[0m\u001b[0;34m\u001b[0m\u001b[0;34m\u001b[0m\u001b[0m\n\u001b[0m\u001b[1;32m    534\u001b[0m \u001b[0;34m\u001b[0m\u001b[0m\n\u001b[1;32m    535\u001b[0m         \u001b[0;32mreturn\u001b[0m \u001b[0mresp\u001b[0m\u001b[0;34m\u001b[0m\u001b[0;34m\u001b[0m\u001b[0m\n",
      "\u001b[0;32m~/opt/anaconda3/lib/python3.7/site-packages/requests/sessions.py\u001b[0m in \u001b[0;36msend\u001b[0;34m(self, request, **kwargs)\u001b[0m\n\u001b[1;32m    644\u001b[0m \u001b[0;34m\u001b[0m\u001b[0m\n\u001b[1;32m    645\u001b[0m         \u001b[0;31m# Send the request\u001b[0m\u001b[0;34m\u001b[0m\u001b[0;34m\u001b[0m\u001b[0;34m\u001b[0m\u001b[0m\n\u001b[0;32m--> 646\u001b[0;31m         \u001b[0mr\u001b[0m \u001b[0;34m=\u001b[0m \u001b[0madapter\u001b[0m\u001b[0;34m.\u001b[0m\u001b[0msend\u001b[0m\u001b[0;34m(\u001b[0m\u001b[0mrequest\u001b[0m\u001b[0;34m,\u001b[0m \u001b[0;34m**\u001b[0m\u001b[0mkwargs\u001b[0m\u001b[0;34m)\u001b[0m\u001b[0;34m\u001b[0m\u001b[0;34m\u001b[0m\u001b[0m\n\u001b[0m\u001b[1;32m    647\u001b[0m \u001b[0;34m\u001b[0m\u001b[0m\n\u001b[1;32m    648\u001b[0m         \u001b[0;31m# Total elapsed time of the request (approximately)\u001b[0m\u001b[0;34m\u001b[0m\u001b[0;34m\u001b[0m\u001b[0;34m\u001b[0m\u001b[0m\n",
      "\u001b[0;32m~/opt/anaconda3/lib/python3.7/site-packages/requests/adapters.py\u001b[0m in \u001b[0;36msend\u001b[0;34m(self, request, stream, timeout, verify, cert, proxies)\u001b[0m\n\u001b[1;32m    514\u001b[0m                 \u001b[0;32mraise\u001b[0m \u001b[0mSSLError\u001b[0m\u001b[0;34m(\u001b[0m\u001b[0me\u001b[0m\u001b[0;34m,\u001b[0m \u001b[0mrequest\u001b[0m\u001b[0;34m=\u001b[0m\u001b[0mrequest\u001b[0m\u001b[0;34m)\u001b[0m\u001b[0;34m\u001b[0m\u001b[0;34m\u001b[0m\u001b[0m\n\u001b[1;32m    515\u001b[0m \u001b[0;34m\u001b[0m\u001b[0m\n\u001b[0;32m--> 516\u001b[0;31m             \u001b[0;32mraise\u001b[0m \u001b[0mConnectionError\u001b[0m\u001b[0;34m(\u001b[0m\u001b[0me\u001b[0m\u001b[0;34m,\u001b[0m \u001b[0mrequest\u001b[0m\u001b[0;34m=\u001b[0m\u001b[0mrequest\u001b[0m\u001b[0;34m)\u001b[0m\u001b[0;34m\u001b[0m\u001b[0;34m\u001b[0m\u001b[0m\n\u001b[0m\u001b[1;32m    517\u001b[0m \u001b[0;34m\u001b[0m\u001b[0m\n\u001b[1;32m    518\u001b[0m         \u001b[0;32mexcept\u001b[0m \u001b[0mClosedPoolError\u001b[0m \u001b[0;32mas\u001b[0m \u001b[0me\u001b[0m\u001b[0;34m:\u001b[0m\u001b[0;34m\u001b[0m\u001b[0;34m\u001b[0m\u001b[0m\n",
      "\u001b[0;31mConnectionError\u001b[0m: HTTPSConnectionPool(host='beekeeping-research.p.rapidapi.comhttps', port=443): Max retries exceeded with url: //api.beekeeping.io (Caused by NewConnectionError('<urllib3.connection.VerifiedHTTPSConnection object at 0x7fbccd44ec50>: Failed to establish a new connection: [Errno 8] nodename nor servname provided, or not known'))"
     ]
    }
   ],
   "source": [
    "import requests\n",
    "\n",
    "url = \"https://beekeeping-research.p.rapidapi.comhttps//api.beekeeping.io\"\n",
    "\n",
    "headers = {\n",
    "    'x-rapidapi-host': \"beekeeping-research.p.rapidapi.com\",\n",
    "    'x-rapidapi-key': \"5eeb1e148amsh67824ebcafb1348p1d1c15jsncfb7a2cbf97f\"\n",
    "    }\n",
    "\n",
    "response = requests.request(\"GET\", url, headers=headers)\n",
    "\n",
    "print(response.text)"
   ]
  },
  {
   "cell_type": "code",
   "execution_count": 13,
   "metadata": {},
   "outputs": [
    {
     "name": "stdout",
     "output_type": "stream",
     "text": [
      "city namejaipur\n",
      "staterajastha\n",
      "countryindia\n"
     ]
    },
    {
     "ename": "UnicodeError",
     "evalue": "encoding with 'idna' codec failed (UnicodeError: label too long)",
     "output_type": "error",
     "traceback": [
      "\u001b[0;31m---------------------------------------------------------------------------\u001b[0m",
      "\u001b[0;31mUnicodeError\u001b[0m                              Traceback (most recent call last)",
      "\u001b[0;32m~/opt/anaconda3/lib/python3.7/encodings/idna.py\u001b[0m in \u001b[0;36mencode\u001b[0;34m(self, input, errors)\u001b[0m\n\u001b[1;32m    166\u001b[0m             \u001b[0;32mif\u001b[0m \u001b[0mlen\u001b[0m\u001b[0;34m(\u001b[0m\u001b[0mlabels\u001b[0m\u001b[0;34m[\u001b[0m\u001b[0;34m-\u001b[0m\u001b[0;36m1\u001b[0m\u001b[0;34m]\u001b[0m\u001b[0;34m)\u001b[0m \u001b[0;34m>=\u001b[0m \u001b[0;36m64\u001b[0m\u001b[0;34m:\u001b[0m\u001b[0;34m\u001b[0m\u001b[0;34m\u001b[0m\u001b[0m\n\u001b[0;32m--> 167\u001b[0;31m                 \u001b[0;32mraise\u001b[0m \u001b[0mUnicodeError\u001b[0m\u001b[0;34m(\u001b[0m\u001b[0;34m\"label too long\"\u001b[0m\u001b[0;34m)\u001b[0m\u001b[0;34m\u001b[0m\u001b[0;34m\u001b[0m\u001b[0m\n\u001b[0m\u001b[1;32m    168\u001b[0m             \u001b[0;32mreturn\u001b[0m \u001b[0mresult\u001b[0m\u001b[0;34m,\u001b[0m \u001b[0mlen\u001b[0m\u001b[0;34m(\u001b[0m\u001b[0minput\u001b[0m\u001b[0;34m)\u001b[0m\u001b[0;34m\u001b[0m\u001b[0;34m\u001b[0m\u001b[0m\n",
      "\u001b[0;31mUnicodeError\u001b[0m: label too long",
      "\nThe above exception was the direct cause of the following exception:\n",
      "\u001b[0;31mUnicodeError\u001b[0m                              Traceback (most recent call last)",
      "\u001b[0;32m<ipython-input-13-4386105f44d6>\u001b[0m in \u001b[0;36m<module>\u001b[0;34m\u001b[0m\n\u001b[1;32m     13\u001b[0m     }\n\u001b[1;32m     14\u001b[0m \u001b[0;34m\u001b[0m\u001b[0m\n\u001b[0;32m---> 15\u001b[0;31m \u001b[0mconn\u001b[0m\u001b[0;34m.\u001b[0m\u001b[0mrequest\u001b[0m\u001b[0;34m(\u001b[0m\u001b[0;34m\"POST\"\u001b[0m\u001b[0;34m,\u001b[0m \u001b[0;34m\"/getAirQuality\"\u001b[0m\u001b[0;34m,\u001b[0m \u001b[0mpayload\u001b[0m\u001b[0;34m,\u001b[0m \u001b[0mheaders\u001b[0m\u001b[0;34m)\u001b[0m\u001b[0;34m\u001b[0m\u001b[0;34m\u001b[0m\u001b[0m\n\u001b[0m\u001b[1;32m     16\u001b[0m \u001b[0;34m\u001b[0m\u001b[0m\n\u001b[1;32m     17\u001b[0m \u001b[0mres\u001b[0m \u001b[0;34m=\u001b[0m \u001b[0mconn\u001b[0m\u001b[0;34m.\u001b[0m\u001b[0mgetresponse\u001b[0m\u001b[0;34m(\u001b[0m\u001b[0;34m)\u001b[0m\u001b[0;34m\u001b[0m\u001b[0;34m\u001b[0m\u001b[0m\n",
      "\u001b[0;32m~/opt/anaconda3/lib/python3.7/http/client.py\u001b[0m in \u001b[0;36mrequest\u001b[0;34m(self, method, url, body, headers, encode_chunked)\u001b[0m\n\u001b[1;32m   1250\u001b[0m                 encode_chunked=False):\n\u001b[1;32m   1251\u001b[0m         \u001b[0;34m\"\"\"Send a complete request to the server.\"\"\"\u001b[0m\u001b[0;34m\u001b[0m\u001b[0;34m\u001b[0m\u001b[0m\n\u001b[0;32m-> 1252\u001b[0;31m         \u001b[0mself\u001b[0m\u001b[0;34m.\u001b[0m\u001b[0m_send_request\u001b[0m\u001b[0;34m(\u001b[0m\u001b[0mmethod\u001b[0m\u001b[0;34m,\u001b[0m \u001b[0murl\u001b[0m\u001b[0;34m,\u001b[0m \u001b[0mbody\u001b[0m\u001b[0;34m,\u001b[0m \u001b[0mheaders\u001b[0m\u001b[0;34m,\u001b[0m \u001b[0mencode_chunked\u001b[0m\u001b[0;34m)\u001b[0m\u001b[0;34m\u001b[0m\u001b[0;34m\u001b[0m\u001b[0m\n\u001b[0m\u001b[1;32m   1253\u001b[0m \u001b[0;34m\u001b[0m\u001b[0m\n\u001b[1;32m   1254\u001b[0m     \u001b[0;32mdef\u001b[0m \u001b[0m_send_request\u001b[0m\u001b[0;34m(\u001b[0m\u001b[0mself\u001b[0m\u001b[0;34m,\u001b[0m \u001b[0mmethod\u001b[0m\u001b[0;34m,\u001b[0m \u001b[0murl\u001b[0m\u001b[0;34m,\u001b[0m \u001b[0mbody\u001b[0m\u001b[0;34m,\u001b[0m \u001b[0mheaders\u001b[0m\u001b[0;34m,\u001b[0m \u001b[0mencode_chunked\u001b[0m\u001b[0;34m)\u001b[0m\u001b[0;34m:\u001b[0m\u001b[0;34m\u001b[0m\u001b[0;34m\u001b[0m\u001b[0m\n",
      "\u001b[0;32m~/opt/anaconda3/lib/python3.7/http/client.py\u001b[0m in \u001b[0;36m_send_request\u001b[0;34m(self, method, url, body, headers, encode_chunked)\u001b[0m\n\u001b[1;32m   1296\u001b[0m             \u001b[0;31m# default charset of iso-8859-1.\u001b[0m\u001b[0;34m\u001b[0m\u001b[0;34m\u001b[0m\u001b[0;34m\u001b[0m\u001b[0m\n\u001b[1;32m   1297\u001b[0m             \u001b[0mbody\u001b[0m \u001b[0;34m=\u001b[0m \u001b[0m_encode\u001b[0m\u001b[0;34m(\u001b[0m\u001b[0mbody\u001b[0m\u001b[0;34m,\u001b[0m \u001b[0;34m'body'\u001b[0m\u001b[0;34m)\u001b[0m\u001b[0;34m\u001b[0m\u001b[0;34m\u001b[0m\u001b[0m\n\u001b[0;32m-> 1298\u001b[0;31m         \u001b[0mself\u001b[0m\u001b[0;34m.\u001b[0m\u001b[0mendheaders\u001b[0m\u001b[0;34m(\u001b[0m\u001b[0mbody\u001b[0m\u001b[0;34m,\u001b[0m \u001b[0mencode_chunked\u001b[0m\u001b[0;34m=\u001b[0m\u001b[0mencode_chunked\u001b[0m\u001b[0;34m)\u001b[0m\u001b[0;34m\u001b[0m\u001b[0;34m\u001b[0m\u001b[0m\n\u001b[0m\u001b[1;32m   1299\u001b[0m \u001b[0;34m\u001b[0m\u001b[0m\n\u001b[1;32m   1300\u001b[0m     \u001b[0;32mdef\u001b[0m \u001b[0mgetresponse\u001b[0m\u001b[0;34m(\u001b[0m\u001b[0mself\u001b[0m\u001b[0;34m)\u001b[0m\u001b[0;34m:\u001b[0m\u001b[0;34m\u001b[0m\u001b[0;34m\u001b[0m\u001b[0m\n",
      "\u001b[0;32m~/opt/anaconda3/lib/python3.7/http/client.py\u001b[0m in \u001b[0;36mendheaders\u001b[0;34m(self, message_body, encode_chunked)\u001b[0m\n\u001b[1;32m   1245\u001b[0m         \u001b[0;32melse\u001b[0m\u001b[0;34m:\u001b[0m\u001b[0;34m\u001b[0m\u001b[0;34m\u001b[0m\u001b[0m\n\u001b[1;32m   1246\u001b[0m             \u001b[0;32mraise\u001b[0m \u001b[0mCannotSendHeader\u001b[0m\u001b[0;34m(\u001b[0m\u001b[0;34m)\u001b[0m\u001b[0;34m\u001b[0m\u001b[0;34m\u001b[0m\u001b[0m\n\u001b[0;32m-> 1247\u001b[0;31m         \u001b[0mself\u001b[0m\u001b[0;34m.\u001b[0m\u001b[0m_send_output\u001b[0m\u001b[0;34m(\u001b[0m\u001b[0mmessage_body\u001b[0m\u001b[0;34m,\u001b[0m \u001b[0mencode_chunked\u001b[0m\u001b[0;34m=\u001b[0m\u001b[0mencode_chunked\u001b[0m\u001b[0;34m)\u001b[0m\u001b[0;34m\u001b[0m\u001b[0;34m\u001b[0m\u001b[0m\n\u001b[0m\u001b[1;32m   1248\u001b[0m \u001b[0;34m\u001b[0m\u001b[0m\n\u001b[1;32m   1249\u001b[0m     def request(self, method, url, body=None, headers={}, *,\n",
      "\u001b[0;32m~/opt/anaconda3/lib/python3.7/http/client.py\u001b[0m in \u001b[0;36m_send_output\u001b[0;34m(self, message_body, encode_chunked)\u001b[0m\n\u001b[1;32m   1024\u001b[0m         \u001b[0mmsg\u001b[0m \u001b[0;34m=\u001b[0m \u001b[0;34mb\"\\r\\n\"\u001b[0m\u001b[0;34m.\u001b[0m\u001b[0mjoin\u001b[0m\u001b[0;34m(\u001b[0m\u001b[0mself\u001b[0m\u001b[0;34m.\u001b[0m\u001b[0m_buffer\u001b[0m\u001b[0;34m)\u001b[0m\u001b[0;34m\u001b[0m\u001b[0;34m\u001b[0m\u001b[0m\n\u001b[1;32m   1025\u001b[0m         \u001b[0;32mdel\u001b[0m \u001b[0mself\u001b[0m\u001b[0;34m.\u001b[0m\u001b[0m_buffer\u001b[0m\u001b[0;34m[\u001b[0m\u001b[0;34m:\u001b[0m\u001b[0;34m]\u001b[0m\u001b[0;34m\u001b[0m\u001b[0;34m\u001b[0m\u001b[0m\n\u001b[0;32m-> 1026\u001b[0;31m         \u001b[0mself\u001b[0m\u001b[0;34m.\u001b[0m\u001b[0msend\u001b[0m\u001b[0;34m(\u001b[0m\u001b[0mmsg\u001b[0m\u001b[0;34m)\u001b[0m\u001b[0;34m\u001b[0m\u001b[0;34m\u001b[0m\u001b[0m\n\u001b[0m\u001b[1;32m   1027\u001b[0m \u001b[0;34m\u001b[0m\u001b[0m\n\u001b[1;32m   1028\u001b[0m         \u001b[0;32mif\u001b[0m \u001b[0mmessage_body\u001b[0m \u001b[0;32mis\u001b[0m \u001b[0;32mnot\u001b[0m \u001b[0;32mNone\u001b[0m\u001b[0;34m:\u001b[0m\u001b[0;34m\u001b[0m\u001b[0;34m\u001b[0m\u001b[0m\n",
      "\u001b[0;32m~/opt/anaconda3/lib/python3.7/http/client.py\u001b[0m in \u001b[0;36msend\u001b[0;34m(self, data)\u001b[0m\n\u001b[1;32m    964\u001b[0m         \u001b[0;32mif\u001b[0m \u001b[0mself\u001b[0m\u001b[0;34m.\u001b[0m\u001b[0msock\u001b[0m \u001b[0;32mis\u001b[0m \u001b[0;32mNone\u001b[0m\u001b[0;34m:\u001b[0m\u001b[0;34m\u001b[0m\u001b[0;34m\u001b[0m\u001b[0m\n\u001b[1;32m    965\u001b[0m             \u001b[0;32mif\u001b[0m \u001b[0mself\u001b[0m\u001b[0;34m.\u001b[0m\u001b[0mauto_open\u001b[0m\u001b[0;34m:\u001b[0m\u001b[0;34m\u001b[0m\u001b[0;34m\u001b[0m\u001b[0m\n\u001b[0;32m--> 966\u001b[0;31m                 \u001b[0mself\u001b[0m\u001b[0;34m.\u001b[0m\u001b[0mconnect\u001b[0m\u001b[0;34m(\u001b[0m\u001b[0;34m)\u001b[0m\u001b[0;34m\u001b[0m\u001b[0;34m\u001b[0m\u001b[0m\n\u001b[0m\u001b[1;32m    967\u001b[0m             \u001b[0;32melse\u001b[0m\u001b[0;34m:\u001b[0m\u001b[0;34m\u001b[0m\u001b[0;34m\u001b[0m\u001b[0m\n\u001b[1;32m    968\u001b[0m                 \u001b[0;32mraise\u001b[0m \u001b[0mNotConnected\u001b[0m\u001b[0;34m(\u001b[0m\u001b[0;34m)\u001b[0m\u001b[0;34m\u001b[0m\u001b[0;34m\u001b[0m\u001b[0m\n",
      "\u001b[0;32m~/opt/anaconda3/lib/python3.7/http/client.py\u001b[0m in \u001b[0;36mconnect\u001b[0;34m(self)\u001b[0m\n\u001b[1;32m   1412\u001b[0m             \u001b[0;34m\"Connect to a host on a given (SSL) port.\"\u001b[0m\u001b[0;34m\u001b[0m\u001b[0;34m\u001b[0m\u001b[0m\n\u001b[1;32m   1413\u001b[0m \u001b[0;34m\u001b[0m\u001b[0m\n\u001b[0;32m-> 1414\u001b[0;31m             \u001b[0msuper\u001b[0m\u001b[0;34m(\u001b[0m\u001b[0;34m)\u001b[0m\u001b[0;34m.\u001b[0m\u001b[0mconnect\u001b[0m\u001b[0;34m(\u001b[0m\u001b[0;34m)\u001b[0m\u001b[0;34m\u001b[0m\u001b[0;34m\u001b[0m\u001b[0m\n\u001b[0m\u001b[1;32m   1415\u001b[0m \u001b[0;34m\u001b[0m\u001b[0m\n\u001b[1;32m   1416\u001b[0m             \u001b[0;32mif\u001b[0m \u001b[0mself\u001b[0m\u001b[0;34m.\u001b[0m\u001b[0m_tunnel_host\u001b[0m\u001b[0;34m:\u001b[0m\u001b[0;34m\u001b[0m\u001b[0;34m\u001b[0m\u001b[0m\n",
      "\u001b[0;32m~/opt/anaconda3/lib/python3.7/http/client.py\u001b[0m in \u001b[0;36mconnect\u001b[0;34m(self)\u001b[0m\n\u001b[1;32m    936\u001b[0m         \u001b[0;34m\"\"\"Connect to the host and port specified in __init__.\"\"\"\u001b[0m\u001b[0;34m\u001b[0m\u001b[0;34m\u001b[0m\u001b[0m\n\u001b[1;32m    937\u001b[0m         self.sock = self._create_connection(\n\u001b[0;32m--> 938\u001b[0;31m             (self.host,self.port), self.timeout, self.source_address)\n\u001b[0m\u001b[1;32m    939\u001b[0m         \u001b[0mself\u001b[0m\u001b[0;34m.\u001b[0m\u001b[0msock\u001b[0m\u001b[0;34m.\u001b[0m\u001b[0msetsockopt\u001b[0m\u001b[0;34m(\u001b[0m\u001b[0msocket\u001b[0m\u001b[0;34m.\u001b[0m\u001b[0mIPPROTO_TCP\u001b[0m\u001b[0;34m,\u001b[0m \u001b[0msocket\u001b[0m\u001b[0;34m.\u001b[0m\u001b[0mTCP_NODELAY\u001b[0m\u001b[0;34m,\u001b[0m \u001b[0;36m1\u001b[0m\u001b[0;34m)\u001b[0m\u001b[0;34m\u001b[0m\u001b[0;34m\u001b[0m\u001b[0m\n\u001b[1;32m    940\u001b[0m \u001b[0;34m\u001b[0m\u001b[0m\n",
      "\u001b[0;32m~/opt/anaconda3/lib/python3.7/socket.py\u001b[0m in \u001b[0;36mcreate_connection\u001b[0;34m(address, timeout, source_address)\u001b[0m\n\u001b[1;32m    705\u001b[0m     \u001b[0mhost\u001b[0m\u001b[0;34m,\u001b[0m \u001b[0mport\u001b[0m \u001b[0;34m=\u001b[0m \u001b[0maddress\u001b[0m\u001b[0;34m\u001b[0m\u001b[0;34m\u001b[0m\u001b[0m\n\u001b[1;32m    706\u001b[0m     \u001b[0merr\u001b[0m \u001b[0;34m=\u001b[0m \u001b[0;32mNone\u001b[0m\u001b[0;34m\u001b[0m\u001b[0;34m\u001b[0m\u001b[0m\n\u001b[0;32m--> 707\u001b[0;31m     \u001b[0;32mfor\u001b[0m \u001b[0mres\u001b[0m \u001b[0;32min\u001b[0m \u001b[0mgetaddrinfo\u001b[0m\u001b[0;34m(\u001b[0m\u001b[0mhost\u001b[0m\u001b[0;34m,\u001b[0m \u001b[0mport\u001b[0m\u001b[0;34m,\u001b[0m \u001b[0;36m0\u001b[0m\u001b[0;34m,\u001b[0m \u001b[0mSOCK_STREAM\u001b[0m\u001b[0;34m)\u001b[0m\u001b[0;34m:\u001b[0m\u001b[0;34m\u001b[0m\u001b[0;34m\u001b[0m\u001b[0m\n\u001b[0m\u001b[1;32m    708\u001b[0m         \u001b[0maf\u001b[0m\u001b[0;34m,\u001b[0m \u001b[0msocktype\u001b[0m\u001b[0;34m,\u001b[0m \u001b[0mproto\u001b[0m\u001b[0;34m,\u001b[0m \u001b[0mcanonname\u001b[0m\u001b[0;34m,\u001b[0m \u001b[0msa\u001b[0m \u001b[0;34m=\u001b[0m \u001b[0mres\u001b[0m\u001b[0;34m\u001b[0m\u001b[0;34m\u001b[0m\u001b[0m\n\u001b[1;32m    709\u001b[0m         \u001b[0msock\u001b[0m \u001b[0;34m=\u001b[0m \u001b[0;32mNone\u001b[0m\u001b[0;34m\u001b[0m\u001b[0;34m\u001b[0m\u001b[0m\n",
      "\u001b[0;32m~/opt/anaconda3/lib/python3.7/socket.py\u001b[0m in \u001b[0;36mgetaddrinfo\u001b[0;34m(host, port, family, type, proto, flags)\u001b[0m\n\u001b[1;32m    750\u001b[0m     \u001b[0;31m# and socket type values to enum constants.\u001b[0m\u001b[0;34m\u001b[0m\u001b[0;34m\u001b[0m\u001b[0;34m\u001b[0m\u001b[0m\n\u001b[1;32m    751\u001b[0m     \u001b[0maddrlist\u001b[0m \u001b[0;34m=\u001b[0m \u001b[0;34m[\u001b[0m\u001b[0;34m]\u001b[0m\u001b[0;34m\u001b[0m\u001b[0;34m\u001b[0m\u001b[0m\n\u001b[0;32m--> 752\u001b[0;31m     \u001b[0;32mfor\u001b[0m \u001b[0mres\u001b[0m \u001b[0;32min\u001b[0m \u001b[0m_socket\u001b[0m\u001b[0;34m.\u001b[0m\u001b[0mgetaddrinfo\u001b[0m\u001b[0;34m(\u001b[0m\u001b[0mhost\u001b[0m\u001b[0;34m,\u001b[0m \u001b[0mport\u001b[0m\u001b[0;34m,\u001b[0m \u001b[0mfamily\u001b[0m\u001b[0;34m,\u001b[0m \u001b[0mtype\u001b[0m\u001b[0;34m,\u001b[0m \u001b[0mproto\u001b[0m\u001b[0;34m,\u001b[0m \u001b[0mflags\u001b[0m\u001b[0;34m)\u001b[0m\u001b[0;34m:\u001b[0m\u001b[0;34m\u001b[0m\u001b[0;34m\u001b[0m\u001b[0m\n\u001b[0m\u001b[1;32m    753\u001b[0m         \u001b[0maf\u001b[0m\u001b[0;34m,\u001b[0m \u001b[0msocktype\u001b[0m\u001b[0;34m,\u001b[0m \u001b[0mproto\u001b[0m\u001b[0;34m,\u001b[0m \u001b[0mcanonname\u001b[0m\u001b[0;34m,\u001b[0m \u001b[0msa\u001b[0m \u001b[0;34m=\u001b[0m \u001b[0mres\u001b[0m\u001b[0;34m\u001b[0m\u001b[0;34m\u001b[0m\u001b[0m\n\u001b[1;32m    754\u001b[0m         addrlist.append((_intenum_converter(af, AddressFamily),\n",
      "\u001b[0;31mUnicodeError\u001b[0m: encoding with 'idna' codec failed (UnicodeError: label too long)"
     ]
    }
   ],
   "source": [
    "import http.client\n",
    "city=input(\"city name\")\n",
    "city=input(\"state\")\n",
    "city=input(\"country\")\n",
    "conn = http.client.HTTPSConnection(\"api.airvisual.com/v2/stations?city={{CITY_NAME}}&state={{STATE_NAME}}&country={{COUNTRY_NAME}}&key={{YOUR_API_KEY}}\")\n",
    "\n",
    "payload = \" \"\n",
    "\n",
    "headers = {\n",
    "    'x-rapidapi-host': \"BreezometerzakutynskyV1.p.rapidapi.com\",\n",
    "    'x-rapidapi-key': \"5eeb1e148amsh67824ebcafb1348p1d1c15jsncfb7a2cbf97f\",\n",
    "    'content-type': \"application/x-www-form-urlencoded\"\n",
    "    }\n",
    "\n",
    "conn.request(\"POST\", \"/getAirQuality\", payload, headers)\n",
    "\n",
    "res = conn.getresponse()\n",
    "data = res.read()\n",
    "\n",
    "print(data.decode(\"utf-8\"))"
   ]
  },
  {
   "cell_type": "code",
   "execution_count": 11,
   "metadata": {},
   "outputs": [
    {
     "ename": "MissingSchema",
     "evalue": "Invalid URL 'api.airvisual.com/v2/countries?key=133b6666-71de-449d-8df8-95dda18274cd': No schema supplied. Perhaps you meant http://api.airvisual.com/v2/countries?key=133b6666-71de-449d-8df8-95dda18274cd?",
     "output_type": "error",
     "traceback": [
      "\u001b[0;31m---------------------------------------------------------------------------\u001b[0m",
      "\u001b[0;31mMissingSchema\u001b[0m                             Traceback (most recent call last)",
      "\u001b[0;32m<ipython-input-11-e3f7a472c8b6>\u001b[0m in \u001b[0;36m<module>\u001b[0;34m\u001b[0m\n\u001b[1;32m      7\u001b[0m \u001b[0mheaders\u001b[0m\u001b[0;34m=\u001b[0m \u001b[0;34m{\u001b[0m\u001b[0;34m}\u001b[0m\u001b[0;34m\u001b[0m\u001b[0;34m\u001b[0m\u001b[0m\n\u001b[1;32m      8\u001b[0m \u001b[0;34m\u001b[0m\u001b[0m\n\u001b[0;32m----> 9\u001b[0;31m \u001b[0mresponse\u001b[0m \u001b[0;34m=\u001b[0m \u001b[0mrequests\u001b[0m\u001b[0;34m.\u001b[0m\u001b[0mrequest\u001b[0m\u001b[0;34m(\u001b[0m\u001b[0;34m\"GET\"\u001b[0m\u001b[0;34m,\u001b[0m \u001b[0murl\u001b[0m\u001b[0;34m,\u001b[0m \u001b[0mheaders\u001b[0m\u001b[0;34m=\u001b[0m\u001b[0mheaders\u001b[0m\u001b[0;34m,\u001b[0m \u001b[0mdata\u001b[0m \u001b[0;34m=\u001b[0m \u001b[0mpayload\u001b[0m\u001b[0;34m,\u001b[0m \u001b[0mfiles\u001b[0m \u001b[0;34m=\u001b[0m \u001b[0mfiles\u001b[0m\u001b[0;34m)\u001b[0m\u001b[0;34m\u001b[0m\u001b[0;34m\u001b[0m\u001b[0m\n\u001b[0m\u001b[1;32m     10\u001b[0m \u001b[0;34m\u001b[0m\u001b[0m\n\u001b[1;32m     11\u001b[0m \u001b[0mprint\u001b[0m\u001b[0;34m(\u001b[0m\u001b[0mresponse\u001b[0m\u001b[0;34m.\u001b[0m\u001b[0mtext\u001b[0m\u001b[0;34m.\u001b[0m\u001b[0mencode\u001b[0m\u001b[0;34m(\u001b[0m\u001b[0;34m'utf8'\u001b[0m\u001b[0;34m)\u001b[0m\u001b[0;34m)\u001b[0m\u001b[0;34m\u001b[0m\u001b[0;34m\u001b[0m\u001b[0m\n",
      "\u001b[0;32m~/opt/anaconda3/lib/python3.7/site-packages/requests/api.py\u001b[0m in \u001b[0;36mrequest\u001b[0;34m(method, url, **kwargs)\u001b[0m\n\u001b[1;32m     58\u001b[0m     \u001b[0;31m# cases, and look like a memory leak in others.\u001b[0m\u001b[0;34m\u001b[0m\u001b[0;34m\u001b[0m\u001b[0;34m\u001b[0m\u001b[0m\n\u001b[1;32m     59\u001b[0m     \u001b[0;32mwith\u001b[0m \u001b[0msessions\u001b[0m\u001b[0;34m.\u001b[0m\u001b[0mSession\u001b[0m\u001b[0;34m(\u001b[0m\u001b[0;34m)\u001b[0m \u001b[0;32mas\u001b[0m \u001b[0msession\u001b[0m\u001b[0;34m:\u001b[0m\u001b[0;34m\u001b[0m\u001b[0;34m\u001b[0m\u001b[0m\n\u001b[0;32m---> 60\u001b[0;31m         \u001b[0;32mreturn\u001b[0m \u001b[0msession\u001b[0m\u001b[0;34m.\u001b[0m\u001b[0mrequest\u001b[0m\u001b[0;34m(\u001b[0m\u001b[0mmethod\u001b[0m\u001b[0;34m=\u001b[0m\u001b[0mmethod\u001b[0m\u001b[0;34m,\u001b[0m \u001b[0murl\u001b[0m\u001b[0;34m=\u001b[0m\u001b[0murl\u001b[0m\u001b[0;34m,\u001b[0m \u001b[0;34m**\u001b[0m\u001b[0mkwargs\u001b[0m\u001b[0;34m)\u001b[0m\u001b[0;34m\u001b[0m\u001b[0;34m\u001b[0m\u001b[0m\n\u001b[0m\u001b[1;32m     61\u001b[0m \u001b[0;34m\u001b[0m\u001b[0m\n\u001b[1;32m     62\u001b[0m \u001b[0;34m\u001b[0m\u001b[0m\n",
      "\u001b[0;32m~/opt/anaconda3/lib/python3.7/site-packages/requests/sessions.py\u001b[0m in \u001b[0;36mrequest\u001b[0;34m(self, method, url, params, data, headers, cookies, files, auth, timeout, allow_redirects, proxies, hooks, stream, verify, cert, json)\u001b[0m\n\u001b[1;32m    517\u001b[0m             \u001b[0mhooks\u001b[0m\u001b[0;34m=\u001b[0m\u001b[0mhooks\u001b[0m\u001b[0;34m,\u001b[0m\u001b[0;34m\u001b[0m\u001b[0;34m\u001b[0m\u001b[0m\n\u001b[1;32m    518\u001b[0m         )\n\u001b[0;32m--> 519\u001b[0;31m         \u001b[0mprep\u001b[0m \u001b[0;34m=\u001b[0m \u001b[0mself\u001b[0m\u001b[0;34m.\u001b[0m\u001b[0mprepare_request\u001b[0m\u001b[0;34m(\u001b[0m\u001b[0mreq\u001b[0m\u001b[0;34m)\u001b[0m\u001b[0;34m\u001b[0m\u001b[0;34m\u001b[0m\u001b[0m\n\u001b[0m\u001b[1;32m    520\u001b[0m \u001b[0;34m\u001b[0m\u001b[0m\n\u001b[1;32m    521\u001b[0m         \u001b[0mproxies\u001b[0m \u001b[0;34m=\u001b[0m \u001b[0mproxies\u001b[0m \u001b[0;32mor\u001b[0m \u001b[0;34m{\u001b[0m\u001b[0;34m}\u001b[0m\u001b[0;34m\u001b[0m\u001b[0;34m\u001b[0m\u001b[0m\n",
      "\u001b[0;32m~/opt/anaconda3/lib/python3.7/site-packages/requests/sessions.py\u001b[0m in \u001b[0;36mprepare_request\u001b[0;34m(self, request)\u001b[0m\n\u001b[1;32m    460\u001b[0m             \u001b[0mauth\u001b[0m\u001b[0;34m=\u001b[0m\u001b[0mmerge_setting\u001b[0m\u001b[0;34m(\u001b[0m\u001b[0mauth\u001b[0m\u001b[0;34m,\u001b[0m \u001b[0mself\u001b[0m\u001b[0;34m.\u001b[0m\u001b[0mauth\u001b[0m\u001b[0;34m)\u001b[0m\u001b[0;34m,\u001b[0m\u001b[0;34m\u001b[0m\u001b[0;34m\u001b[0m\u001b[0m\n\u001b[1;32m    461\u001b[0m             \u001b[0mcookies\u001b[0m\u001b[0;34m=\u001b[0m\u001b[0mmerged_cookies\u001b[0m\u001b[0;34m,\u001b[0m\u001b[0;34m\u001b[0m\u001b[0;34m\u001b[0m\u001b[0m\n\u001b[0;32m--> 462\u001b[0;31m             \u001b[0mhooks\u001b[0m\u001b[0;34m=\u001b[0m\u001b[0mmerge_hooks\u001b[0m\u001b[0;34m(\u001b[0m\u001b[0mrequest\u001b[0m\u001b[0;34m.\u001b[0m\u001b[0mhooks\u001b[0m\u001b[0;34m,\u001b[0m \u001b[0mself\u001b[0m\u001b[0;34m.\u001b[0m\u001b[0mhooks\u001b[0m\u001b[0;34m)\u001b[0m\u001b[0;34m,\u001b[0m\u001b[0;34m\u001b[0m\u001b[0;34m\u001b[0m\u001b[0m\n\u001b[0m\u001b[1;32m    463\u001b[0m         )\n\u001b[1;32m    464\u001b[0m         \u001b[0;32mreturn\u001b[0m \u001b[0mp\u001b[0m\u001b[0;34m\u001b[0m\u001b[0;34m\u001b[0m\u001b[0m\n",
      "\u001b[0;32m~/opt/anaconda3/lib/python3.7/site-packages/requests/models.py\u001b[0m in \u001b[0;36mprepare\u001b[0;34m(self, method, url, headers, files, data, params, auth, cookies, hooks, json)\u001b[0m\n\u001b[1;32m    311\u001b[0m \u001b[0;34m\u001b[0m\u001b[0m\n\u001b[1;32m    312\u001b[0m         \u001b[0mself\u001b[0m\u001b[0;34m.\u001b[0m\u001b[0mprepare_method\u001b[0m\u001b[0;34m(\u001b[0m\u001b[0mmethod\u001b[0m\u001b[0;34m)\u001b[0m\u001b[0;34m\u001b[0m\u001b[0;34m\u001b[0m\u001b[0m\n\u001b[0;32m--> 313\u001b[0;31m         \u001b[0mself\u001b[0m\u001b[0;34m.\u001b[0m\u001b[0mprepare_url\u001b[0m\u001b[0;34m(\u001b[0m\u001b[0murl\u001b[0m\u001b[0;34m,\u001b[0m \u001b[0mparams\u001b[0m\u001b[0;34m)\u001b[0m\u001b[0;34m\u001b[0m\u001b[0;34m\u001b[0m\u001b[0m\n\u001b[0m\u001b[1;32m    314\u001b[0m         \u001b[0mself\u001b[0m\u001b[0;34m.\u001b[0m\u001b[0mprepare_headers\u001b[0m\u001b[0;34m(\u001b[0m\u001b[0mheaders\u001b[0m\u001b[0;34m)\u001b[0m\u001b[0;34m\u001b[0m\u001b[0;34m\u001b[0m\u001b[0m\n\u001b[1;32m    315\u001b[0m         \u001b[0mself\u001b[0m\u001b[0;34m.\u001b[0m\u001b[0mprepare_cookies\u001b[0m\u001b[0;34m(\u001b[0m\u001b[0mcookies\u001b[0m\u001b[0;34m)\u001b[0m\u001b[0;34m\u001b[0m\u001b[0;34m\u001b[0m\u001b[0m\n",
      "\u001b[0;32m~/opt/anaconda3/lib/python3.7/site-packages/requests/models.py\u001b[0m in \u001b[0;36mprepare_url\u001b[0;34m(self, url, params)\u001b[0m\n\u001b[1;32m    385\u001b[0m             \u001b[0merror\u001b[0m \u001b[0;34m=\u001b[0m \u001b[0merror\u001b[0m\u001b[0;34m.\u001b[0m\u001b[0mformat\u001b[0m\u001b[0;34m(\u001b[0m\u001b[0mto_native_string\u001b[0m\u001b[0;34m(\u001b[0m\u001b[0murl\u001b[0m\u001b[0;34m,\u001b[0m \u001b[0;34m'utf8'\u001b[0m\u001b[0;34m)\u001b[0m\u001b[0;34m)\u001b[0m\u001b[0;34m\u001b[0m\u001b[0;34m\u001b[0m\u001b[0m\n\u001b[1;32m    386\u001b[0m \u001b[0;34m\u001b[0m\u001b[0m\n\u001b[0;32m--> 387\u001b[0;31m             \u001b[0;32mraise\u001b[0m \u001b[0mMissingSchema\u001b[0m\u001b[0;34m(\u001b[0m\u001b[0merror\u001b[0m\u001b[0;34m)\u001b[0m\u001b[0;34m\u001b[0m\u001b[0;34m\u001b[0m\u001b[0m\n\u001b[0m\u001b[1;32m    388\u001b[0m \u001b[0;34m\u001b[0m\u001b[0m\n\u001b[1;32m    389\u001b[0m         \u001b[0;32mif\u001b[0m \u001b[0;32mnot\u001b[0m \u001b[0mhost\u001b[0m\u001b[0;34m:\u001b[0m\u001b[0;34m\u001b[0m\u001b[0;34m\u001b[0m\u001b[0m\n",
      "\u001b[0;31mMissingSchema\u001b[0m: Invalid URL 'api.airvisual.com/v2/countries?key=133b6666-71de-449d-8df8-95dda18274cd': No schema supplied. Perhaps you meant http://api.airvisual.com/v2/countries?key=133b6666-71de-449d-8df8-95dda18274cd?"
     ]
    }
   ],
   "source": [
    "import requests\n",
    "\n",
    "url = \"api.airvisual.com/v2/countries?key=133b6666-71de-449d-8df8-95dda18274cd\"\n",
    "\n",
    "payload = {}\n",
    "files = {}\n",
    "headers= {}\n",
    "\n",
    "response = requests.request(\"GET\", url, headers=headers, data = payload, files = files)\n",
    "\n",
    "print(response.text.encode('utf8'))"
   ]
  },
  {
   "cell_type": "code",
   "execution_count": 12,
   "metadata": {},
   "outputs": [
    {
     "ename": "SyntaxError",
     "evalue": "invalid syntax (<ipython-input-12-a36e3448049c>, line 1)",
     "output_type": "error",
     "traceback": [
      "\u001b[0;36m  File \u001b[0;32m\"<ipython-input-12-a36e3448049c>\"\u001b[0;36m, line \u001b[0;32m1\u001b[0m\n\u001b[0;31m    api.airvisual.com/v2/stations?city={{CITY_NAME}}&state={{STATE_NAME}}&country={{COUNTRY_NAME}}&key={{YOUR_API_KEY}}\u001b[0m\n\u001b[0m                                 ^\u001b[0m\n\u001b[0;31mSyntaxError\u001b[0m\u001b[0;31m:\u001b[0m invalid syntax\n"
     ]
    }
   ],
   "source": []
  },
  {
   "cell_type": "code",
   "execution_count": 14,
   "metadata": {},
   "outputs": [
    {
     "ename": "MissingSchema",
     "evalue": "Invalid URL 'api.airvisual.com/v2/city?city=Los Angeles&state=California&country=USA&key={{133b6666-71de-449d-8df8-95dda18274cd}}': No schema supplied. Perhaps you meant http://api.airvisual.com/v2/city?city=Los Angeles&state=California&country=USA&key={{133b6666-71de-449d-8df8-95dda18274cd}}?",
     "output_type": "error",
     "traceback": [
      "\u001b[0;31m---------------------------------------------------------------------------\u001b[0m",
      "\u001b[0;31mMissingSchema\u001b[0m                             Traceback (most recent call last)",
      "\u001b[0;32m<ipython-input-14-ee0f32a1f5be>\u001b[0m in \u001b[0;36m<module>\u001b[0;34m\u001b[0m\n\u001b[1;32m      6\u001b[0m \u001b[0mheaders\u001b[0m\u001b[0;34m=\u001b[0m \u001b[0;34m{\u001b[0m\u001b[0;34m}\u001b[0m\u001b[0;34m\u001b[0m\u001b[0;34m\u001b[0m\u001b[0m\n\u001b[1;32m      7\u001b[0m \u001b[0;34m\u001b[0m\u001b[0m\n\u001b[0;32m----> 8\u001b[0;31m \u001b[0mresponse\u001b[0m \u001b[0;34m=\u001b[0m \u001b[0mrequests\u001b[0m\u001b[0;34m.\u001b[0m\u001b[0mrequest\u001b[0m\u001b[0;34m(\u001b[0m\u001b[0;34m\"GET\"\u001b[0m\u001b[0;34m,\u001b[0m \u001b[0murl\u001b[0m\u001b[0;34m,\u001b[0m \u001b[0mheaders\u001b[0m\u001b[0;34m=\u001b[0m\u001b[0mheaders\u001b[0m\u001b[0;34m,\u001b[0m \u001b[0mdata\u001b[0m \u001b[0;34m=\u001b[0m \u001b[0mpayload\u001b[0m\u001b[0;34m)\u001b[0m\u001b[0;34m\u001b[0m\u001b[0;34m\u001b[0m\u001b[0m\n\u001b[0m\u001b[1;32m      9\u001b[0m \u001b[0;34m\u001b[0m\u001b[0m\n\u001b[1;32m     10\u001b[0m \u001b[0mprint\u001b[0m\u001b[0;34m(\u001b[0m\u001b[0mresponse\u001b[0m\u001b[0;34m.\u001b[0m\u001b[0mtext\u001b[0m\u001b[0;34m.\u001b[0m\u001b[0mencode\u001b[0m\u001b[0;34m(\u001b[0m\u001b[0;34m'utf8'\u001b[0m\u001b[0;34m)\u001b[0m\u001b[0;34m)\u001b[0m\u001b[0;34m\u001b[0m\u001b[0;34m\u001b[0m\u001b[0m\n",
      "\u001b[0;32m~/opt/anaconda3/lib/python3.7/site-packages/requests/api.py\u001b[0m in \u001b[0;36mrequest\u001b[0;34m(method, url, **kwargs)\u001b[0m\n\u001b[1;32m     58\u001b[0m     \u001b[0;31m# cases, and look like a memory leak in others.\u001b[0m\u001b[0;34m\u001b[0m\u001b[0;34m\u001b[0m\u001b[0;34m\u001b[0m\u001b[0m\n\u001b[1;32m     59\u001b[0m     \u001b[0;32mwith\u001b[0m \u001b[0msessions\u001b[0m\u001b[0;34m.\u001b[0m\u001b[0mSession\u001b[0m\u001b[0;34m(\u001b[0m\u001b[0;34m)\u001b[0m \u001b[0;32mas\u001b[0m \u001b[0msession\u001b[0m\u001b[0;34m:\u001b[0m\u001b[0;34m\u001b[0m\u001b[0;34m\u001b[0m\u001b[0m\n\u001b[0;32m---> 60\u001b[0;31m         \u001b[0;32mreturn\u001b[0m \u001b[0msession\u001b[0m\u001b[0;34m.\u001b[0m\u001b[0mrequest\u001b[0m\u001b[0;34m(\u001b[0m\u001b[0mmethod\u001b[0m\u001b[0;34m=\u001b[0m\u001b[0mmethod\u001b[0m\u001b[0;34m,\u001b[0m \u001b[0murl\u001b[0m\u001b[0;34m=\u001b[0m\u001b[0murl\u001b[0m\u001b[0;34m,\u001b[0m \u001b[0;34m**\u001b[0m\u001b[0mkwargs\u001b[0m\u001b[0;34m)\u001b[0m\u001b[0;34m\u001b[0m\u001b[0;34m\u001b[0m\u001b[0m\n\u001b[0m\u001b[1;32m     61\u001b[0m \u001b[0;34m\u001b[0m\u001b[0m\n\u001b[1;32m     62\u001b[0m \u001b[0;34m\u001b[0m\u001b[0m\n",
      "\u001b[0;32m~/opt/anaconda3/lib/python3.7/site-packages/requests/sessions.py\u001b[0m in \u001b[0;36mrequest\u001b[0;34m(self, method, url, params, data, headers, cookies, files, auth, timeout, allow_redirects, proxies, hooks, stream, verify, cert, json)\u001b[0m\n\u001b[1;32m    517\u001b[0m             \u001b[0mhooks\u001b[0m\u001b[0;34m=\u001b[0m\u001b[0mhooks\u001b[0m\u001b[0;34m,\u001b[0m\u001b[0;34m\u001b[0m\u001b[0;34m\u001b[0m\u001b[0m\n\u001b[1;32m    518\u001b[0m         )\n\u001b[0;32m--> 519\u001b[0;31m         \u001b[0mprep\u001b[0m \u001b[0;34m=\u001b[0m \u001b[0mself\u001b[0m\u001b[0;34m.\u001b[0m\u001b[0mprepare_request\u001b[0m\u001b[0;34m(\u001b[0m\u001b[0mreq\u001b[0m\u001b[0;34m)\u001b[0m\u001b[0;34m\u001b[0m\u001b[0;34m\u001b[0m\u001b[0m\n\u001b[0m\u001b[1;32m    520\u001b[0m \u001b[0;34m\u001b[0m\u001b[0m\n\u001b[1;32m    521\u001b[0m         \u001b[0mproxies\u001b[0m \u001b[0;34m=\u001b[0m \u001b[0mproxies\u001b[0m \u001b[0;32mor\u001b[0m \u001b[0;34m{\u001b[0m\u001b[0;34m}\u001b[0m\u001b[0;34m\u001b[0m\u001b[0;34m\u001b[0m\u001b[0m\n",
      "\u001b[0;32m~/opt/anaconda3/lib/python3.7/site-packages/requests/sessions.py\u001b[0m in \u001b[0;36mprepare_request\u001b[0;34m(self, request)\u001b[0m\n\u001b[1;32m    460\u001b[0m             \u001b[0mauth\u001b[0m\u001b[0;34m=\u001b[0m\u001b[0mmerge_setting\u001b[0m\u001b[0;34m(\u001b[0m\u001b[0mauth\u001b[0m\u001b[0;34m,\u001b[0m \u001b[0mself\u001b[0m\u001b[0;34m.\u001b[0m\u001b[0mauth\u001b[0m\u001b[0;34m)\u001b[0m\u001b[0;34m,\u001b[0m\u001b[0;34m\u001b[0m\u001b[0;34m\u001b[0m\u001b[0m\n\u001b[1;32m    461\u001b[0m             \u001b[0mcookies\u001b[0m\u001b[0;34m=\u001b[0m\u001b[0mmerged_cookies\u001b[0m\u001b[0;34m,\u001b[0m\u001b[0;34m\u001b[0m\u001b[0;34m\u001b[0m\u001b[0m\n\u001b[0;32m--> 462\u001b[0;31m             \u001b[0mhooks\u001b[0m\u001b[0;34m=\u001b[0m\u001b[0mmerge_hooks\u001b[0m\u001b[0;34m(\u001b[0m\u001b[0mrequest\u001b[0m\u001b[0;34m.\u001b[0m\u001b[0mhooks\u001b[0m\u001b[0;34m,\u001b[0m \u001b[0mself\u001b[0m\u001b[0;34m.\u001b[0m\u001b[0mhooks\u001b[0m\u001b[0;34m)\u001b[0m\u001b[0;34m,\u001b[0m\u001b[0;34m\u001b[0m\u001b[0;34m\u001b[0m\u001b[0m\n\u001b[0m\u001b[1;32m    463\u001b[0m         )\n\u001b[1;32m    464\u001b[0m         \u001b[0;32mreturn\u001b[0m \u001b[0mp\u001b[0m\u001b[0;34m\u001b[0m\u001b[0;34m\u001b[0m\u001b[0m\n",
      "\u001b[0;32m~/opt/anaconda3/lib/python3.7/site-packages/requests/models.py\u001b[0m in \u001b[0;36mprepare\u001b[0;34m(self, method, url, headers, files, data, params, auth, cookies, hooks, json)\u001b[0m\n\u001b[1;32m    311\u001b[0m \u001b[0;34m\u001b[0m\u001b[0m\n\u001b[1;32m    312\u001b[0m         \u001b[0mself\u001b[0m\u001b[0;34m.\u001b[0m\u001b[0mprepare_method\u001b[0m\u001b[0;34m(\u001b[0m\u001b[0mmethod\u001b[0m\u001b[0;34m)\u001b[0m\u001b[0;34m\u001b[0m\u001b[0;34m\u001b[0m\u001b[0m\n\u001b[0;32m--> 313\u001b[0;31m         \u001b[0mself\u001b[0m\u001b[0;34m.\u001b[0m\u001b[0mprepare_url\u001b[0m\u001b[0;34m(\u001b[0m\u001b[0murl\u001b[0m\u001b[0;34m,\u001b[0m \u001b[0mparams\u001b[0m\u001b[0;34m)\u001b[0m\u001b[0;34m\u001b[0m\u001b[0;34m\u001b[0m\u001b[0m\n\u001b[0m\u001b[1;32m    314\u001b[0m         \u001b[0mself\u001b[0m\u001b[0;34m.\u001b[0m\u001b[0mprepare_headers\u001b[0m\u001b[0;34m(\u001b[0m\u001b[0mheaders\u001b[0m\u001b[0;34m)\u001b[0m\u001b[0;34m\u001b[0m\u001b[0;34m\u001b[0m\u001b[0m\n\u001b[1;32m    315\u001b[0m         \u001b[0mself\u001b[0m\u001b[0;34m.\u001b[0m\u001b[0mprepare_cookies\u001b[0m\u001b[0;34m(\u001b[0m\u001b[0mcookies\u001b[0m\u001b[0;34m)\u001b[0m\u001b[0;34m\u001b[0m\u001b[0;34m\u001b[0m\u001b[0m\n",
      "\u001b[0;32m~/opt/anaconda3/lib/python3.7/site-packages/requests/models.py\u001b[0m in \u001b[0;36mprepare_url\u001b[0;34m(self, url, params)\u001b[0m\n\u001b[1;32m    385\u001b[0m             \u001b[0merror\u001b[0m \u001b[0;34m=\u001b[0m \u001b[0merror\u001b[0m\u001b[0;34m.\u001b[0m\u001b[0mformat\u001b[0m\u001b[0;34m(\u001b[0m\u001b[0mto_native_string\u001b[0m\u001b[0;34m(\u001b[0m\u001b[0murl\u001b[0m\u001b[0;34m,\u001b[0m \u001b[0;34m'utf8'\u001b[0m\u001b[0;34m)\u001b[0m\u001b[0;34m)\u001b[0m\u001b[0;34m\u001b[0m\u001b[0;34m\u001b[0m\u001b[0m\n\u001b[1;32m    386\u001b[0m \u001b[0;34m\u001b[0m\u001b[0m\n\u001b[0;32m--> 387\u001b[0;31m             \u001b[0;32mraise\u001b[0m \u001b[0mMissingSchema\u001b[0m\u001b[0;34m(\u001b[0m\u001b[0merror\u001b[0m\u001b[0;34m)\u001b[0m\u001b[0;34m\u001b[0m\u001b[0;34m\u001b[0m\u001b[0m\n\u001b[0m\u001b[1;32m    388\u001b[0m \u001b[0;34m\u001b[0m\u001b[0m\n\u001b[1;32m    389\u001b[0m         \u001b[0;32mif\u001b[0m \u001b[0;32mnot\u001b[0m \u001b[0mhost\u001b[0m\u001b[0;34m:\u001b[0m\u001b[0;34m\u001b[0m\u001b[0;34m\u001b[0m\u001b[0m\n",
      "\u001b[0;31mMissingSchema\u001b[0m: Invalid URL 'api.airvisual.com/v2/city?city=Los Angeles&state=California&country=USA&key={{133b6666-71de-449d-8df8-95dda18274cd}}': No schema supplied. Perhaps you meant http://api.airvisual.com/v2/city?city=Los Angeles&state=California&country=USA&key={{133b6666-71de-449d-8df8-95dda18274cd}}?"
     ]
    }
   ],
   "source": [
    "import requests\n",
    "\n",
    "url = \"api.airvisual.com/v2/city?city=Los Angeles&state=California&country=USA&key={{133b6666-71de-449d-8df8-95dda18274cd}}\"\n",
    "\n",
    "payload = {}\n",
    "headers= {}\n",
    "\n",
    "response = requests.request(\"GET\", url, headers=headers, data = payload)\n",
    "\n",
    "print(response.text.encode('utf8'))\n"
   ]
  },
  {
   "cell_type": "code",
   "execution_count": 16,
   "metadata": {},
   "outputs": [
    {
     "ename": "MissingSchema",
     "evalue": "Invalid URL 'api.airvisual.com/v2/states?country=USA&key=133b6666-71de-449d-8df8-95dda18274cd': No schema supplied. Perhaps you meant http://api.airvisual.com/v2/states?country=USA&key=133b6666-71de-449d-8df8-95dda18274cd?",
     "output_type": "error",
     "traceback": [
      "\u001b[0;31m---------------------------------------------------------------------------\u001b[0m",
      "\u001b[0;31mMissingSchema\u001b[0m                             Traceback (most recent call last)",
      "\u001b[0;32m<ipython-input-16-6a214e1493f0>\u001b[0m in \u001b[0;36m<module>\u001b[0;34m\u001b[0m\n\u001b[1;32m      7\u001b[0m \u001b[0mheaders\u001b[0m\u001b[0;34m=\u001b[0m \u001b[0;34m{\u001b[0m\u001b[0;34m}\u001b[0m\u001b[0;34m\u001b[0m\u001b[0;34m\u001b[0m\u001b[0m\n\u001b[1;32m      8\u001b[0m \u001b[0;34m\u001b[0m\u001b[0m\n\u001b[0;32m----> 9\u001b[0;31m \u001b[0mresponse\u001b[0m \u001b[0;34m=\u001b[0m \u001b[0mrequests\u001b[0m\u001b[0;34m.\u001b[0m\u001b[0mrequest\u001b[0m\u001b[0;34m(\u001b[0m\u001b[0;34m\"GET\"\u001b[0m\u001b[0;34m,\u001b[0m \u001b[0murl\u001b[0m\u001b[0;34m,\u001b[0m \u001b[0mheaders\u001b[0m\u001b[0;34m=\u001b[0m\u001b[0mheaders\u001b[0m\u001b[0;34m,\u001b[0m \u001b[0mdata\u001b[0m \u001b[0;34m=\u001b[0m \u001b[0mpayload\u001b[0m\u001b[0;34m,\u001b[0m \u001b[0mfiles\u001b[0m \u001b[0;34m=\u001b[0m \u001b[0mfiles\u001b[0m\u001b[0;34m)\u001b[0m\u001b[0;34m\u001b[0m\u001b[0;34m\u001b[0m\u001b[0m\n\u001b[0m\u001b[1;32m     10\u001b[0m \u001b[0;34m\u001b[0m\u001b[0m\n\u001b[1;32m     11\u001b[0m \u001b[0mprint\u001b[0m\u001b[0;34m(\u001b[0m\u001b[0mresponse\u001b[0m\u001b[0;34m.\u001b[0m\u001b[0mtext\u001b[0m\u001b[0;34m.\u001b[0m\u001b[0mencode\u001b[0m\u001b[0;34m(\u001b[0m\u001b[0;34m'utf8'\u001b[0m\u001b[0;34m)\u001b[0m\u001b[0;34m)\u001b[0m\u001b[0;34m\u001b[0m\u001b[0;34m\u001b[0m\u001b[0m\n",
      "\u001b[0;32m~/opt/anaconda3/lib/python3.7/site-packages/requests/api.py\u001b[0m in \u001b[0;36mrequest\u001b[0;34m(method, url, **kwargs)\u001b[0m\n\u001b[1;32m     58\u001b[0m     \u001b[0;31m# cases, and look like a memory leak in others.\u001b[0m\u001b[0;34m\u001b[0m\u001b[0;34m\u001b[0m\u001b[0;34m\u001b[0m\u001b[0m\n\u001b[1;32m     59\u001b[0m     \u001b[0;32mwith\u001b[0m \u001b[0msessions\u001b[0m\u001b[0;34m.\u001b[0m\u001b[0mSession\u001b[0m\u001b[0;34m(\u001b[0m\u001b[0;34m)\u001b[0m \u001b[0;32mas\u001b[0m \u001b[0msession\u001b[0m\u001b[0;34m:\u001b[0m\u001b[0;34m\u001b[0m\u001b[0;34m\u001b[0m\u001b[0m\n\u001b[0;32m---> 60\u001b[0;31m         \u001b[0;32mreturn\u001b[0m \u001b[0msession\u001b[0m\u001b[0;34m.\u001b[0m\u001b[0mrequest\u001b[0m\u001b[0;34m(\u001b[0m\u001b[0mmethod\u001b[0m\u001b[0;34m=\u001b[0m\u001b[0mmethod\u001b[0m\u001b[0;34m,\u001b[0m \u001b[0murl\u001b[0m\u001b[0;34m=\u001b[0m\u001b[0murl\u001b[0m\u001b[0;34m,\u001b[0m \u001b[0;34m**\u001b[0m\u001b[0mkwargs\u001b[0m\u001b[0;34m)\u001b[0m\u001b[0;34m\u001b[0m\u001b[0;34m\u001b[0m\u001b[0m\n\u001b[0m\u001b[1;32m     61\u001b[0m \u001b[0;34m\u001b[0m\u001b[0m\n\u001b[1;32m     62\u001b[0m \u001b[0;34m\u001b[0m\u001b[0m\n",
      "\u001b[0;32m~/opt/anaconda3/lib/python3.7/site-packages/requests/sessions.py\u001b[0m in \u001b[0;36mrequest\u001b[0;34m(self, method, url, params, data, headers, cookies, files, auth, timeout, allow_redirects, proxies, hooks, stream, verify, cert, json)\u001b[0m\n\u001b[1;32m    517\u001b[0m             \u001b[0mhooks\u001b[0m\u001b[0;34m=\u001b[0m\u001b[0mhooks\u001b[0m\u001b[0;34m,\u001b[0m\u001b[0;34m\u001b[0m\u001b[0;34m\u001b[0m\u001b[0m\n\u001b[1;32m    518\u001b[0m         )\n\u001b[0;32m--> 519\u001b[0;31m         \u001b[0mprep\u001b[0m \u001b[0;34m=\u001b[0m \u001b[0mself\u001b[0m\u001b[0;34m.\u001b[0m\u001b[0mprepare_request\u001b[0m\u001b[0;34m(\u001b[0m\u001b[0mreq\u001b[0m\u001b[0;34m)\u001b[0m\u001b[0;34m\u001b[0m\u001b[0;34m\u001b[0m\u001b[0m\n\u001b[0m\u001b[1;32m    520\u001b[0m \u001b[0;34m\u001b[0m\u001b[0m\n\u001b[1;32m    521\u001b[0m         \u001b[0mproxies\u001b[0m \u001b[0;34m=\u001b[0m \u001b[0mproxies\u001b[0m \u001b[0;32mor\u001b[0m \u001b[0;34m{\u001b[0m\u001b[0;34m}\u001b[0m\u001b[0;34m\u001b[0m\u001b[0;34m\u001b[0m\u001b[0m\n",
      "\u001b[0;32m~/opt/anaconda3/lib/python3.7/site-packages/requests/sessions.py\u001b[0m in \u001b[0;36mprepare_request\u001b[0;34m(self, request)\u001b[0m\n\u001b[1;32m    460\u001b[0m             \u001b[0mauth\u001b[0m\u001b[0;34m=\u001b[0m\u001b[0mmerge_setting\u001b[0m\u001b[0;34m(\u001b[0m\u001b[0mauth\u001b[0m\u001b[0;34m,\u001b[0m \u001b[0mself\u001b[0m\u001b[0;34m.\u001b[0m\u001b[0mauth\u001b[0m\u001b[0;34m)\u001b[0m\u001b[0;34m,\u001b[0m\u001b[0;34m\u001b[0m\u001b[0;34m\u001b[0m\u001b[0m\n\u001b[1;32m    461\u001b[0m             \u001b[0mcookies\u001b[0m\u001b[0;34m=\u001b[0m\u001b[0mmerged_cookies\u001b[0m\u001b[0;34m,\u001b[0m\u001b[0;34m\u001b[0m\u001b[0;34m\u001b[0m\u001b[0m\n\u001b[0;32m--> 462\u001b[0;31m             \u001b[0mhooks\u001b[0m\u001b[0;34m=\u001b[0m\u001b[0mmerge_hooks\u001b[0m\u001b[0;34m(\u001b[0m\u001b[0mrequest\u001b[0m\u001b[0;34m.\u001b[0m\u001b[0mhooks\u001b[0m\u001b[0;34m,\u001b[0m \u001b[0mself\u001b[0m\u001b[0;34m.\u001b[0m\u001b[0mhooks\u001b[0m\u001b[0;34m)\u001b[0m\u001b[0;34m,\u001b[0m\u001b[0;34m\u001b[0m\u001b[0;34m\u001b[0m\u001b[0m\n\u001b[0m\u001b[1;32m    463\u001b[0m         )\n\u001b[1;32m    464\u001b[0m         \u001b[0;32mreturn\u001b[0m \u001b[0mp\u001b[0m\u001b[0;34m\u001b[0m\u001b[0;34m\u001b[0m\u001b[0m\n",
      "\u001b[0;32m~/opt/anaconda3/lib/python3.7/site-packages/requests/models.py\u001b[0m in \u001b[0;36mprepare\u001b[0;34m(self, method, url, headers, files, data, params, auth, cookies, hooks, json)\u001b[0m\n\u001b[1;32m    311\u001b[0m \u001b[0;34m\u001b[0m\u001b[0m\n\u001b[1;32m    312\u001b[0m         \u001b[0mself\u001b[0m\u001b[0;34m.\u001b[0m\u001b[0mprepare_method\u001b[0m\u001b[0;34m(\u001b[0m\u001b[0mmethod\u001b[0m\u001b[0;34m)\u001b[0m\u001b[0;34m\u001b[0m\u001b[0;34m\u001b[0m\u001b[0m\n\u001b[0;32m--> 313\u001b[0;31m         \u001b[0mself\u001b[0m\u001b[0;34m.\u001b[0m\u001b[0mprepare_url\u001b[0m\u001b[0;34m(\u001b[0m\u001b[0murl\u001b[0m\u001b[0;34m,\u001b[0m \u001b[0mparams\u001b[0m\u001b[0;34m)\u001b[0m\u001b[0;34m\u001b[0m\u001b[0;34m\u001b[0m\u001b[0m\n\u001b[0m\u001b[1;32m    314\u001b[0m         \u001b[0mself\u001b[0m\u001b[0;34m.\u001b[0m\u001b[0mprepare_headers\u001b[0m\u001b[0;34m(\u001b[0m\u001b[0mheaders\u001b[0m\u001b[0;34m)\u001b[0m\u001b[0;34m\u001b[0m\u001b[0;34m\u001b[0m\u001b[0m\n\u001b[1;32m    315\u001b[0m         \u001b[0mself\u001b[0m\u001b[0;34m.\u001b[0m\u001b[0mprepare_cookies\u001b[0m\u001b[0;34m(\u001b[0m\u001b[0mcookies\u001b[0m\u001b[0;34m)\u001b[0m\u001b[0;34m\u001b[0m\u001b[0;34m\u001b[0m\u001b[0m\n",
      "\u001b[0;32m~/opt/anaconda3/lib/python3.7/site-packages/requests/models.py\u001b[0m in \u001b[0;36mprepare_url\u001b[0;34m(self, url, params)\u001b[0m\n\u001b[1;32m    385\u001b[0m             \u001b[0merror\u001b[0m \u001b[0;34m=\u001b[0m \u001b[0merror\u001b[0m\u001b[0;34m.\u001b[0m\u001b[0mformat\u001b[0m\u001b[0;34m(\u001b[0m\u001b[0mto_native_string\u001b[0m\u001b[0;34m(\u001b[0m\u001b[0murl\u001b[0m\u001b[0;34m,\u001b[0m \u001b[0;34m'utf8'\u001b[0m\u001b[0;34m)\u001b[0m\u001b[0;34m)\u001b[0m\u001b[0;34m\u001b[0m\u001b[0;34m\u001b[0m\u001b[0m\n\u001b[1;32m    386\u001b[0m \u001b[0;34m\u001b[0m\u001b[0m\n\u001b[0;32m--> 387\u001b[0;31m             \u001b[0;32mraise\u001b[0m \u001b[0mMissingSchema\u001b[0m\u001b[0;34m(\u001b[0m\u001b[0merror\u001b[0m\u001b[0;34m)\u001b[0m\u001b[0;34m\u001b[0m\u001b[0;34m\u001b[0m\u001b[0m\n\u001b[0m\u001b[1;32m    388\u001b[0m \u001b[0;34m\u001b[0m\u001b[0m\n\u001b[1;32m    389\u001b[0m         \u001b[0;32mif\u001b[0m \u001b[0;32mnot\u001b[0m \u001b[0mhost\u001b[0m\u001b[0;34m:\u001b[0m\u001b[0;34m\u001b[0m\u001b[0;34m\u001b[0m\u001b[0m\n",
      "\u001b[0;31mMissingSchema\u001b[0m: Invalid URL 'api.airvisual.com/v2/states?country=USA&key=133b6666-71de-449d-8df8-95dda18274cd': No schema supplied. Perhaps you meant http://api.airvisual.com/v2/states?country=USA&key=133b6666-71de-449d-8df8-95dda18274cd?"
     ]
    }
   ],
   "source": [
    "import requests\n",
    "a=\"133b6666-71de-449d-8df8-95dda18274cd\"\n",
    "url = f\"api.airvisual.com/v2/states?country=USA&key={a}\"\n",
    "\n",
    "payload = {}\n",
    "files = {}\n",
    "headers= {}\n",
    "\n",
    "response = requests.request(\"GET\", url, headers=headers, data = payload, files = files)\n",
    "\n",
    "print(response.text.encode('utf8'))"
   ]
  },
  {
   "cell_type": "code",
   "execution_count": 19,
   "metadata": {},
   "outputs": [],
   "source": [
    "import requests\n",
    "a=\"133b6666-71de-449d-8df8-95dda18274cd\"\n",
    "url = f\"api.airvisual.com/v2/states?country=USA&key={a}\"\n"
   ]
  },
  {
   "cell_type": "code",
   "execution_count": 20,
   "metadata": {},
   "outputs": [
    {
     "ename": "MissingSchema",
     "evalue": "Invalid URL 'api.airvisual.com/v2/states?country=USA&key=133b6666-71de-449d-8df8-95dda18274cd': No schema supplied. Perhaps you meant http://api.airvisual.com/v2/states?country=USA&key=133b6666-71de-449d-8df8-95dda18274cd?",
     "output_type": "error",
     "traceback": [
      "\u001b[0;31m---------------------------------------------------------------------------\u001b[0m",
      "\u001b[0;31mMissingSchema\u001b[0m                             Traceback (most recent call last)",
      "\u001b[0;32m<ipython-input-20-b80aa89477da>\u001b[0m in \u001b[0;36m<module>\u001b[0;34m\u001b[0m\n\u001b[0;32m----> 1\u001b[0;31m \u001b[0mrequests\u001b[0m\u001b[0;34m.\u001b[0m\u001b[0mget\u001b[0m\u001b[0;34m(\u001b[0m\u001b[0murl\u001b[0m\u001b[0;34m)\u001b[0m\u001b[0;34m\u001b[0m\u001b[0;34m\u001b[0m\u001b[0m\n\u001b[0m",
      "\u001b[0;32m~/opt/anaconda3/lib/python3.7/site-packages/requests/api.py\u001b[0m in \u001b[0;36mget\u001b[0;34m(url, params, **kwargs)\u001b[0m\n\u001b[1;32m     73\u001b[0m \u001b[0;34m\u001b[0m\u001b[0m\n\u001b[1;32m     74\u001b[0m     \u001b[0mkwargs\u001b[0m\u001b[0;34m.\u001b[0m\u001b[0msetdefault\u001b[0m\u001b[0;34m(\u001b[0m\u001b[0;34m'allow_redirects'\u001b[0m\u001b[0;34m,\u001b[0m \u001b[0;32mTrue\u001b[0m\u001b[0;34m)\u001b[0m\u001b[0;34m\u001b[0m\u001b[0;34m\u001b[0m\u001b[0m\n\u001b[0;32m---> 75\u001b[0;31m     \u001b[0;32mreturn\u001b[0m \u001b[0mrequest\u001b[0m\u001b[0;34m(\u001b[0m\u001b[0;34m'get'\u001b[0m\u001b[0;34m,\u001b[0m \u001b[0murl\u001b[0m\u001b[0;34m,\u001b[0m \u001b[0mparams\u001b[0m\u001b[0;34m=\u001b[0m\u001b[0mparams\u001b[0m\u001b[0;34m,\u001b[0m \u001b[0;34m**\u001b[0m\u001b[0mkwargs\u001b[0m\u001b[0;34m)\u001b[0m\u001b[0;34m\u001b[0m\u001b[0;34m\u001b[0m\u001b[0m\n\u001b[0m\u001b[1;32m     76\u001b[0m \u001b[0;34m\u001b[0m\u001b[0m\n\u001b[1;32m     77\u001b[0m \u001b[0;34m\u001b[0m\u001b[0m\n",
      "\u001b[0;32m~/opt/anaconda3/lib/python3.7/site-packages/requests/api.py\u001b[0m in \u001b[0;36mrequest\u001b[0;34m(method, url, **kwargs)\u001b[0m\n\u001b[1;32m     58\u001b[0m     \u001b[0;31m# cases, and look like a memory leak in others.\u001b[0m\u001b[0;34m\u001b[0m\u001b[0;34m\u001b[0m\u001b[0;34m\u001b[0m\u001b[0m\n\u001b[1;32m     59\u001b[0m     \u001b[0;32mwith\u001b[0m \u001b[0msessions\u001b[0m\u001b[0;34m.\u001b[0m\u001b[0mSession\u001b[0m\u001b[0;34m(\u001b[0m\u001b[0;34m)\u001b[0m \u001b[0;32mas\u001b[0m \u001b[0msession\u001b[0m\u001b[0;34m:\u001b[0m\u001b[0;34m\u001b[0m\u001b[0;34m\u001b[0m\u001b[0m\n\u001b[0;32m---> 60\u001b[0;31m         \u001b[0;32mreturn\u001b[0m \u001b[0msession\u001b[0m\u001b[0;34m.\u001b[0m\u001b[0mrequest\u001b[0m\u001b[0;34m(\u001b[0m\u001b[0mmethod\u001b[0m\u001b[0;34m=\u001b[0m\u001b[0mmethod\u001b[0m\u001b[0;34m,\u001b[0m \u001b[0murl\u001b[0m\u001b[0;34m=\u001b[0m\u001b[0murl\u001b[0m\u001b[0;34m,\u001b[0m \u001b[0;34m**\u001b[0m\u001b[0mkwargs\u001b[0m\u001b[0;34m)\u001b[0m\u001b[0;34m\u001b[0m\u001b[0;34m\u001b[0m\u001b[0m\n\u001b[0m\u001b[1;32m     61\u001b[0m \u001b[0;34m\u001b[0m\u001b[0m\n\u001b[1;32m     62\u001b[0m \u001b[0;34m\u001b[0m\u001b[0m\n",
      "\u001b[0;32m~/opt/anaconda3/lib/python3.7/site-packages/requests/sessions.py\u001b[0m in \u001b[0;36mrequest\u001b[0;34m(self, method, url, params, data, headers, cookies, files, auth, timeout, allow_redirects, proxies, hooks, stream, verify, cert, json)\u001b[0m\n\u001b[1;32m    517\u001b[0m             \u001b[0mhooks\u001b[0m\u001b[0;34m=\u001b[0m\u001b[0mhooks\u001b[0m\u001b[0;34m,\u001b[0m\u001b[0;34m\u001b[0m\u001b[0;34m\u001b[0m\u001b[0m\n\u001b[1;32m    518\u001b[0m         )\n\u001b[0;32m--> 519\u001b[0;31m         \u001b[0mprep\u001b[0m \u001b[0;34m=\u001b[0m \u001b[0mself\u001b[0m\u001b[0;34m.\u001b[0m\u001b[0mprepare_request\u001b[0m\u001b[0;34m(\u001b[0m\u001b[0mreq\u001b[0m\u001b[0;34m)\u001b[0m\u001b[0;34m\u001b[0m\u001b[0;34m\u001b[0m\u001b[0m\n\u001b[0m\u001b[1;32m    520\u001b[0m \u001b[0;34m\u001b[0m\u001b[0m\n\u001b[1;32m    521\u001b[0m         \u001b[0mproxies\u001b[0m \u001b[0;34m=\u001b[0m \u001b[0mproxies\u001b[0m \u001b[0;32mor\u001b[0m \u001b[0;34m{\u001b[0m\u001b[0;34m}\u001b[0m\u001b[0;34m\u001b[0m\u001b[0;34m\u001b[0m\u001b[0m\n",
      "\u001b[0;32m~/opt/anaconda3/lib/python3.7/site-packages/requests/sessions.py\u001b[0m in \u001b[0;36mprepare_request\u001b[0;34m(self, request)\u001b[0m\n\u001b[1;32m    460\u001b[0m             \u001b[0mauth\u001b[0m\u001b[0;34m=\u001b[0m\u001b[0mmerge_setting\u001b[0m\u001b[0;34m(\u001b[0m\u001b[0mauth\u001b[0m\u001b[0;34m,\u001b[0m \u001b[0mself\u001b[0m\u001b[0;34m.\u001b[0m\u001b[0mauth\u001b[0m\u001b[0;34m)\u001b[0m\u001b[0;34m,\u001b[0m\u001b[0;34m\u001b[0m\u001b[0;34m\u001b[0m\u001b[0m\n\u001b[1;32m    461\u001b[0m             \u001b[0mcookies\u001b[0m\u001b[0;34m=\u001b[0m\u001b[0mmerged_cookies\u001b[0m\u001b[0;34m,\u001b[0m\u001b[0;34m\u001b[0m\u001b[0;34m\u001b[0m\u001b[0m\n\u001b[0;32m--> 462\u001b[0;31m             \u001b[0mhooks\u001b[0m\u001b[0;34m=\u001b[0m\u001b[0mmerge_hooks\u001b[0m\u001b[0;34m(\u001b[0m\u001b[0mrequest\u001b[0m\u001b[0;34m.\u001b[0m\u001b[0mhooks\u001b[0m\u001b[0;34m,\u001b[0m \u001b[0mself\u001b[0m\u001b[0;34m.\u001b[0m\u001b[0mhooks\u001b[0m\u001b[0;34m)\u001b[0m\u001b[0;34m,\u001b[0m\u001b[0;34m\u001b[0m\u001b[0;34m\u001b[0m\u001b[0m\n\u001b[0m\u001b[1;32m    463\u001b[0m         )\n\u001b[1;32m    464\u001b[0m         \u001b[0;32mreturn\u001b[0m \u001b[0mp\u001b[0m\u001b[0;34m\u001b[0m\u001b[0;34m\u001b[0m\u001b[0m\n",
      "\u001b[0;32m~/opt/anaconda3/lib/python3.7/site-packages/requests/models.py\u001b[0m in \u001b[0;36mprepare\u001b[0;34m(self, method, url, headers, files, data, params, auth, cookies, hooks, json)\u001b[0m\n\u001b[1;32m    311\u001b[0m \u001b[0;34m\u001b[0m\u001b[0m\n\u001b[1;32m    312\u001b[0m         \u001b[0mself\u001b[0m\u001b[0;34m.\u001b[0m\u001b[0mprepare_method\u001b[0m\u001b[0;34m(\u001b[0m\u001b[0mmethod\u001b[0m\u001b[0;34m)\u001b[0m\u001b[0;34m\u001b[0m\u001b[0;34m\u001b[0m\u001b[0m\n\u001b[0;32m--> 313\u001b[0;31m         \u001b[0mself\u001b[0m\u001b[0;34m.\u001b[0m\u001b[0mprepare_url\u001b[0m\u001b[0;34m(\u001b[0m\u001b[0murl\u001b[0m\u001b[0;34m,\u001b[0m \u001b[0mparams\u001b[0m\u001b[0;34m)\u001b[0m\u001b[0;34m\u001b[0m\u001b[0;34m\u001b[0m\u001b[0m\n\u001b[0m\u001b[1;32m    314\u001b[0m         \u001b[0mself\u001b[0m\u001b[0;34m.\u001b[0m\u001b[0mprepare_headers\u001b[0m\u001b[0;34m(\u001b[0m\u001b[0mheaders\u001b[0m\u001b[0;34m)\u001b[0m\u001b[0;34m\u001b[0m\u001b[0;34m\u001b[0m\u001b[0m\n\u001b[1;32m    315\u001b[0m         \u001b[0mself\u001b[0m\u001b[0;34m.\u001b[0m\u001b[0mprepare_cookies\u001b[0m\u001b[0;34m(\u001b[0m\u001b[0mcookies\u001b[0m\u001b[0;34m)\u001b[0m\u001b[0;34m\u001b[0m\u001b[0;34m\u001b[0m\u001b[0m\n",
      "\u001b[0;32m~/opt/anaconda3/lib/python3.7/site-packages/requests/models.py\u001b[0m in \u001b[0;36mprepare_url\u001b[0;34m(self, url, params)\u001b[0m\n\u001b[1;32m    385\u001b[0m             \u001b[0merror\u001b[0m \u001b[0;34m=\u001b[0m \u001b[0merror\u001b[0m\u001b[0;34m.\u001b[0m\u001b[0mformat\u001b[0m\u001b[0;34m(\u001b[0m\u001b[0mto_native_string\u001b[0m\u001b[0;34m(\u001b[0m\u001b[0murl\u001b[0m\u001b[0;34m,\u001b[0m \u001b[0;34m'utf8'\u001b[0m\u001b[0;34m)\u001b[0m\u001b[0;34m)\u001b[0m\u001b[0;34m\u001b[0m\u001b[0;34m\u001b[0m\u001b[0m\n\u001b[1;32m    386\u001b[0m \u001b[0;34m\u001b[0m\u001b[0m\n\u001b[0;32m--> 387\u001b[0;31m             \u001b[0;32mraise\u001b[0m \u001b[0mMissingSchema\u001b[0m\u001b[0;34m(\u001b[0m\u001b[0merror\u001b[0m\u001b[0;34m)\u001b[0m\u001b[0;34m\u001b[0m\u001b[0;34m\u001b[0m\u001b[0m\n\u001b[0m\u001b[1;32m    388\u001b[0m \u001b[0;34m\u001b[0m\u001b[0m\n\u001b[1;32m    389\u001b[0m         \u001b[0;32mif\u001b[0m \u001b[0;32mnot\u001b[0m \u001b[0mhost\u001b[0m\u001b[0;34m:\u001b[0m\u001b[0;34m\u001b[0m\u001b[0;34m\u001b[0m\u001b[0m\n",
      "\u001b[0;31mMissingSchema\u001b[0m: Invalid URL 'api.airvisual.com/v2/states?country=USA&key=133b6666-71de-449d-8df8-95dda18274cd': No schema supplied. Perhaps you meant http://api.airvisual.com/v2/states?country=USA&key=133b6666-71de-449d-8df8-95dda18274cd?"
     ]
    }
   ],
   "source": [
    "requests.get(url)"
   ]
  },
  {
   "cell_type": "code",
   "execution_count": 43,
   "metadata": {},
   "outputs": [
    {
     "name": "stdout",
     "output_type": "stream",
     "text": [
      "{\"status\":\"success\",\"data\":{\"stations\":[{\"id\":\"f1dd374fa24e859d4ad7\",\"name\":\"IMD Aya Nagar - SAFAR\",\"city\":\"Delhi\",\"state\":\"Delhi\",\"country\":\"India\",\"i18n\":{},\"location\":{\"type\":\"Point\",\"coordinates\":[77.126772,28.48264]},\"type\":\"station\",\"current_measurement\":{\"aqius\":78,\"aqicn\":75,\"ts\":\"2020-06-27T15:00:00.000Z\"}},{\"id\":\"5ae954b569db0551eb019df9\",\"name\":\"Dwarka, Sec-8\",\"city\":\"Delhi\",\"state\":\"Delhi\",\"country\":\"India\",\"i18n\":{},\"location\":{\"type\":\"Point\",\"coordinates\":[77.075898,28.576909]},\"type\":\"station\",\"current_measurement\":{\"aqius\":138,\"aqicn\":140,\"ts\":\"2020-06-27T15:00:00.000Z\"}},{\"id\":\"5addb89ecc7daec8ffa9e815\",\"name\":\"Dwarka-Sector 8, Delhi - DPCC \",\"city\":\"Delhi\",\"state\":\"Delhi\",\"country\":\"India\",\"i18n\":{},\"location\":{\"type\":\"Point\",\"coordinates\":[77.0719006,28.5710274]},\"type\":\"station\",\"current_measurement\":{\"aqius\":123,\"aqicn\":125,\"ts\":\"2020-06-27T15:00:00.000Z\"}},{\"id\":\"maoaMB5KKQnHKAz3F\",\"name\":\"Vasundhara, Ghaziabad, UP - UPPCB\",\"city\":\"Ghaziabad\",\"state\":\"Uttar Pradesh\",\"country\":\"India\",\"i18n\":{},\"location\":{\"type\":\"Point\",\"coordinates\":[77.3572563,28.6603346]},\"type\":\"station\",\"current_measurement\":{\"aqius\":186,\"aqicn\":188,\"ts\":\"2020-06-27T14:00:00.000Z\"}},{\"id\":\"FzWFiFkbfpTBYkKjd\",\"name\":\"Mundka, Delhi - DPCC\",\"city\":\"Delhi\",\"state\":\"Delhi\",\"country\":\"India\",\"i18n\":{},\"location\":{\"type\":\"Point\",\"coordinates\":[77.076574,28.684678]},\"type\":\"station\",\"current_measurement\":{\"aqius\":128,\"aqicn\":120,\"ts\":\"2020-06-27T15:00:00.000Z\"}},{\"id\":\"70c244197d73e3349f8d\",\"name\":\"Sector-2 IMT, Manesar - HSPCB\",\"city\":\"Gurugram\",\"state\":\"Haryana\",\"country\":\"India\",\"i18n\":{},\"location\":{\"type\":\"Point\",\"coordinates\":[76.93607,28.360726]},\"type\":\"station\",\"current_measurement\":{\"aqius\":165,\"aqicn\":114,\"ts\":\"2020-06-27T15:00:00.000Z\"}},{\"id\":\"acc51c4a46b5df72bc4e\",\"name\":\"Sanjay Nagar, Ghaziabad - UPPCB\",\"city\":\"Dasna\",\"state\":\"Uttar Pradesh\",\"country\":\"India\",\"i18n\":{},\"location\":{\"type\":\"Point\",\"coordinates\":[77.450157,28.690167]},\"type\":\"station\",\"current_measurement\":{\"aqius\":266,\"aqicn\":273,\"ts\":\"2020-06-27T14:00:00.000Z\"}},{\"id\":\"5c482a2e64808d73d0606168\",\"name\":\"United States Embassy New Delhi - low cost sensor\",\"city\":\"Shahdara\",\"state\":\"Delhi\",\"country\":\"India\",\"i18n\":{},\"location\":{\"type\":\"Point\",\"coordinates\":[77.184748,28.597876]},\"type\":\"device\",\"current_measurement\":{\"aqius\":67,\"aqicn\":28,\"ts\":\"2020-06-27T16:00:00.000Z\"}},{\"id\":\"5addb89ecc7daec8ffa9e823\",\"name\":\"Rohini, Delhi - DPCC\",\"city\":\"Delhi\",\"state\":\"Delhi\",\"country\":\"India\",\"i18n\":{},\"location\":{\"type\":\"Point\",\"coordinates\":[77.11992,28.732528]},\"type\":\"station\",\"current_measurement\":{\"aqius\":191,\"aqicn\":194,\"ts\":\"2020-06-27T15:00:00.000Z\"}},{\"id\":\"G2HcuCHPLFxYPtMw4\",\"name\":\"Knowledge Park - III, Greater Noida - UPPCB\",\"city\":\"Greater Noida\",\"state\":\"Uttar Pradesh\",\"country\":\"India\",\"i18n\":{},\"location\":{\"type\":\"Point\",\"coordinates\":[77.482,28.47272]},\"type\":\"station\",\"current_measurement\":{\"aqius\":61,\"aqicn\":24,\"ts\":\"2020-06-18T10:00:00.000Z\"}}],\"cities\":[{\"id\":\"ceJrHNhXup9KtZTvQ\",\"city\":\"Delhi\",\"state\":\"Delhi\",\"country\":\"India\",\"i18n\":{},\"estimated\":0,\"location\":{\"type\":\"Point\",\"coordinates\":[77.1167,28.6683]},\"type\":\"city\",\"current_measurement\":{\"aqius\":133,\"aqicn\":126,\"ts\":\"2020-06-27T15:00:00.000Z\"}},{\"id\":\"rsCqEekpZJRFHDAiY\",\"city\":\"Mumbai\",\"state\":\"Maharashtra\",\"country\":\"India\",\"i18n\":{},\"estimated\":0,\"location\":{\"type\":\"Point\",\"coordinates\":[72.88261,19.07283]},\"type\":\"city\",\"current_measurement\":{\"aqius\":68,\"aqicn\":58,\"ts\":\"2020-06-27T15:00:00.000Z\"}},{\"id\":\"7bKmEaG2yvFWDPgis\",\"city\":\"Kolkata\",\"state\":\"West Bengal\",\"country\":\"India\",\"i18n\":{},\"estimated\":0,\"location\":{\"type\":\"Point\",\"coordinates\":[88.36304,22.56263]},\"type\":\"city\",\"current_measurement\":{\"aqius\":32,\"aqicn\":35,\"ts\":\"2020-06-27T15:00:00.000Z\"}},{\"id\":\"5bac86de24b967f0b5307bc3\",\"city\":\"New Delhi\",\"state\":\"Delhi\",\"country\":\"India\",\"i18n\":{},\"estimated\":0,\"location\":{\"type\":\"Point\",\"coordinates\":[77.231,28.656]},\"type\":\"city\",\"current_measurement\":{\"aqius\":159,\"aqicn\":117,\"ts\":\"2020-06-27T15:00:00.000Z\"}},{\"id\":\"TsYYXDtYmgPZWggyt\",\"city\":\"Bengaluru\",\"state\":\"Karnataka\",\"country\":\"India\",\"i18n\":{},\"estimated\":0,\"location\":{\"type\":\"Point\",\"coordinates\":[77.54583055555555,12.9916694]},\"type\":\"city\",\"current_measurement\":{\"aqius\":70,\"aqicn\":47,\"ts\":\"2020-06-27T15:00:00.000Z\"}},{\"id\":\"5wym6gWMtDRGHD9KF\",\"city\":\"Gurugram\",\"state\":\"Haryana\",\"country\":\"India\",\"i18n\":{},\"estimated\":0,\"location\":{\"type\":\"Point\",\"coordinates\":[77.0263051,28.4501238]},\"type\":\"city\",\"current_measurement\":{\"aqius\":160,\"aqicn\":114,\"ts\":\"2020-06-27T15:00:00.000Z\"}},{\"id\":\"75zYS2QjXuiK8MHTb\",\"city\":\"Noida\",\"state\":\"Uttar Pradesh\",\"country\":\"India\",\"i18n\":{},\"estimated\":0,\"location\":{\"type\":\"Point\",\"coordinates\":[77.33187,28.541577]},\"type\":\"city\",\"current_measurement\":{\"aqius\":134,\"aqicn\":136,\"ts\":\"2020-06-27T15:00:00.000Z\"}},{\"id\":\"MQRQdrRPrAygvidmR\",\"city\":\"Chennai\",\"state\":\"Tamil Nadu\",\"country\":\"India\",\"i18n\":{},\"estimated\":0,\"location\":{\"type\":\"Point\",\"coordinates\":[80.27847,13.08784]},\"type\":\"city\",\"current_measurement\":{\"aqius\":80,\"aqicn\":37,\"ts\":\"2020-06-27T15:00:00.000Z\"}},{\"id\":\"e2GfZCa39AcEQ5J5v\",\"city\":\"Lucknow\",\"state\":\"Uttar Pradesh\",\"country\":\"India\",\"i18n\":{},\"estimated\":0,\"location\":{\"type\":\"Point\",\"coordinates\":[80.93874444,26.84578611]},\"type\":\"city\",\"current_measurement\":{\"aqius\":138,\"aqicn\":69,\"ts\":\"2020-06-27T15:00:00.000Z\"}},{\"id\":\"txnuNKcEoqJL6kJZ7\",\"city\":\"Pune\",\"state\":\"Maharashtra\",\"country\":\"India\",\"i18n\":{},\"estimated\":0,\"location\":{\"type\":\"Point\",\"coordinates\":[73.8183358,18.4913365]},\"type\":\"city\",\"current_measurement\":{\"aqius\":42,\"aqicn\":14,\"ts\":\"2020-06-27T16:00:00.000Z\"}}],\"news\":[{\"author\":\"Louise W\",\"date\":\"2019-10-28T00:00:00.000Z\",\"status\":\"online\",\"thumbnail\":\"https://d2oixsqbjhy8z2.cloudfront.net/thumbnaildiwali2.png\",\"title\":\"No let-up in air pollution this Diwali: Delhi air quality worsens\",\"type\":\"news\",\"url\":\"https://www.airvisual.com/air-pollution-information/news/no-let-up-in-air-pollution-this-diwali-delhi-air-quality-worsens\"},{\"author\":\"Louise W\",\"date\":\"2019-10-25T00:00:00.000Z\",\"status\":\"online\",\"thumbnail\":\"https://d2oixsqbjhy8z2.cloudfront.net/greenfireworksthumbnail.jpg\",\"title\":\"Will green crackers reduce India’s air pollution during the 2019 Diwali?\",\"type\":\"news\",\"url\":\"https://www.airvisual.com/air-pollution-information/news/will-green-crackers-reduce-india-s-air-pollution-during-the-2019-diwali\"},{\"author\":\"Tech Times\",\"date\":\"2016-04-04T00:00:00.000Z\",\"status\":\"online\",\"thumbnail\":\"https://d2oixsqbjhy8z2.cloudfront.net/20160404-india-gold-temple.JPG\",\"title\":\"India's Golden Temple Loses Sheen Because Of Air Pollution\",\"type\":\"news\",\"url\":\"https://www.airvisual.com/air-pollution-information/news/india-s-golden-temple-loses-sheen-because-of-air-pollution\"},{\"author\":\"News - Medical\",\"date\":\"2016-02-15T00:00:00.000Z\",\"status\":\"online\",\"thumbnail\":\"https://d2oixsqbjhy8z2.cloudfront.net/12112015-hkmask.jpg\",\"title\":\"Household and outdoor air pollution kills more than 5.5 million people every year\",\"type\":\"news\",\"url\":\"https://www.airvisual.com/air-pollution-information/news/household-and-outdoor-air-pollution-kills-more-than-5-5-million-people-every-year\"},{\"author\":\"The Economic Times\",\"date\":\"2015-12-20T00:00:00.000Z\",\"status\":\"online\",\"thumbnail\":\"https://d2oixsqbjhy8z2.cloudfront.net/12102015-india-run.jpeg\",\"title\":\"Legislation to reduce air pollution urgently needed\",\"type\":\"news\",\"url\":\"https://www.airvisual.com/air-pollution-information/news/legislation-to-reduce-air-pollution-urgently-needed\"},{\"author\":\"Global News\",\"date\":\"2015-12-16T00:00:00.000Z\",\"status\":\"online\",\"thumbnail\":\"https://d2oixsqbjhy8z2.cloudfront.net/121020150-indiacar-polluion.jpg\",\"title\":\"India’s top court issues new rules on vehicles to curb air pollution in New Delhi\",\"type\":\"news\",\"url\":\"https://www.airvisual.com/air-pollution-information/news/india-s-top-court-issues-new-rules-on-vehicles-to-curb-air-pollution-in-new-delhi\"},{\"author\":\"Next Big Future\",\"date\":\"2015-12-05T00:00:00.000Z\",\"status\":\"online\",\"thumbnail\":\"https://d2oixsqbjhy8z2.cloudfront.net/12102015-india-trash.jpg\",\"title\":\"New Delhi has worse air pollution than Beijing\",\"type\":\"news\",\"url\":\"https://www.airvisual.com/air-pollution-information/news/new-delhi-has-worse-air-pollution-than-beijing\"},{\"author\":\"Indian Express\",\"date\":\"2015-09-30T00:00:00.000Z\",\"status\":\"online\",\"thumbnail\":\"https://d2oixsqbjhy8z2.cloudfront.net/12112015-india-california.jpg\",\"title\":\"California to help India in reducing air pollution\",\"type\":\"news\",\"url\":\"https://www.airvisual.com/air-pollution-information/news/california-to-help-india-in-reducing-air-pollution\"},{\"author\":\"New York Times\",\"date\":\"2015-06-26T00:00:00.000Z\",\"status\":\"online\",\"thumbnail\":\"https://d2oixsqbjhy8z2.cloudfront.net/10122015-india-children.jpg\",\"title\":\"Holding your breath in India\",\"type\":\"news\",\"url\":\"https://www.airvisual.com/air-pollution-information/news/holding-your-breath-in-india\"},{\"author\":\"The Economist\",\"date\":\"2015-02-05T00:00:00.000Z\",\"status\":\"online\",\"thumbnail\":\"https://d2oixsqbjhy8z2.cloudfront.net/121020150-indiacar-polluion.jpg\",\"title\":\"Breathe uneasy - The air that Indians breathe is dangerously toxic\",\"type\":\"news\",\"url\":\"https://www.airvisual.com/air-pollution-information/news/breathe-uneasy-the-air-that-indians-breathe-is-dangerously-toxic\"}],\"contributors\":[{\"id\":\"5cc160e7754da45a53df8e27\",\"name\":\"Indiana University\",\"type\":\"contributor\",\"subType\":\"organization\",\"picture\":\"https://cdn.airvisual.net/gov/tiny/indiana-university-avatar-Indiana University_logo.jpg\",\"visibility\":true,\"isVerified\":true},{\"id\":\"5cb9494be613ee17724ccf80\",\"name\":\"India System of Air Quality and Weather Forecasting And Research (SAFAR)\",\"type\":\"contributor\",\"subType\":\"government\",\"picture\":\"http://cdn.airvisual.net/gov/tiny/safar.png\",\"visibility\":true,\"isVerified\":true},{\"id\":\"5cb94899e613ee17724ccef9\",\"name\":\"Indiana Department of Environmental Management\",\"type\":\"contributor\",\"subType\":\"government\",\"picture\":\"http://cdn.airvisual.net/gov/tiny/idem-tx-sutron.png\",\"visibility\":true,\"isVerified\":true}]}}\n"
     ]
    }
   ],
   "source": [
    "import requests\n",
    "\n",
    "url = \"https://airvisual1.p.rapidapi.com/auto-complete\"\n",
    "\n",
    "querystring = {\"query\":\"india\"}\n",
    "\n",
    "headers = {\n",
    "    'x-rapidapi-host': \"airvisual1.p.rapidapi.com\",\n",
    "    'x-rapidapi-key': \"5eeb1e148amsh67824ebcafb1348p1d1c15jsncfb7a2cbf97f\"\n",
    "    }\n",
    "\n",
    "response = requests.request(\"GET\", url, headers=headers, params=querystring)\n",
    "\n",
    "print(response.text)\n",
    "response=response.json()"
   ]
  },
  {
   "cell_type": "code",
   "execution_count": 44,
   "metadata": {},
   "outputs": [
    {
     "data": {
      "text/plain": [
       "{'status': 'success',\n",
       " 'data': {'stations': [{'id': 'f1dd374fa24e859d4ad7',\n",
       "    'name': 'IMD Aya Nagar - SAFAR',\n",
       "    'city': 'Delhi',\n",
       "    'state': 'Delhi',\n",
       "    'country': 'India',\n",
       "    'i18n': {},\n",
       "    'location': {'type': 'Point', 'coordinates': [77.126772, 28.48264]},\n",
       "    'type': 'station',\n",
       "    'current_measurement': {'aqius': 78,\n",
       "     'aqicn': 75,\n",
       "     'ts': '2020-06-27T15:00:00.000Z'}},\n",
       "   {'id': '5ae954b569db0551eb019df9',\n",
       "    'name': 'Dwarka, Sec-8',\n",
       "    'city': 'Delhi',\n",
       "    'state': 'Delhi',\n",
       "    'country': 'India',\n",
       "    'i18n': {},\n",
       "    'location': {'type': 'Point', 'coordinates': [77.075898, 28.576909]},\n",
       "    'type': 'station',\n",
       "    'current_measurement': {'aqius': 138,\n",
       "     'aqicn': 140,\n",
       "     'ts': '2020-06-27T15:00:00.000Z'}},\n",
       "   {'id': '5addb89ecc7daec8ffa9e815',\n",
       "    'name': 'Dwarka-Sector 8, Delhi - DPCC ',\n",
       "    'city': 'Delhi',\n",
       "    'state': 'Delhi',\n",
       "    'country': 'India',\n",
       "    'i18n': {},\n",
       "    'location': {'type': 'Point', 'coordinates': [77.0719006, 28.5710274]},\n",
       "    'type': 'station',\n",
       "    'current_measurement': {'aqius': 123,\n",
       "     'aqicn': 125,\n",
       "     'ts': '2020-06-27T15:00:00.000Z'}},\n",
       "   {'id': 'maoaMB5KKQnHKAz3F',\n",
       "    'name': 'Vasundhara, Ghaziabad, UP - UPPCB',\n",
       "    'city': 'Ghaziabad',\n",
       "    'state': 'Uttar Pradesh',\n",
       "    'country': 'India',\n",
       "    'i18n': {},\n",
       "    'location': {'type': 'Point', 'coordinates': [77.3572563, 28.6603346]},\n",
       "    'type': 'station',\n",
       "    'current_measurement': {'aqius': 186,\n",
       "     'aqicn': 188,\n",
       "     'ts': '2020-06-27T14:00:00.000Z'}},\n",
       "   {'id': 'FzWFiFkbfpTBYkKjd',\n",
       "    'name': 'Mundka, Delhi - DPCC',\n",
       "    'city': 'Delhi',\n",
       "    'state': 'Delhi',\n",
       "    'country': 'India',\n",
       "    'i18n': {},\n",
       "    'location': {'type': 'Point', 'coordinates': [77.076574, 28.684678]},\n",
       "    'type': 'station',\n",
       "    'current_measurement': {'aqius': 128,\n",
       "     'aqicn': 120,\n",
       "     'ts': '2020-06-27T15:00:00.000Z'}},\n",
       "   {'id': '70c244197d73e3349f8d',\n",
       "    'name': 'Sector-2 IMT, Manesar - HSPCB',\n",
       "    'city': 'Gurugram',\n",
       "    'state': 'Haryana',\n",
       "    'country': 'India',\n",
       "    'i18n': {},\n",
       "    'location': {'type': 'Point', 'coordinates': [76.93607, 28.360726]},\n",
       "    'type': 'station',\n",
       "    'current_measurement': {'aqius': 165,\n",
       "     'aqicn': 114,\n",
       "     'ts': '2020-06-27T15:00:00.000Z'}},\n",
       "   {'id': 'acc51c4a46b5df72bc4e',\n",
       "    'name': 'Sanjay Nagar, Ghaziabad - UPPCB',\n",
       "    'city': 'Dasna',\n",
       "    'state': 'Uttar Pradesh',\n",
       "    'country': 'India',\n",
       "    'i18n': {},\n",
       "    'location': {'type': 'Point', 'coordinates': [77.450157, 28.690167]},\n",
       "    'type': 'station',\n",
       "    'current_measurement': {'aqius': 266,\n",
       "     'aqicn': 273,\n",
       "     'ts': '2020-06-27T14:00:00.000Z'}},\n",
       "   {'id': '5c482a2e64808d73d0606168',\n",
       "    'name': 'United States Embassy New Delhi - low cost sensor',\n",
       "    'city': 'Shahdara',\n",
       "    'state': 'Delhi',\n",
       "    'country': 'India',\n",
       "    'i18n': {},\n",
       "    'location': {'type': 'Point', 'coordinates': [77.184748, 28.597876]},\n",
       "    'type': 'device',\n",
       "    'current_measurement': {'aqius': 67,\n",
       "     'aqicn': 28,\n",
       "     'ts': '2020-06-27T16:00:00.000Z'}},\n",
       "   {'id': '5addb89ecc7daec8ffa9e823',\n",
       "    'name': 'Rohini, Delhi - DPCC',\n",
       "    'city': 'Delhi',\n",
       "    'state': 'Delhi',\n",
       "    'country': 'India',\n",
       "    'i18n': {},\n",
       "    'location': {'type': 'Point', 'coordinates': [77.11992, 28.732528]},\n",
       "    'type': 'station',\n",
       "    'current_measurement': {'aqius': 191,\n",
       "     'aqicn': 194,\n",
       "     'ts': '2020-06-27T15:00:00.000Z'}},\n",
       "   {'id': 'G2HcuCHPLFxYPtMw4',\n",
       "    'name': 'Knowledge Park - III, Greater Noida - UPPCB',\n",
       "    'city': 'Greater Noida',\n",
       "    'state': 'Uttar Pradesh',\n",
       "    'country': 'India',\n",
       "    'i18n': {},\n",
       "    'location': {'type': 'Point', 'coordinates': [77.482, 28.47272]},\n",
       "    'type': 'station',\n",
       "    'current_measurement': {'aqius': 61,\n",
       "     'aqicn': 24,\n",
       "     'ts': '2020-06-18T10:00:00.000Z'}}],\n",
       "  'cities': [{'id': 'ceJrHNhXup9KtZTvQ',\n",
       "    'city': 'Delhi',\n",
       "    'state': 'Delhi',\n",
       "    'country': 'India',\n",
       "    'i18n': {},\n",
       "    'estimated': 0,\n",
       "    'location': {'type': 'Point', 'coordinates': [77.1167, 28.6683]},\n",
       "    'type': 'city',\n",
       "    'current_measurement': {'aqius': 133,\n",
       "     'aqicn': 126,\n",
       "     'ts': '2020-06-27T15:00:00.000Z'}},\n",
       "   {'id': 'rsCqEekpZJRFHDAiY',\n",
       "    'city': 'Mumbai',\n",
       "    'state': 'Maharashtra',\n",
       "    'country': 'India',\n",
       "    'i18n': {},\n",
       "    'estimated': 0,\n",
       "    'location': {'type': 'Point', 'coordinates': [72.88261, 19.07283]},\n",
       "    'type': 'city',\n",
       "    'current_measurement': {'aqius': 68,\n",
       "     'aqicn': 58,\n",
       "     'ts': '2020-06-27T15:00:00.000Z'}},\n",
       "   {'id': '7bKmEaG2yvFWDPgis',\n",
       "    'city': 'Kolkata',\n",
       "    'state': 'West Bengal',\n",
       "    'country': 'India',\n",
       "    'i18n': {},\n",
       "    'estimated': 0,\n",
       "    'location': {'type': 'Point', 'coordinates': [88.36304, 22.56263]},\n",
       "    'type': 'city',\n",
       "    'current_measurement': {'aqius': 32,\n",
       "     'aqicn': 35,\n",
       "     'ts': '2020-06-27T15:00:00.000Z'}},\n",
       "   {'id': '5bac86de24b967f0b5307bc3',\n",
       "    'city': 'New Delhi',\n",
       "    'state': 'Delhi',\n",
       "    'country': 'India',\n",
       "    'i18n': {},\n",
       "    'estimated': 0,\n",
       "    'location': {'type': 'Point', 'coordinates': [77.231, 28.656]},\n",
       "    'type': 'city',\n",
       "    'current_measurement': {'aqius': 159,\n",
       "     'aqicn': 117,\n",
       "     'ts': '2020-06-27T15:00:00.000Z'}},\n",
       "   {'id': 'TsYYXDtYmgPZWggyt',\n",
       "    'city': 'Bengaluru',\n",
       "    'state': 'Karnataka',\n",
       "    'country': 'India',\n",
       "    'i18n': {},\n",
       "    'estimated': 0,\n",
       "    'location': {'type': 'Point',\n",
       "     'coordinates': [77.54583055555555, 12.9916694]},\n",
       "    'type': 'city',\n",
       "    'current_measurement': {'aqius': 70,\n",
       "     'aqicn': 47,\n",
       "     'ts': '2020-06-27T15:00:00.000Z'}},\n",
       "   {'id': '5wym6gWMtDRGHD9KF',\n",
       "    'city': 'Gurugram',\n",
       "    'state': 'Haryana',\n",
       "    'country': 'India',\n",
       "    'i18n': {},\n",
       "    'estimated': 0,\n",
       "    'location': {'type': 'Point', 'coordinates': [77.0263051, 28.4501238]},\n",
       "    'type': 'city',\n",
       "    'current_measurement': {'aqius': 160,\n",
       "     'aqicn': 114,\n",
       "     'ts': '2020-06-27T15:00:00.000Z'}},\n",
       "   {'id': '75zYS2QjXuiK8MHTb',\n",
       "    'city': 'Noida',\n",
       "    'state': 'Uttar Pradesh',\n",
       "    'country': 'India',\n",
       "    'i18n': {},\n",
       "    'estimated': 0,\n",
       "    'location': {'type': 'Point', 'coordinates': [77.33187, 28.541577]},\n",
       "    'type': 'city',\n",
       "    'current_measurement': {'aqius': 134,\n",
       "     'aqicn': 136,\n",
       "     'ts': '2020-06-27T15:00:00.000Z'}},\n",
       "   {'id': 'MQRQdrRPrAygvidmR',\n",
       "    'city': 'Chennai',\n",
       "    'state': 'Tamil Nadu',\n",
       "    'country': 'India',\n",
       "    'i18n': {},\n",
       "    'estimated': 0,\n",
       "    'location': {'type': 'Point', 'coordinates': [80.27847, 13.08784]},\n",
       "    'type': 'city',\n",
       "    'current_measurement': {'aqius': 80,\n",
       "     'aqicn': 37,\n",
       "     'ts': '2020-06-27T15:00:00.000Z'}},\n",
       "   {'id': 'e2GfZCa39AcEQ5J5v',\n",
       "    'city': 'Lucknow',\n",
       "    'state': 'Uttar Pradesh',\n",
       "    'country': 'India',\n",
       "    'i18n': {},\n",
       "    'estimated': 0,\n",
       "    'location': {'type': 'Point', 'coordinates': [80.93874444, 26.84578611]},\n",
       "    'type': 'city',\n",
       "    'current_measurement': {'aqius': 138,\n",
       "     'aqicn': 69,\n",
       "     'ts': '2020-06-27T15:00:00.000Z'}},\n",
       "   {'id': 'txnuNKcEoqJL6kJZ7',\n",
       "    'city': 'Pune',\n",
       "    'state': 'Maharashtra',\n",
       "    'country': 'India',\n",
       "    'i18n': {},\n",
       "    'estimated': 0,\n",
       "    'location': {'type': 'Point', 'coordinates': [73.8183358, 18.4913365]},\n",
       "    'type': 'city',\n",
       "    'current_measurement': {'aqius': 42,\n",
       "     'aqicn': 14,\n",
       "     'ts': '2020-06-27T16:00:00.000Z'}}],\n",
       "  'news': [{'author': 'Louise W',\n",
       "    'date': '2019-10-28T00:00:00.000Z',\n",
       "    'status': 'online',\n",
       "    'thumbnail': 'https://d2oixsqbjhy8z2.cloudfront.net/thumbnaildiwali2.png',\n",
       "    'title': 'No let-up in air pollution this Diwali: Delhi air quality worsens',\n",
       "    'type': 'news',\n",
       "    'url': 'https://www.airvisual.com/air-pollution-information/news/no-let-up-in-air-pollution-this-diwali-delhi-air-quality-worsens'},\n",
       "   {'author': 'Louise W',\n",
       "    'date': '2019-10-25T00:00:00.000Z',\n",
       "    'status': 'online',\n",
       "    'thumbnail': 'https://d2oixsqbjhy8z2.cloudfront.net/greenfireworksthumbnail.jpg',\n",
       "    'title': 'Will green crackers reduce India’s air pollution during the 2019 Diwali?',\n",
       "    'type': 'news',\n",
       "    'url': 'https://www.airvisual.com/air-pollution-information/news/will-green-crackers-reduce-india-s-air-pollution-during-the-2019-diwali'},\n",
       "   {'author': 'Tech Times',\n",
       "    'date': '2016-04-04T00:00:00.000Z',\n",
       "    'status': 'online',\n",
       "    'thumbnail': 'https://d2oixsqbjhy8z2.cloudfront.net/20160404-india-gold-temple.JPG',\n",
       "    'title': \"India's Golden Temple Loses Sheen Because Of Air Pollution\",\n",
       "    'type': 'news',\n",
       "    'url': 'https://www.airvisual.com/air-pollution-information/news/india-s-golden-temple-loses-sheen-because-of-air-pollution'},\n",
       "   {'author': 'News - Medical',\n",
       "    'date': '2016-02-15T00:00:00.000Z',\n",
       "    'status': 'online',\n",
       "    'thumbnail': 'https://d2oixsqbjhy8z2.cloudfront.net/12112015-hkmask.jpg',\n",
       "    'title': 'Household and outdoor air pollution kills more than 5.5 million people every year',\n",
       "    'type': 'news',\n",
       "    'url': 'https://www.airvisual.com/air-pollution-information/news/household-and-outdoor-air-pollution-kills-more-than-5-5-million-people-every-year'},\n",
       "   {'author': 'The Economic Times',\n",
       "    'date': '2015-12-20T00:00:00.000Z',\n",
       "    'status': 'online',\n",
       "    'thumbnail': 'https://d2oixsqbjhy8z2.cloudfront.net/12102015-india-run.jpeg',\n",
       "    'title': 'Legislation to reduce air pollution urgently needed',\n",
       "    'type': 'news',\n",
       "    'url': 'https://www.airvisual.com/air-pollution-information/news/legislation-to-reduce-air-pollution-urgently-needed'},\n",
       "   {'author': 'Global News',\n",
       "    'date': '2015-12-16T00:00:00.000Z',\n",
       "    'status': 'online',\n",
       "    'thumbnail': 'https://d2oixsqbjhy8z2.cloudfront.net/121020150-indiacar-polluion.jpg',\n",
       "    'title': 'India’s top court issues new rules on vehicles to curb air pollution in New Delhi',\n",
       "    'type': 'news',\n",
       "    'url': 'https://www.airvisual.com/air-pollution-information/news/india-s-top-court-issues-new-rules-on-vehicles-to-curb-air-pollution-in-new-delhi'},\n",
       "   {'author': 'Next Big Future',\n",
       "    'date': '2015-12-05T00:00:00.000Z',\n",
       "    'status': 'online',\n",
       "    'thumbnail': 'https://d2oixsqbjhy8z2.cloudfront.net/12102015-india-trash.jpg',\n",
       "    'title': 'New Delhi has worse air pollution than Beijing',\n",
       "    'type': 'news',\n",
       "    'url': 'https://www.airvisual.com/air-pollution-information/news/new-delhi-has-worse-air-pollution-than-beijing'},\n",
       "   {'author': 'Indian Express',\n",
       "    'date': '2015-09-30T00:00:00.000Z',\n",
       "    'status': 'online',\n",
       "    'thumbnail': 'https://d2oixsqbjhy8z2.cloudfront.net/12112015-india-california.jpg',\n",
       "    'title': 'California to help India in reducing air pollution',\n",
       "    'type': 'news',\n",
       "    'url': 'https://www.airvisual.com/air-pollution-information/news/california-to-help-india-in-reducing-air-pollution'},\n",
       "   {'author': 'New York Times',\n",
       "    'date': '2015-06-26T00:00:00.000Z',\n",
       "    'status': 'online',\n",
       "    'thumbnail': 'https://d2oixsqbjhy8z2.cloudfront.net/10122015-india-children.jpg',\n",
       "    'title': 'Holding your breath in India',\n",
       "    'type': 'news',\n",
       "    'url': 'https://www.airvisual.com/air-pollution-information/news/holding-your-breath-in-india'},\n",
       "   {'author': 'The Economist',\n",
       "    'date': '2015-02-05T00:00:00.000Z',\n",
       "    'status': 'online',\n",
       "    'thumbnail': 'https://d2oixsqbjhy8z2.cloudfront.net/121020150-indiacar-polluion.jpg',\n",
       "    'title': 'Breathe uneasy - The air that Indians breathe is dangerously toxic',\n",
       "    'type': 'news',\n",
       "    'url': 'https://www.airvisual.com/air-pollution-information/news/breathe-uneasy-the-air-that-indians-breathe-is-dangerously-toxic'}],\n",
       "  'contributors': [{'id': '5cc160e7754da45a53df8e27',\n",
       "    'name': 'Indiana University',\n",
       "    'type': 'contributor',\n",
       "    'subType': 'organization',\n",
       "    'picture': 'https://cdn.airvisual.net/gov/tiny/indiana-university-avatar-Indiana University_logo.jpg',\n",
       "    'visibility': True,\n",
       "    'isVerified': True},\n",
       "   {'id': '5cb9494be613ee17724ccf80',\n",
       "    'name': 'India System of Air Quality and Weather Forecasting And Research (SAFAR)',\n",
       "    'type': 'contributor',\n",
       "    'subType': 'government',\n",
       "    'picture': 'http://cdn.airvisual.net/gov/tiny/safar.png',\n",
       "    'visibility': True,\n",
       "    'isVerified': True},\n",
       "   {'id': '5cb94899e613ee17724ccef9',\n",
       "    'name': 'Indiana Department of Environmental Management',\n",
       "    'type': 'contributor',\n",
       "    'subType': 'government',\n",
       "    'picture': 'http://cdn.airvisual.net/gov/tiny/idem-tx-sutron.png',\n",
       "    'visibility': True,\n",
       "    'isVerified': True}]}}"
      ]
     },
     "execution_count": 44,
     "metadata": {},
     "output_type": "execute_result"
    }
   ],
   "source": [
    "response"
   ]
  },
  {
   "cell_type": "code",
   "execution_count": 50,
   "metadata": {},
   "outputs": [
    {
     "data": {
      "text/plain": [
       "{'stations': [{'id': 'f1dd374fa24e859d4ad7',\n",
       "   'name': 'IMD Aya Nagar - SAFAR',\n",
       "   'city': 'Delhi',\n",
       "   'state': 'Delhi',\n",
       "   'country': 'India',\n",
       "   'i18n': {},\n",
       "   'location': {'type': 'Point', 'coordinates': [77.126772, 28.48264]},\n",
       "   'type': 'station',\n",
       "   'current_measurement': {'aqius': 78,\n",
       "    'aqicn': 75,\n",
       "    'ts': '2020-06-27T15:00:00.000Z'}},\n",
       "  {'id': '5ae954b569db0551eb019df9',\n",
       "   'name': 'Dwarka, Sec-8',\n",
       "   'city': 'Delhi',\n",
       "   'state': 'Delhi',\n",
       "   'country': 'India',\n",
       "   'i18n': {},\n",
       "   'location': {'type': 'Point', 'coordinates': [77.075898, 28.576909]},\n",
       "   'type': 'station',\n",
       "   'current_measurement': {'aqius': 138,\n",
       "    'aqicn': 140,\n",
       "    'ts': '2020-06-27T15:00:00.000Z'}},\n",
       "  {'id': '5addb89ecc7daec8ffa9e815',\n",
       "   'name': 'Dwarka-Sector 8, Delhi - DPCC ',\n",
       "   'city': 'Delhi',\n",
       "   'state': 'Delhi',\n",
       "   'country': 'India',\n",
       "   'i18n': {},\n",
       "   'location': {'type': 'Point', 'coordinates': [77.0719006, 28.5710274]},\n",
       "   'type': 'station',\n",
       "   'current_measurement': {'aqius': 123,\n",
       "    'aqicn': 125,\n",
       "    'ts': '2020-06-27T15:00:00.000Z'}},\n",
       "  {'id': 'maoaMB5KKQnHKAz3F',\n",
       "   'name': 'Vasundhara, Ghaziabad, UP - UPPCB',\n",
       "   'city': 'Ghaziabad',\n",
       "   'state': 'Uttar Pradesh',\n",
       "   'country': 'India',\n",
       "   'i18n': {},\n",
       "   'location': {'type': 'Point', 'coordinates': [77.3572563, 28.6603346]},\n",
       "   'type': 'station',\n",
       "   'current_measurement': {'aqius': 186,\n",
       "    'aqicn': 188,\n",
       "    'ts': '2020-06-27T14:00:00.000Z'}},\n",
       "  {'id': 'FzWFiFkbfpTBYkKjd',\n",
       "   'name': 'Mundka, Delhi - DPCC',\n",
       "   'city': 'Delhi',\n",
       "   'state': 'Delhi',\n",
       "   'country': 'India',\n",
       "   'i18n': {},\n",
       "   'location': {'type': 'Point', 'coordinates': [77.076574, 28.684678]},\n",
       "   'type': 'station',\n",
       "   'current_measurement': {'aqius': 128,\n",
       "    'aqicn': 120,\n",
       "    'ts': '2020-06-27T15:00:00.000Z'}},\n",
       "  {'id': '70c244197d73e3349f8d',\n",
       "   'name': 'Sector-2 IMT, Manesar - HSPCB',\n",
       "   'city': 'Gurugram',\n",
       "   'state': 'Haryana',\n",
       "   'country': 'India',\n",
       "   'i18n': {},\n",
       "   'location': {'type': 'Point', 'coordinates': [76.93607, 28.360726]},\n",
       "   'type': 'station',\n",
       "   'current_measurement': {'aqius': 165,\n",
       "    'aqicn': 114,\n",
       "    'ts': '2020-06-27T15:00:00.000Z'}},\n",
       "  {'id': 'acc51c4a46b5df72bc4e',\n",
       "   'name': 'Sanjay Nagar, Ghaziabad - UPPCB',\n",
       "   'city': 'Dasna',\n",
       "   'state': 'Uttar Pradesh',\n",
       "   'country': 'India',\n",
       "   'i18n': {},\n",
       "   'location': {'type': 'Point', 'coordinates': [77.450157, 28.690167]},\n",
       "   'type': 'station',\n",
       "   'current_measurement': {'aqius': 266,\n",
       "    'aqicn': 273,\n",
       "    'ts': '2020-06-27T14:00:00.000Z'}},\n",
       "  {'id': '5c482a2e64808d73d0606168',\n",
       "   'name': 'United States Embassy New Delhi - low cost sensor',\n",
       "   'city': 'Shahdara',\n",
       "   'state': 'Delhi',\n",
       "   'country': 'India',\n",
       "   'i18n': {},\n",
       "   'location': {'type': 'Point', 'coordinates': [77.184748, 28.597876]},\n",
       "   'type': 'device',\n",
       "   'current_measurement': {'aqius': 67,\n",
       "    'aqicn': 28,\n",
       "    'ts': '2020-06-27T16:00:00.000Z'}},\n",
       "  {'id': '5addb89ecc7daec8ffa9e823',\n",
       "   'name': 'Rohini, Delhi - DPCC',\n",
       "   'city': 'Delhi',\n",
       "   'state': 'Delhi',\n",
       "   'country': 'India',\n",
       "   'i18n': {},\n",
       "   'location': {'type': 'Point', 'coordinates': [77.11992, 28.732528]},\n",
       "   'type': 'station',\n",
       "   'current_measurement': {'aqius': 191,\n",
       "    'aqicn': 194,\n",
       "    'ts': '2020-06-27T15:00:00.000Z'}},\n",
       "  {'id': 'G2HcuCHPLFxYPtMw4',\n",
       "   'name': 'Knowledge Park - III, Greater Noida - UPPCB',\n",
       "   'city': 'Greater Noida',\n",
       "   'state': 'Uttar Pradesh',\n",
       "   'country': 'India',\n",
       "   'i18n': {},\n",
       "   'location': {'type': 'Point', 'coordinates': [77.482, 28.47272]},\n",
       "   'type': 'station',\n",
       "   'current_measurement': {'aqius': 61,\n",
       "    'aqicn': 24,\n",
       "    'ts': '2020-06-18T10:00:00.000Z'}}],\n",
       " 'cities': [{'id': 'ceJrHNhXup9KtZTvQ',\n",
       "   'city': 'Delhi',\n",
       "   'state': 'Delhi',\n",
       "   'country': 'India',\n",
       "   'i18n': {},\n",
       "   'estimated': 0,\n",
       "   'location': {'type': 'Point', 'coordinates': [77.1167, 28.6683]},\n",
       "   'type': 'city',\n",
       "   'current_measurement': {'aqius': 133,\n",
       "    'aqicn': 126,\n",
       "    'ts': '2020-06-27T15:00:00.000Z'}},\n",
       "  {'id': 'rsCqEekpZJRFHDAiY',\n",
       "   'city': 'Mumbai',\n",
       "   'state': 'Maharashtra',\n",
       "   'country': 'India',\n",
       "   'i18n': {},\n",
       "   'estimated': 0,\n",
       "   'location': {'type': 'Point', 'coordinates': [72.88261, 19.07283]},\n",
       "   'type': 'city',\n",
       "   'current_measurement': {'aqius': 68,\n",
       "    'aqicn': 58,\n",
       "    'ts': '2020-06-27T15:00:00.000Z'}},\n",
       "  {'id': '7bKmEaG2yvFWDPgis',\n",
       "   'city': 'Kolkata',\n",
       "   'state': 'West Bengal',\n",
       "   'country': 'India',\n",
       "   'i18n': {},\n",
       "   'estimated': 0,\n",
       "   'location': {'type': 'Point', 'coordinates': [88.36304, 22.56263]},\n",
       "   'type': 'city',\n",
       "   'current_measurement': {'aqius': 32,\n",
       "    'aqicn': 35,\n",
       "    'ts': '2020-06-27T15:00:00.000Z'}},\n",
       "  {'id': '5bac86de24b967f0b5307bc3',\n",
       "   'city': 'New Delhi',\n",
       "   'state': 'Delhi',\n",
       "   'country': 'India',\n",
       "   'i18n': {},\n",
       "   'estimated': 0,\n",
       "   'location': {'type': 'Point', 'coordinates': [77.231, 28.656]},\n",
       "   'type': 'city',\n",
       "   'current_measurement': {'aqius': 159,\n",
       "    'aqicn': 117,\n",
       "    'ts': '2020-06-27T15:00:00.000Z'}},\n",
       "  {'id': 'TsYYXDtYmgPZWggyt',\n",
       "   'city': 'Bengaluru',\n",
       "   'state': 'Karnataka',\n",
       "   'country': 'India',\n",
       "   'i18n': {},\n",
       "   'estimated': 0,\n",
       "   'location': {'type': 'Point',\n",
       "    'coordinates': [77.54583055555555, 12.9916694]},\n",
       "   'type': 'city',\n",
       "   'current_measurement': {'aqius': 70,\n",
       "    'aqicn': 47,\n",
       "    'ts': '2020-06-27T15:00:00.000Z'}},\n",
       "  {'id': '5wym6gWMtDRGHD9KF',\n",
       "   'city': 'Gurugram',\n",
       "   'state': 'Haryana',\n",
       "   'country': 'India',\n",
       "   'i18n': {},\n",
       "   'estimated': 0,\n",
       "   'location': {'type': 'Point', 'coordinates': [77.0263051, 28.4501238]},\n",
       "   'type': 'city',\n",
       "   'current_measurement': {'aqius': 160,\n",
       "    'aqicn': 114,\n",
       "    'ts': '2020-06-27T15:00:00.000Z'}},\n",
       "  {'id': '75zYS2QjXuiK8MHTb',\n",
       "   'city': 'Noida',\n",
       "   'state': 'Uttar Pradesh',\n",
       "   'country': 'India',\n",
       "   'i18n': {},\n",
       "   'estimated': 0,\n",
       "   'location': {'type': 'Point', 'coordinates': [77.33187, 28.541577]},\n",
       "   'type': 'city',\n",
       "   'current_measurement': {'aqius': 134,\n",
       "    'aqicn': 136,\n",
       "    'ts': '2020-06-27T15:00:00.000Z'}},\n",
       "  {'id': 'MQRQdrRPrAygvidmR',\n",
       "   'city': 'Chennai',\n",
       "   'state': 'Tamil Nadu',\n",
       "   'country': 'India',\n",
       "   'i18n': {},\n",
       "   'estimated': 0,\n",
       "   'location': {'type': 'Point', 'coordinates': [80.27847, 13.08784]},\n",
       "   'type': 'city',\n",
       "   'current_measurement': {'aqius': 80,\n",
       "    'aqicn': 37,\n",
       "    'ts': '2020-06-27T15:00:00.000Z'}},\n",
       "  {'id': 'e2GfZCa39AcEQ5J5v',\n",
       "   'city': 'Lucknow',\n",
       "   'state': 'Uttar Pradesh',\n",
       "   'country': 'India',\n",
       "   'i18n': {},\n",
       "   'estimated': 0,\n",
       "   'location': {'type': 'Point', 'coordinates': [80.93874444, 26.84578611]},\n",
       "   'type': 'city',\n",
       "   'current_measurement': {'aqius': 138,\n",
       "    'aqicn': 69,\n",
       "    'ts': '2020-06-27T15:00:00.000Z'}},\n",
       "  {'id': 'txnuNKcEoqJL6kJZ7',\n",
       "   'city': 'Pune',\n",
       "   'state': 'Maharashtra',\n",
       "   'country': 'India',\n",
       "   'i18n': {},\n",
       "   'estimated': 0,\n",
       "   'location': {'type': 'Point', 'coordinates': [73.8183358, 18.4913365]},\n",
       "   'type': 'city',\n",
       "   'current_measurement': {'aqius': 42,\n",
       "    'aqicn': 14,\n",
       "    'ts': '2020-06-27T16:00:00.000Z'}}],\n",
       " 'news': [{'author': 'Louise W',\n",
       "   'date': '2019-10-28T00:00:00.000Z',\n",
       "   'status': 'online',\n",
       "   'thumbnail': 'https://d2oixsqbjhy8z2.cloudfront.net/thumbnaildiwali2.png',\n",
       "   'title': 'No let-up in air pollution this Diwali: Delhi air quality worsens',\n",
       "   'type': 'news',\n",
       "   'url': 'https://www.airvisual.com/air-pollution-information/news/no-let-up-in-air-pollution-this-diwali-delhi-air-quality-worsens'},\n",
       "  {'author': 'Louise W',\n",
       "   'date': '2019-10-25T00:00:00.000Z',\n",
       "   'status': 'online',\n",
       "   'thumbnail': 'https://d2oixsqbjhy8z2.cloudfront.net/greenfireworksthumbnail.jpg',\n",
       "   'title': 'Will green crackers reduce India’s air pollution during the 2019 Diwali?',\n",
       "   'type': 'news',\n",
       "   'url': 'https://www.airvisual.com/air-pollution-information/news/will-green-crackers-reduce-india-s-air-pollution-during-the-2019-diwali'},\n",
       "  {'author': 'Tech Times',\n",
       "   'date': '2016-04-04T00:00:00.000Z',\n",
       "   'status': 'online',\n",
       "   'thumbnail': 'https://d2oixsqbjhy8z2.cloudfront.net/20160404-india-gold-temple.JPG',\n",
       "   'title': \"India's Golden Temple Loses Sheen Because Of Air Pollution\",\n",
       "   'type': 'news',\n",
       "   'url': 'https://www.airvisual.com/air-pollution-information/news/india-s-golden-temple-loses-sheen-because-of-air-pollution'},\n",
       "  {'author': 'News - Medical',\n",
       "   'date': '2016-02-15T00:00:00.000Z',\n",
       "   'status': 'online',\n",
       "   'thumbnail': 'https://d2oixsqbjhy8z2.cloudfront.net/12112015-hkmask.jpg',\n",
       "   'title': 'Household and outdoor air pollution kills more than 5.5 million people every year',\n",
       "   'type': 'news',\n",
       "   'url': 'https://www.airvisual.com/air-pollution-information/news/household-and-outdoor-air-pollution-kills-more-than-5-5-million-people-every-year'},\n",
       "  {'author': 'The Economic Times',\n",
       "   'date': '2015-12-20T00:00:00.000Z',\n",
       "   'status': 'online',\n",
       "   'thumbnail': 'https://d2oixsqbjhy8z2.cloudfront.net/12102015-india-run.jpeg',\n",
       "   'title': 'Legislation to reduce air pollution urgently needed',\n",
       "   'type': 'news',\n",
       "   'url': 'https://www.airvisual.com/air-pollution-information/news/legislation-to-reduce-air-pollution-urgently-needed'},\n",
       "  {'author': 'Global News',\n",
       "   'date': '2015-12-16T00:00:00.000Z',\n",
       "   'status': 'online',\n",
       "   'thumbnail': 'https://d2oixsqbjhy8z2.cloudfront.net/121020150-indiacar-polluion.jpg',\n",
       "   'title': 'India’s top court issues new rules on vehicles to curb air pollution in New Delhi',\n",
       "   'type': 'news',\n",
       "   'url': 'https://www.airvisual.com/air-pollution-information/news/india-s-top-court-issues-new-rules-on-vehicles-to-curb-air-pollution-in-new-delhi'},\n",
       "  {'author': 'Next Big Future',\n",
       "   'date': '2015-12-05T00:00:00.000Z',\n",
       "   'status': 'online',\n",
       "   'thumbnail': 'https://d2oixsqbjhy8z2.cloudfront.net/12102015-india-trash.jpg',\n",
       "   'title': 'New Delhi has worse air pollution than Beijing',\n",
       "   'type': 'news',\n",
       "   'url': 'https://www.airvisual.com/air-pollution-information/news/new-delhi-has-worse-air-pollution-than-beijing'},\n",
       "  {'author': 'Indian Express',\n",
       "   'date': '2015-09-30T00:00:00.000Z',\n",
       "   'status': 'online',\n",
       "   'thumbnail': 'https://d2oixsqbjhy8z2.cloudfront.net/12112015-india-california.jpg',\n",
       "   'title': 'California to help India in reducing air pollution',\n",
       "   'type': 'news',\n",
       "   'url': 'https://www.airvisual.com/air-pollution-information/news/california-to-help-india-in-reducing-air-pollution'},\n",
       "  {'author': 'New York Times',\n",
       "   'date': '2015-06-26T00:00:00.000Z',\n",
       "   'status': 'online',\n",
       "   'thumbnail': 'https://d2oixsqbjhy8z2.cloudfront.net/10122015-india-children.jpg',\n",
       "   'title': 'Holding your breath in India',\n",
       "   'type': 'news',\n",
       "   'url': 'https://www.airvisual.com/air-pollution-information/news/holding-your-breath-in-india'},\n",
       "  {'author': 'The Economist',\n",
       "   'date': '2015-02-05T00:00:00.000Z',\n",
       "   'status': 'online',\n",
       "   'thumbnail': 'https://d2oixsqbjhy8z2.cloudfront.net/121020150-indiacar-polluion.jpg',\n",
       "   'title': 'Breathe uneasy - The air that Indians breathe is dangerously toxic',\n",
       "   'type': 'news',\n",
       "   'url': 'https://www.airvisual.com/air-pollution-information/news/breathe-uneasy-the-air-that-indians-breathe-is-dangerously-toxic'}],\n",
       " 'contributors': [{'id': '5cc160e7754da45a53df8e27',\n",
       "   'name': 'Indiana University',\n",
       "   'type': 'contributor',\n",
       "   'subType': 'organization',\n",
       "   'picture': 'https://cdn.airvisual.net/gov/tiny/indiana-university-avatar-Indiana University_logo.jpg',\n",
       "   'visibility': True,\n",
       "   'isVerified': True},\n",
       "  {'id': '5cb9494be613ee17724ccf80',\n",
       "   'name': 'India System of Air Quality and Weather Forecasting And Research (SAFAR)',\n",
       "   'type': 'contributor',\n",
       "   'subType': 'government',\n",
       "   'picture': 'http://cdn.airvisual.net/gov/tiny/safar.png',\n",
       "   'visibility': True,\n",
       "   'isVerified': True},\n",
       "  {'id': '5cb94899e613ee17724ccef9',\n",
       "   'name': 'Indiana Department of Environmental Management',\n",
       "   'type': 'contributor',\n",
       "   'subType': 'government',\n",
       "   'picture': 'http://cdn.airvisual.net/gov/tiny/idem-tx-sutron.png',\n",
       "   'visibility': True,\n",
       "   'isVerified': True}]}"
      ]
     },
     "execution_count": 50,
     "metadata": {},
     "output_type": "execute_result"
    }
   ],
   "source": [
    "response['data']"
   ]
  },
  {
   "cell_type": "code",
   "execution_count": 57,
   "metadata": {},
   "outputs": [
    {
     "ename": "TypeError",
     "evalue": "list indices must be integers or slices, not str",
     "output_type": "error",
     "traceback": [
      "\u001b[0;31m---------------------------------------------------------------------------\u001b[0m",
      "\u001b[0;31mTypeError\u001b[0m                                 Traceback (most recent call last)",
      "\u001b[0;32m<ipython-input-57-24213067d29d>\u001b[0m in \u001b[0;36m<module>\u001b[0;34m\u001b[0m\n\u001b[0;32m----> 1\u001b[0;31m \u001b[0mresponse\u001b[0m\u001b[0;34m[\u001b[0m\u001b[0;34m'data'\u001b[0m\u001b[0;34m]\u001b[0m\u001b[0;34m[\u001b[0m\u001b[0;34m'stations'\u001b[0m\u001b[0;34m]\u001b[0m\u001b[0;34m[\u001b[0m\u001b[0;34m'state'\u001b[0m\u001b[0;34m]\u001b[0m\u001b[0;34m\u001b[0m\u001b[0;34m\u001b[0m\u001b[0m\n\u001b[0m",
      "\u001b[0;31mTypeError\u001b[0m: list indices must be integers or slices, not str"
     ]
    }
   ],
   "source": [
    "response['data']['stations']"
   ]
  },
  {
   "cell_type": "code",
   "execution_count": null,
   "metadata": {},
   "outputs": [],
   "source": []
  },
  {
   "cell_type": "code",
   "execution_count": null,
   "metadata": {},
   "outputs": [],
   "source": []
  },
  {
   "cell_type": "code",
   "execution_count": 28,
   "metadata": {},
   "outputs": [
    {
     "name": "stdout",
     "output_type": "stream",
     "text": [
      "{\"status\":\"success\",\"data\":{\"id\":\"hW7vArorRd8cT9h6v\",\"measurements\":[{\"ts\":\"2020-06-27T15:00:00.000Z\",\"p2\":{\"conc\":14,\"aqius\":55,\"aqicn\":20},\"aqius\":55,\"mainus\":\"p2\",\"aqicn\":30,\"maincn\":\"p1\",\"p1\":{\"conc\":29.5,\"aqius\":27,\"aqicn\":30},\"o3\":{\"conc\":0,\"aqius\":0,\"aqicn\":0},\"n2\":{\"conc\":27,\"aqius\":4,\"aqicn\":14},\"s2\":{\"conc\":3.5,\"aqius\":2,\"aqicn\":4},\"co\":{\"conc\":87.2,\"aqius\":1,\"aqicn\":1}},{\"ts\":\"2020-06-27T14:00:00.000Z\",\"p2\":{\"conc\":14,\"aqius\":55,\"aqicn\":20},\"aqius\":55,\"mainus\":\"p2\",\"aqicn\":29,\"maincn\":\"p1\",\"p1\":{\"conc\":29,\"aqius\":26,\"aqicn\":29},\"o3\":{\"conc\":0,\"aqius\":0,\"aqicn\":0},\"n2\":{\"conc\":26,\"aqius\":4,\"aqicn\":13},\"s2\":{\"conc\":3,\"aqius\":2,\"aqicn\":3},\"co\":{\"conc\":0,\"aqius\":0,\"aqicn\":0}},{\"ts\":\"2020-06-27T13:00:00.000Z\",\"p2\":{\"conc\":12.5,\"aqius\":52,\"aqicn\":18},\"aqius\":52,\"mainus\":\"p2\",\"aqicn\":29,\"maincn\":\"p1\",\"p1\":{\"conc\":29,\"aqius\":26,\"aqicn\":29},\"o3\":{\"conc\":0.9,\"aqius\":0,\"aqicn\":0},\"n2\":{\"conc\":25,\"aqius\":4,\"aqicn\":13},\"s2\":{\"conc\":3,\"aqius\":2,\"aqicn\":3},\"co\":{\"conc\":0,\"aqius\":0,\"aqicn\":0}},{\"ts\":\"2020-06-27T12:00:00.000Z\",\"p2\":{\"conc\":14,\"aqius\":55,\"aqicn\":20},\"aqius\":55,\"mainus\":\"p2\",\"aqicn\":30,\"maincn\":\"p1\",\"p1\":{\"conc\":30,\"aqius\":27,\"aqicn\":30},\"o3\":{\"conc\":6.8,\"aqius\":3,\"aqicn\":2},\"n2\":{\"conc\":21,\"aqius\":3,\"aqicn\":11},\"s2\":{\"conc\":3,\"aqius\":2,\"aqicn\":3},\"co\":{\"conc\":0,\"aqius\":0,\"aqicn\":0}},{\"ts\":\"2020-06-27T11:00:00.000Z\",\"p2\":{\"conc\":15.6,\"aqius\":58,\"aqicn\":22},\"aqius\":58,\"mainus\":\"p2\",\"aqicn\":29,\"maincn\":\"p1\",\"p1\":{\"conc\":29,\"aqius\":26,\"aqicn\":29},\"o3\":{\"conc\":31.7,\"aqius\":13,\"aqicn\":10},\"n2\":{\"conc\":18,\"aqius\":3,\"aqicn\":9},\"s2\":{\"conc\":3,\"aqius\":2,\"aqicn\":3},\"co\":{\"conc\":0,\"aqius\":0,\"aqicn\":0}},{\"ts\":\"2020-06-27T10:00:00.000Z\",\"p2\":{\"conc\":15.3,\"aqius\":58,\"aqicn\":22},\"aqius\":58,\"mainus\":\"p2\",\"aqicn\":29,\"maincn\":\"p1\",\"p1\":{\"conc\":29,\"aqius\":26,\"aqicn\":29},\"o3\":{\"conc\":69.4,\"aqius\":28,\"aqicn\":22},\"n2\":{\"conc\":19,\"aqius\":3,\"aqicn\":10},\"s2\":{\"conc\":3,\"aqius\":2,\"aqicn\":3},\"co\":{\"conc\":0.1,\"aqius\":0,\"aqicn\":0}},{\"ts\":\"2020-06-27T09:00:00.000Z\",\"p2\":{\"conc\":15.3,\"aqius\":58,\"aqicn\":22},\"aqius\":58,\"mainus\":\"p2\",\"aqicn\":41,\"maincn\":\"o3\",\"p1\":{\"conc\":29,\"aqius\":26,\"aqicn\":29},\"o3\":{\"conc\":129.8,\"aqius\":53,\"aqicn\":41},\"n2\":{\"conc\":18,\"aqius\":3,\"aqicn\":9},\"s2\":{\"conc\":3,\"aqius\":2,\"aqicn\":3},\"co\":{\"conc\":0,\"aqius\":0,\"aqicn\":0}},{\"ts\":\"2020-06-27T08:00:00.000Z\",\"p2\":{\"conc\":14.7,\"aqius\":56,\"aqicn\":21},\"aqius\":56,\"mainus\":\"p2\",\"aqicn\":42,\"maincn\":\"o3\",\"p1\":{\"conc\":30,\"aqius\":27,\"aqicn\":30},\"o3\":{\"conc\":134,\"aqius\":55,\"aqicn\":42},\"n2\":{\"conc\":13,\"aqius\":2,\"aqicn\":7},\"s2\":{\"conc\":3,\"aqius\":2,\"aqicn\":3},\"co\":{\"conc\":0,\"aqius\":0,\"aqicn\":0}},{\"ts\":\"2020-06-27T07:00:00.000Z\",\"p2\":{\"conc\":13.7,\"aqius\":54,\"aqicn\":20},\"aqius\":54,\"mainus\":\"p2\",\"aqicn\":28,\"maincn\":\"p1\",\"p1\":{\"conc\":28,\"aqius\":25,\"aqicn\":28},\"n2\":{\"conc\":12,\"aqius\":2,\"aqicn\":6},\"s2\":{\"conc\":3,\"aqius\":2,\"aqicn\":3},\"co\":{\"conc\":0,\"aqius\":0,\"aqicn\":0}},{\"ts\":\"2020-06-27T06:00:00.000Z\",\"p2\":{\"conc\":14.3,\"aqius\":56,\"aqicn\":20},\"aqius\":56,\"mainus\":\"p2\",\"aqicn\":28,\"maincn\":\"p1\",\"p1\":{\"conc\":28,\"aqius\":25,\"aqicn\":28},\"o3\":{\"conc\":81.9,\"aqius\":33,\"aqicn\":26},\"n2\":{\"conc\":11,\"aqius\":2,\"aqicn\":6},\"s2\":{\"conc\":3,\"aqius\":2,\"aqicn\":3}},{\"ts\":\"2020-06-27T05:00:00.000Z\",\"p2\":{\"conc\":13.7,\"aqius\":54,\"aqicn\":20},\"aqius\":54,\"mainus\":\"p2\",\"aqicn\":29,\"maincn\":\"p1\",\"p1\":{\"conc\":29,\"aqius\":26,\"aqicn\":29},\"o3\":{\"conc\":14.2,\"aqius\":6,\"aqicn\":4},\"n2\":{\"conc\":13,\"aqius\":2,\"aqicn\":7},\"s2\":{\"conc\":3,\"aqius\":2,\"aqicn\":3}},{\"ts\":\"2020-06-27T04:00:00.000Z\",\"p2\":{\"conc\":12,\"aqius\":50,\"aqicn\":17},\"aqius\":50,\"mainus\":\"p2\",\"aqicn\":30,\"maincn\":\"p1\",\"p1\":{\"conc\":30,\"aqius\":27,\"aqicn\":30},\"o3\":{\"conc\":0,\"aqius\":0,\"aqicn\":0},\"n2\":{\"conc\":15,\"aqius\":2,\"aqicn\":8},\"s2\":{\"conc\":3,\"aqius\":2,\"aqicn\":3}},{\"ts\":\"2020-06-27T03:00:00.000Z\",\"p2\":{\"conc\":11.9,\"aqius\":49,\"aqicn\":17},\"aqius\":49,\"mainus\":\"p2\",\"aqicn\":29,\"maincn\":\"p1\",\"p1\":{\"conc\":29,\"aqius\":26,\"aqicn\":29},\"o3\":{\"conc\":0,\"aqius\":0,\"aqicn\":0},\"n2\":{\"conc\":19,\"aqius\":3,\"aqicn\":10},\"s2\":{\"conc\":3,\"aqius\":2,\"aqicn\":3}},{\"ts\":\"2020-06-27T02:00:00.000Z\",\"p2\":{\"conc\":11.7,\"aqius\":48,\"aqicn\":17},\"aqius\":48,\"mainus\":\"p2\",\"aqicn\":29,\"maincn\":\"p1\",\"p1\":{\"conc\":29,\"aqius\":26,\"aqicn\":29},\"o3\":{\"conc\":0,\"aqius\":0,\"aqicn\":0},\"n2\":{\"conc\":16,\"aqius\":3,\"aqicn\":8},\"s2\":{\"conc\":3,\"aqius\":2,\"aqicn\":3}},{\"ts\":\"2020-06-27T01:00:00.000Z\",\"p2\":{\"conc\":11.3,\"aqius\":47,\"aqicn\":16},\"aqius\":47,\"mainus\":\"p2\",\"aqicn\":28,\"maincn\":\"p1\",\"p1\":{\"conc\":28,\"aqius\":25,\"aqicn\":28},\"o3\":{\"conc\":0,\"aqius\":0,\"aqicn\":0},\"n2\":{\"conc\":18,\"aqius\":3,\"aqicn\":9},\"s2\":{\"conc\":3,\"aqius\":2,\"aqicn\":3},\"co\":{\"conc\":0,\"aqius\":0,\"aqicn\":0}},{\"ts\":\"2020-06-27T00:00:00.000Z\",\"p2\":{\"conc\":10.5,\"aqius\":43,\"aqicn\":15},\"aqius\":43,\"mainus\":\"p2\",\"aqicn\":28,\"maincn\":\"p1\",\"p1\":{\"conc\":28,\"aqius\":25,\"aqicn\":28},\"o3\":{\"conc\":0,\"aqius\":0,\"aqicn\":0},\"n2\":{\"conc\":18,\"aqius\":3,\"aqicn\":9},\"s2\":{\"conc\":4,\"aqius\":2,\"aqicn\":4},\"co\":{\"conc\":8.7,\"aqius\":0,\"aqicn\":0}},{\"ts\":\"2020-06-26T23:00:00.000Z\",\"p2\":{\"conc\":10.1,\"aqius\":42,\"aqicn\":14},\"aqius\":42,\"mainus\":\"p2\",\"aqicn\":28,\"maincn\":\"p1\",\"p1\":{\"conc\":28,\"aqius\":25,\"aqicn\":28},\"o3\":{\"conc\":0,\"aqius\":0,\"aqicn\":0},\"n2\":{\"conc\":14,\"aqius\":2,\"aqicn\":7},\"s2\":{\"conc\":4,\"aqius\":2,\"aqicn\":4},\"co\":{\"conc\":0.5,\"aqius\":0,\"aqicn\":0}},{\"ts\":\"2020-06-26T22:00:00.000Z\",\"p2\":{\"conc\":10.4,\"aqius\":43,\"aqicn\":15},\"aqius\":43,\"mainus\":\"p2\",\"aqicn\":28,\"maincn\":\"p1\",\"p1\":{\"conc\":28,\"aqius\":25,\"aqicn\":28},\"o3\":{\"conc\":0,\"aqius\":0,\"aqicn\":0},\"n2\":{\"conc\":13,\"aqius\":2,\"aqicn\":7},\"s2\":{\"conc\":4,\"aqius\":2,\"aqicn\":4},\"co\":{\"conc\":0,\"aqius\":0,\"aqicn\":0}},{\"ts\":\"2020-06-26T21:00:00.000Z\",\"p2\":{\"conc\":10.9,\"aqius\":45,\"aqicn\":16},\"aqius\":45,\"mainus\":\"p2\",\"aqicn\":28,\"maincn\":\"p1\",\"p1\":{\"conc\":28,\"aqius\":25,\"aqicn\":28},\"o3\":{\"conc\":0,\"aqius\":0,\"aqicn\":0},\"n2\":{\"conc\":16,\"aqius\":3,\"aqicn\":8},\"s2\":{\"conc\":4,\"aqius\":2,\"aqicn\":4}},{\"ts\":\"2020-06-26T20:00:00.000Z\",\"p2\":{\"conc\":11.8,\"aqius\":49,\"aqicn\":17},\"aqius\":49,\"mainus\":\"p2\",\"aqicn\":28,\"maincn\":\"p1\",\"p1\":{\"conc\":28,\"aqius\":25,\"aqicn\":28},\"o3\":{\"conc\":0,\"aqius\":0,\"aqicn\":0},\"n2\":{\"conc\":17.5,\"aqius\":3,\"aqicn\":9},\"s2\":{\"conc\":4,\"aqius\":2,\"aqicn\":4}},{\"ts\":\"2020-06-26T19:00:00.000Z\",\"p2\":{\"conc\":12.4,\"aqius\":52,\"aqicn\":18},\"aqius\":52,\"mainus\":\"p2\",\"aqicn\":27,\"maincn\":\"p1\",\"p1\":{\"conc\":27,\"aqius\":25,\"aqicn\":27},\"o3\":{\"conc\":0,\"aqius\":0,\"aqicn\":0},\"n2\":{\"conc\":17,\"aqius\":3,\"aqicn\":9},\"s2\":{\"conc\":4,\"aqius\":2,\"aqicn\":4}},{\"ts\":\"2020-06-26T18:00:00.000Z\",\"p2\":{\"conc\":13.1,\"aqius\":53,\"aqicn\":19},\"aqius\":53,\"mainus\":\"p2\",\"aqicn\":27,\"maincn\":\"p1\",\"p1\":{\"conc\":27,\"aqius\":25,\"aqicn\":27},\"o3\":{\"conc\":0,\"aqius\":0,\"aqicn\":0},\"n2\":{\"conc\":27,\"aqius\":4,\"aqicn\":14},\"s2\":{\"conc\":4,\"aqius\":2,\"aqicn\":4}},{\"ts\":\"2020-06-26T17:00:00.000Z\",\"p2\":{\"conc\":13.6,\"aqius\":54,\"aqicn\":19},\"aqius\":54,\"mainus\":\"p2\",\"aqicn\":26,\"maincn\":\"p1\",\"p1\":{\"conc\":26,\"aqius\":24,\"aqicn\":26},\"o3\":{\"conc\":0,\"aqius\":0,\"aqicn\":0},\"n2\":{\"conc\":28,\"aqius\":5,\"aqicn\":14},\"s2\":{\"conc\":4,\"aqius\":2,\"aqicn\":4}},{\"ts\":\"2020-06-26T16:00:00.000Z\",\"p2\":{\"conc\":14.6,\"aqius\":56,\"aqicn\":21},\"aqius\":56,\"mainus\":\"p2\",\"aqicn\":25,\"maincn\":\"p1\",\"p1\":{\"conc\":25,\"aqius\":23,\"aqicn\":25},\"o3\":{\"conc\":0,\"aqius\":0,\"aqicn\":0},\"n2\":{\"conc\":28,\"aqius\":5,\"aqicn\":14},\"s2\":{\"conc\":4,\"aqius\":2,\"aqicn\":4}},{\"ts\":\"2020-06-26T15:00:00.000Z\",\"p2\":{\"conc\":17.1,\"aqius\":61,\"aqicn\":24},\"aqius\":61,\"mainus\":\"p2\",\"aqicn\":25,\"maincn\":\"p1\",\"p1\":{\"conc\":25,\"aqius\":23,\"aqicn\":25},\"o3\":{\"conc\":0,\"aqius\":0,\"aqicn\":0},\"n2\":{\"conc\":26,\"aqius\":4,\"aqicn\":13},\"s2\":{\"conc\":4,\"aqius\":2,\"aqicn\":4}},{\"ts\":\"2020-06-26T14:00:00.000Z\",\"p2\":{\"conc\":16.6,\"aqius\":60,\"aqicn\":24},\"aqius\":60,\"mainus\":\"p2\",\"aqicn\":25,\"maincn\":\"p1\",\"p1\":{\"conc\":25,\"aqius\":23,\"aqicn\":25},\"o3\":{\"conc\":0,\"aqius\":0,\"aqicn\":0},\"n2\":{\"conc\":25,\"aqius\":4,\"aqicn\":13},\"s2\":{\"conc\":4,\"aqius\":2,\"aqicn\":4},\"co\":{\"conc\":0,\"aqius\":0,\"aqicn\":0}},{\"ts\":\"2020-06-26T13:00:00.000Z\",\"p2\":{\"conc\":17,\"aqius\":61,\"aqicn\":24},\"aqius\":61,\"mainus\":\"p2\",\"aqicn\":25,\"maincn\":\"p1\",\"p1\":{\"conc\":25,\"aqius\":23,\"aqicn\":25},\"o3\":{\"conc\":0.4,\"aqius\":0,\"aqicn\":0},\"n2\":{\"conc\":28,\"aqius\":5,\"aqicn\":14},\"s2\":{\"conc\":4,\"aqius\":2,\"aqicn\":4},\"co\":{\"conc\":0,\"aqius\":0,\"aqicn\":0}},{\"ts\":\"2020-06-26T12:00:00.000Z\",\"p2\":{\"conc\":15.4,\"aqius\":58,\"aqicn\":22},\"aqius\":58,\"mainus\":\"p2\",\"aqicn\":25,\"maincn\":\"p1\",\"p1\":{\"conc\":25,\"aqius\":23,\"aqicn\":25},\"o3\":{\"conc\":0,\"aqius\":0,\"aqicn\":0},\"n2\":{\"conc\":26,\"aqius\":4,\"aqicn\":13},\"s2\":{\"conc\":4,\"aqius\":2,\"aqicn\":4},\"co\":{\"conc\":0,\"aqius\":0,\"aqicn\":0}},{\"ts\":\"2020-06-26T11:00:00.000Z\",\"p2\":{\"conc\":15.1,\"aqius\":57,\"aqicn\":22},\"aqius\":57,\"mainus\":\"p2\",\"aqicn\":25,\"maincn\":\"p1\",\"p1\":{\"conc\":25,\"aqius\":23,\"aqicn\":25},\"o3\":{\"conc\":15.1,\"aqius\":6,\"aqicn\":5},\"n2\":{\"conc\":22,\"aqius\":4,\"aqicn\":11},\"s2\":{\"conc\":4,\"aqius\":2,\"aqicn\":4},\"co\":{\"conc\":0,\"aqius\":0,\"aqicn\":0}},{\"ts\":\"2020-06-26T10:00:00.000Z\",\"p2\":{\"conc\":13.8,\"aqius\":55,\"aqicn\":20},\"aqius\":55,\"mainus\":\"p2\",\"aqicn\":24,\"maincn\":\"p1\",\"p1\":{\"conc\":24,\"aqius\":22,\"aqicn\":24},\"o3\":{\"conc\":72,\"aqius\":29,\"aqicn\":22},\"n2\":{\"conc\":17,\"aqius\":3,\"aqicn\":9},\"s2\":{\"conc\":4,\"aqius\":2,\"aqicn\":4},\"co\":{\"conc\":2.2,\"aqius\":0,\"aqicn\":0}},{\"ts\":\"2020-06-26T09:00:00.000Z\",\"p2\":{\"conc\":13.6,\"aqius\":54,\"aqicn\":19},\"aqius\":54,\"mainus\":\"p2\",\"aqicn\":35,\"maincn\":\"o3\",\"p1\":{\"conc\":24,\"aqius\":22,\"aqicn\":24},\"o3\":{\"conc\":111.1,\"aqius\":45,\"aqicn\":35},\"n2\":{\"conc\":17,\"aqius\":3,\"aqicn\":9},\"s2\":{\"conc\":4,\"aqius\":2,\"aqicn\":4},\"co\":{\"conc\":0,\"aqius\":0,\"aqicn\":0}},{\"ts\":\"2020-06-26T08:00:00.000Z\",\"p2\":{\"conc\":12.4,\"aqius\":52,\"aqicn\":18},\"aqius\":62,\"mainus\":\"o3\",\"aqicn\":47,\"maincn\":\"o3\",\"p1\":{\"conc\":24,\"aqius\":22,\"aqicn\":24},\"o3\":{\"conc\":151,\"aqius\":62,\"aqicn\":47},\"n2\":{\"conc\":19,\"aqius\":3,\"aqicn\":10},\"s2\":{\"conc\":4,\"aqius\":2,\"aqicn\":4},\"co\":{\"conc\":4.9,\"aqius\":0,\"aqicn\":0}},{\"ts\":\"2020-06-26T07:00:00.000Z\",\"p2\":{\"conc\":11.5,\"aqius\":47,\"aqicn\":16},\"aqius\":63,\"mainus\":\"o3\",\"aqicn\":48,\"maincn\":\"o3\",\"p1\":{\"conc\":24,\"aqius\":22,\"aqicn\":24},\"o3\":{\"conc\":155,\"aqius\":63,\"aqicn\":48},\"n2\":{\"conc\":13.5,\"aqius\":2,\"aqicn\":7},\"s2\":{\"conc\":4,\"aqius\":2,\"aqicn\":4}},{\"ts\":\"2020-06-26T06:00:00.000Z\",\"p2\":{\"conc\":11.5,\"aqius\":47,\"aqicn\":16},\"aqius\":47,\"mainus\":\"p2\",\"aqicn\":35,\"maincn\":\"o3\",\"p1\":{\"conc\":23,\"aqius\":21,\"aqicn\":23},\"o3\":{\"conc\":113.5,\"aqius\":46,\"aqicn\":35},\"n2\":{\"conc\":11,\"aqius\":2,\"aqicn\":6},\"s2\":{\"conc\":4,\"aqius\":2,\"aqicn\":4},\"co\":{\"conc\":3.5,\"aqius\":0,\"aqicn\":0}},{\"ts\":\"2020-06-26T05:00:00.000Z\",\"p2\":{\"conc\":11.4,\"aqius\":47,\"aqicn\":16},\"aqius\":47,\"mainus\":\"p2\",\"aqicn\":22,\"maincn\":\"p1\",\"p1\":{\"conc\":22,\"aqius\":20,\"aqicn\":22},\"n2\":{\"conc\":13,\"aqius\":2,\"aqicn\":7},\"s2\":{\"conc\":4,\"aqius\":2,\"aqicn\":4}},{\"ts\":\"2020-06-26T04:00:00.000Z\",\"p2\":{\"conc\":10.8,\"aqius\":45,\"aqicn\":15},\"aqius\":45,\"mainus\":\"p2\",\"aqicn\":22,\"maincn\":\"p1\",\"p1\":{\"conc\":22,\"aqius\":20,\"aqicn\":22},\"o3\":{\"conc\":42,\"aqius\":17,\"aqicn\":13},\"n2\":{\"conc\":16,\"aqius\":3,\"aqicn\":8},\"s2\":{\"conc\":4,\"aqius\":2,\"aqicn\":4}},{\"ts\":\"2020-06-26T03:00:00.000Z\",\"p2\":{\"conc\":9.2,\"aqius\":38,\"aqicn\":13},\"aqius\":38,\"mainus\":\"p2\",\"aqicn\":22,\"maincn\":\"p1\",\"p1\":{\"conc\":22,\"aqius\":20,\"aqicn\":22},\"o3\":{\"conc\":0,\"aqius\":0,\"aqicn\":0},\"n2\":{\"conc\":18,\"aqius\":3,\"aqicn\":9},\"s2\":{\"conc\":4,\"aqius\":2,\"aqicn\":4}},{\"ts\":\"2020-06-26T02:00:00.000Z\",\"p2\":{\"conc\":9,\"aqius\":37,\"aqicn\":13},\"aqius\":37,\"mainus\":\"p2\",\"aqicn\":21,\"maincn\":\"p1\",\"p1\":{\"conc\":21,\"aqius\":19,\"aqicn\":21},\"o3\":{\"conc\":0,\"aqius\":0,\"aqicn\":0},\"n2\":{\"conc\":21,\"aqius\":3,\"aqicn\":11},\"s2\":{\"conc\":4,\"aqius\":2,\"aqicn\":4},\"co\":{\"conc\":2.8,\"aqius\":0,\"aqicn\":0}},{\"ts\":\"2020-06-26T01:00:00.000Z\",\"p2\":{\"conc\":8.6,\"aqius\":35,\"aqicn\":12},\"aqius\":35,\"mainus\":\"p2\",\"aqicn\":22,\"maincn\":\"p1\",\"p1\":{\"conc\":22,\"aqius\":20,\"aqicn\":22},\"o3\":{\"conc\":0,\"aqius\":0,\"aqicn\":0},\"n2\":{\"conc\":24,\"aqius\":4,\"aqicn\":12},\"s2\":{\"conc\":4,\"aqius\":2,\"aqicn\":4}},{\"ts\":\"2020-06-26T00:00:00.000Z\",\"p2\":{\"conc\":8.5,\"aqius\":35,\"aqicn\":12},\"aqius\":35,\"mainus\":\"p2\",\"aqicn\":21,\"maincn\":\"p1\",\"p1\":{\"conc\":21,\"aqius\":19,\"aqicn\":21},\"o3\":{\"conc\":0,\"aqius\":0,\"aqicn\":0},\"n2\":{\"conc\":29,\"aqius\":5,\"aqicn\":15},\"s2\":{\"conc\":4,\"aqius\":2,\"aqicn\":4}},{\"ts\":\"2020-06-25T23:00:00.000Z\",\"p2\":{\"conc\":8,\"aqius\":33,\"aqicn\":11},\"aqius\":33,\"mainus\":\"p2\",\"aqicn\":22,\"maincn\":\"p1\",\"p1\":{\"conc\":22,\"aqius\":20,\"aqicn\":22},\"o3\":{\"conc\":0,\"aqius\":0,\"aqicn\":0},\"n2\":{\"conc\":27,\"aqius\":4,\"aqicn\":14},\"s2\":{\"conc\":4,\"aqius\":2,\"aqicn\":4}},{\"ts\":\"2020-06-25T22:00:00.000Z\",\"p2\":{\"conc\":8,\"aqius\":33,\"aqicn\":11},\"aqius\":33,\"mainus\":\"p2\",\"aqicn\":22,\"maincn\":\"p1\",\"p1\":{\"conc\":22,\"aqius\":20,\"aqicn\":22},\"o3\":{\"conc\":0,\"aqius\":0,\"aqicn\":0},\"n2\":{\"conc\":25,\"aqius\":4,\"aqicn\":13},\"s2\":{\"conc\":5,\"aqius\":3,\"aqicn\":5},\"co\":{\"conc\":4.2,\"aqius\":0,\"aqicn\":0}},{\"ts\":\"2020-06-25T21:00:00.000Z\",\"p2\":{\"conc\":7,\"aqius\":29,\"aqicn\":10},\"aqius\":29,\"mainus\":\"p2\",\"aqicn\":22,\"maincn\":\"p1\",\"p1\":{\"conc\":22,\"aqius\":20,\"aqicn\":22},\"o3\":{\"conc\":0,\"aqius\":0,\"aqicn\":0},\"n2\":{\"conc\":27,\"aqius\":4,\"aqicn\":14},\"s2\":{\"conc\":4,\"aqius\":2,\"aqicn\":4}},{\"ts\":\"2020-06-25T20:00:00.000Z\",\"p2\":{\"conc\":8,\"aqius\":33,\"aqicn\":11},\"aqius\":33,\"mainus\":\"p2\",\"aqicn\":22,\"maincn\":\"p1\",\"p1\":{\"conc\":22,\"aqius\":20,\"aqicn\":22},\"o3\":{\"conc\":0,\"aqius\":0,\"aqicn\":0},\"n2\":{\"conc\":28,\"aqius\":5,\"aqicn\":14},\"s2\":{\"conc\":4,\"aqius\":2,\"aqicn\":4}},{\"ts\":\"2020-06-25T19:00:00.000Z\",\"p2\":{\"conc\":8,\"aqius\":33,\"aqicn\":11},\"aqius\":33,\"mainus\":\"p2\",\"aqicn\":22,\"maincn\":\"p1\",\"p1\":{\"conc\":22,\"aqius\":20,\"aqicn\":22},\"o3\":{\"conc\":0,\"aqius\":0,\"aqicn\":0},\"n2\":{\"conc\":28,\"aqius\":5,\"aqicn\":14},\"s2\":{\"conc\":4,\"aqius\":2,\"aqicn\":4}},{\"ts\":\"2020-06-25T18:00:00.000Z\",\"p2\":{\"conc\":8.4,\"aqius\":35,\"aqicn\":12},\"aqius\":35,\"mainus\":\"p2\",\"aqicn\":22,\"maincn\":\"p1\",\"p1\":{\"conc\":22,\"aqius\":20,\"aqicn\":22},\"o3\":{\"conc\":0,\"aqius\":0,\"aqicn\":0},\"n2\":{\"conc\":28,\"aqius\":5,\"aqicn\":14},\"s2\":{\"conc\":4,\"aqius\":2,\"aqicn\":4}},{\"ts\":\"2020-06-25T17:00:00.000Z\",\"p2\":{\"conc\":9.4,\"aqius\":39,\"aqicn\":13},\"aqius\":39,\"mainus\":\"p2\",\"aqicn\":22,\"maincn\":\"p1\",\"p1\":{\"conc\":22,\"aqius\":20,\"aqicn\":22},\"o3\":{\"conc\":0,\"aqius\":0,\"aqicn\":0},\"n2\":{\"conc\":28,\"aqius\":5,\"aqicn\":14},\"s2\":{\"conc\":4,\"aqius\":2,\"aqicn\":4}},{\"ts\":\"2020-06-25T16:00:00.000Z\",\"p2\":{\"conc\":9.3,\"aqius\":38,\"aqicn\":13},\"aqius\":38,\"mainus\":\"p2\",\"aqicn\":22,\"maincn\":\"p1\",\"p1\":{\"conc\":22,\"aqius\":20,\"aqicn\":22},\"o3\":{\"conc\":0,\"aqius\":0,\"aqicn\":0},\"n2\":{\"conc\":29,\"aqius\":5,\"aqicn\":15},\"s2\":{\"conc\":4,\"aqius\":2,\"aqicn\":4}}],\"measurements_daily\":[{\"ts\":\"2020-06-27T00:00:00.000Z\",\"p2\":{\"conc\":13.4,\"aqius\":54,\"aqicn\":19},\"aqius\":54,\"mainus\":\"p2\",\"aqicn\":29,\"maincn\":\"p1\",\"p1\":{\"conc\":29,\"aqius\":26,\"aqicn\":29},\"o3\":{\"conc\":31.3,\"aqius\":13,\"aqicn\":10},\"n2\":{\"conc\":18.1,\"aqius\":3,\"aqicn\":9},\"s2\":{\"conc\":3.1,\"aqius\":2,\"aqicn\":3},\"co\":{\"conc\":8,\"aqius\":0,\"aqicn\":0}},{\"ts\":\"2020-06-26T00:00:00.000Z\",\"p2\":{\"conc\":12.4,\"aqius\":52,\"aqicn\":18},\"aqius\":52,\"mainus\":\"p2\",\"aqicn\":25,\"maincn\":\"p1\",\"p1\":{\"conc\":24.6,\"aqius\":22,\"aqicn\":25},\"o3\":{\"conc\":30,\"aqius\":12,\"aqicn\":9},\"n2\":{\"conc\":20.3,\"aqius\":3,\"aqicn\":10},\"s2\":{\"conc\":4,\"aqius\":2,\"aqicn\":4},\"co\":{\"conc\":1.3,\"aqius\":0,\"aqicn\":0}},{\"ts\":\"2020-06-25T00:00:00.000Z\",\"p2\":{\"conc\":8.3,\"aqius\":34,\"aqicn\":12},\"aqius\":34,\"mainus\":\"p2\",\"aqicn\":22,\"maincn\":\"p1\",\"p1\":{\"conc\":21.5,\"aqius\":20,\"aqicn\":22},\"o3\":{\"conc\":18.7,\"aqius\":8,\"aqicn\":6},\"n2\":{\"conc\":22.8,\"aqius\":4,\"aqicn\":11},\"s2\":{\"conc\":4,\"aqius\":2,\"aqicn\":4},\"co\":{\"conc\":3.2,\"aqius\":0,\"aqicn\":0}},{\"ts\":\"2020-06-24T00:00:00.000Z\",\"p2\":{\"conc\":7.1,\"aqius\":29,\"aqicn\":10},\"aqius\":29,\"mainus\":\"p2\",\"aqicn\":19,\"maincn\":\"p1\",\"p1\":{\"conc\":18.6,\"aqius\":17,\"aqicn\":19},\"o3\":{\"conc\":9.6,\"aqius\":4,\"aqicn\":3},\"n2\":{\"conc\":23.5,\"aqius\":4,\"aqicn\":12},\"s2\":{\"conc\":3.5,\"aqius\":2,\"aqicn\":4},\"co\":{\"conc\":2,\"aqius\":0,\"aqicn\":0}},{\"ts\":\"2020-06-23T00:00:00.000Z\",\"p2\":{\"conc\":4,\"aqius\":17,\"aqicn\":6},\"aqius\":17,\"mainus\":\"p2\",\"aqicn\":19,\"maincn\":\"p1\",\"p1\":{\"conc\":18.6,\"aqius\":17,\"aqicn\":19},\"o3\":{\"conc\":7.4,\"aqius\":3,\"aqicn\":2},\"n2\":{\"conc\":21.4,\"aqius\":4,\"aqicn\":11},\"s2\":{\"conc\":3.9,\"aqius\":2,\"aqicn\":4},\"co\":{\"conc\":3.3,\"aqius\":0,\"aqicn\":0}},{\"ts\":\"2020-06-22T00:00:00.000Z\",\"p2\":{\"conc\":9.6,\"aqius\":40,\"aqicn\":14},\"aqius\":40,\"mainus\":\"p2\",\"aqicn\":22,\"maincn\":\"p1\",\"p1\":{\"conc\":21.9,\"aqius\":20,\"aqicn\":22},\"o3\":{\"conc\":12.2,\"aqius\":5,\"aqicn\":4},\"n2\":{\"conc\":23.1,\"aqius\":4,\"aqicn\":12},\"s2\":{\"conc\":3.4,\"aqius\":2,\"aqicn\":3},\"co\":{\"conc\":17.4,\"aqius\":0,\"aqicn\":0}},{\"ts\":\"2020-06-21T00:00:00.000Z\",\"p2\":{\"conc\":10.7,\"aqius\":44,\"aqicn\":15},\"aqius\":44,\"mainus\":\"p2\",\"aqicn\":21,\"maincn\":\"p1\",\"p1\":{\"conc\":20.8,\"aqius\":19,\"aqicn\":21},\"o3\":{\"conc\":7.5,\"aqius\":3,\"aqicn\":2},\"n2\":{\"conc\":21.1,\"aqius\":3,\"aqicn\":11},\"s2\":{\"conc\":5.1,\"aqius\":3,\"aqicn\":5},\"co\":{\"conc\":8.7,\"aqius\":0,\"aqicn\":0}},{\"ts\":\"2020-06-20T00:00:00.000Z\",\"p2\":{\"conc\":8.7,\"aqius\":36,\"aqicn\":12},\"aqius\":36,\"mainus\":\"p2\",\"aqicn\":20,\"maincn\":\"p1\",\"p1\":{\"conc\":19.5,\"aqius\":18,\"aqicn\":20},\"o3\":{\"conc\":8.1,\"aqius\":3,\"aqicn\":3},\"n2\":{\"conc\":22.1,\"aqius\":4,\"aqicn\":11},\"s2\":{\"conc\":6.3,\"aqius\":3,\"aqicn\":6},\"co\":{\"conc\":2.5,\"aqius\":0,\"aqicn\":0}},{\"ts\":\"2020-06-19T00:00:00.000Z\",\"p2\":{\"conc\":8.9,\"aqius\":37,\"aqicn\":13},\"aqius\":37,\"mainus\":\"p2\",\"aqicn\":19,\"maincn\":\"p1\",\"p1\":{\"conc\":19.2,\"aqius\":17,\"aqicn\":19},\"o3\":{\"conc\":25.8,\"aqius\":11,\"aqicn\":8},\"n2\":{\"conc\":19,\"aqius\":3,\"aqicn\":10},\"s2\":{\"conc\":5.2,\"aqius\":3,\"aqicn\":5},\"co\":{\"conc\":27.9,\"aqius\":0,\"aqicn\":0}},{\"ts\":\"2020-06-18T00:00:00.000Z\",\"p2\":{\"conc\":9.1,\"aqius\":38,\"aqicn\":13},\"aqius\":38,\"mainus\":\"p2\",\"aqicn\":23,\"maincn\":\"p1\",\"p1\":{\"conc\":23,\"aqius\":21,\"aqicn\":23},\"o3\":{\"conc\":18.4,\"aqius\":8,\"aqicn\":6},\"n2\":{\"conc\":25.8,\"aqius\":4,\"aqicn\":13},\"s2\":{\"conc\":5,\"aqius\":3,\"aqicn\":5},\"co\":{\"conc\":21.5,\"aqius\":0,\"aqicn\":0}},{\"ts\":\"2020-06-17T00:00:00.000Z\",\"p2\":{\"conc\":10.9,\"aqius\":45,\"aqicn\":16},\"aqius\":45,\"mainus\":\"p2\",\"aqicn\":21,\"maincn\":\"p1\",\"p1\":{\"conc\":21.4,\"aqius\":19,\"aqicn\":21},\"o3\":{\"conc\":10.2,\"aqius\":4,\"aqicn\":3},\"n2\":{\"conc\":31.5,\"aqius\":5,\"aqicn\":16},\"s2\":{\"conc\":3.6,\"aqius\":2,\"aqicn\":4},\"co\":{\"conc\":1.1,\"aqius\":0,\"aqicn\":0}},{\"ts\":\"2020-06-16T00:00:00.000Z\",\"p2\":{\"conc\":11.2,\"aqius\":46,\"aqicn\":16},\"aqius\":46,\"mainus\":\"p2\",\"aqicn\":26,\"maincn\":\"p1\",\"p1\":{\"conc\":25.5,\"aqius\":23,\"aqicn\":26},\"o3\":{\"conc\":8.4,\"aqius\":3,\"aqicn\":3},\"n2\":{\"conc\":21.3,\"aqius\":3,\"aqicn\":11},\"s2\":{\"conc\":3.8,\"aqius\":2,\"aqicn\":4},\"co\":{\"conc\":21.1,\"aqius\":0,\"aqicn\":0}},{\"ts\":\"2020-06-15T00:00:00.000Z\",\"p2\":{\"conc\":11.2,\"aqius\":46,\"aqicn\":16},\"aqius\":46,\"mainus\":\"p2\",\"aqicn\":23,\"maincn\":\"p1\",\"p1\":{\"conc\":23.3,\"aqius\":21,\"aqicn\":23},\"o3\":{\"conc\":8.9,\"aqius\":4,\"aqicn\":3},\"n2\":{\"conc\":18.4,\"aqius\":3,\"aqicn\":9},\"s2\":{\"conc\":4,\"aqius\":2,\"aqicn\":4},\"co\":{\"conc\":10.5,\"aqius\":0,\"aqicn\":0}},{\"ts\":\"2020-06-14T00:00:00.000Z\",\"p2\":{\"conc\":14.3,\"aqius\":56,\"aqicn\":20},\"aqius\":56,\"mainus\":\"p2\",\"aqicn\":25,\"maincn\":\"p1\",\"p1\":{\"conc\":25.3,\"aqius\":23,\"aqicn\":25},\"o3\":{\"conc\":15.4,\"aqius\":6,\"aqicn\":5},\"n2\":{\"conc\":18.8,\"aqius\":3,\"aqicn\":9},\"s2\":{\"conc\":4.4,\"aqius\":2,\"aqicn\":4},\"co\":{\"conc\":8.2,\"aqius\":0,\"aqicn\":0}},{\"ts\":\"2020-06-13T00:00:00.000Z\",\"p2\":{\"conc\":9.1,\"aqius\":38,\"aqicn\":13},\"aqius\":38,\"mainus\":\"p2\",\"aqicn\":24,\"maincn\":\"p1\",\"p1\":{\"conc\":23.7,\"aqius\":22,\"aqicn\":24},\"o3\":{\"conc\":13.7,\"aqius\":6,\"aqicn\":4},\"n2\":{\"conc\":22.7,\"aqius\":4,\"aqicn\":11},\"s2\":{\"conc\":4,\"aqius\":2,\"aqicn\":4},\"co\":{\"conc\":1.9,\"aqius\":0,\"aqicn\":0}},{\"ts\":\"2020-06-12T00:00:00.000Z\",\"p2\":{\"conc\":11.5,\"aqius\":48,\"aqicn\":16},\"aqius\":48,\"mainus\":\"p2\",\"aqicn\":25,\"maincn\":\"p1\",\"p1\":{\"conc\":24.6,\"aqius\":22,\"aqicn\":25},\"o3\":{\"conc\":6.7,\"aqius\":3,\"aqicn\":2},\"n2\":{\"conc\":24.4,\"aqius\":4,\"aqicn\":12},\"s2\":{\"conc\":3.8,\"aqius\":2,\"aqicn\":4},\"co\":{\"conc\":85.6,\"aqius\":1,\"aqicn\":1}},{\"ts\":\"2020-06-11T00:00:00.000Z\",\"p2\":{\"conc\":10.2,\"aqius\":42,\"aqicn\":15},\"aqius\":42,\"mainus\":\"p2\",\"aqicn\":26,\"maincn\":\"p1\",\"p1\":{\"conc\":25.9,\"aqius\":24,\"aqicn\":26},\"o3\":{\"conc\":29.9,\"aqius\":12,\"aqicn\":9},\"n2\":{\"conc\":26.1,\"aqius\":4,\"aqicn\":13},\"s2\":{\"conc\":5.1,\"aqius\":3,\"aqicn\":5},\"co\":{\"conc\":26.4,\"aqius\":0,\"aqicn\":0}},{\"ts\":\"2020-06-10T00:00:00.000Z\",\"p2\":{\"conc\":8.2,\"aqius\":34,\"aqicn\":12},\"aqius\":34,\"mainus\":\"p2\",\"aqicn\":23,\"maincn\":\"p1\",\"p1\":{\"conc\":22.8,\"aqius\":21,\"aqicn\":23},\"o3\":{\"conc\":5.9,\"aqius\":2,\"aqicn\":2},\"n2\":{\"conc\":20.5,\"aqius\":3,\"aqicn\":10},\"s2\":{\"conc\":3.7,\"aqius\":2,\"aqicn\":4},\"co\":{\"conc\":2,\"aqius\":0,\"aqicn\":0}},{\"ts\":\"2020-06-09T00:00:00.000Z\",\"p2\":{\"conc\":9.6,\"aqius\":40,\"aqicn\":14},\"aqius\":40,\"mainus\":\"p2\",\"aqicn\":24,\"maincn\":\"p1\",\"p1\":{\"conc\":24.4,\"aqius\":22,\"aqicn\":24},\"o3\":{\"conc\":15.3,\"aqius\":6,\"aqicn\":5},\"n2\":{\"conc\":13.6,\"aqius\":2,\"aqicn\":7},\"s2\":{\"conc\":4,\"aqius\":2,\"aqicn\":4},\"co\":{\"conc\":24.2,\"aqius\":0,\"aqicn\":0}},{\"ts\":\"2020-06-08T00:00:00.000Z\",\"p2\":{\"conc\":10.6,\"aqius\":44,\"aqicn\":15},\"aqius\":44,\"mainus\":\"p2\",\"aqicn\":26,\"maincn\":\"p1\",\"p1\":{\"conc\":25.7,\"aqius\":23,\"aqicn\":26},\"o3\":{\"conc\":37,\"aqius\":15,\"aqicn\":12},\"n2\":{\"conc\":23.3,\"aqius\":4,\"aqicn\":12},\"s2\":{\"conc\":4,\"aqius\":2,\"aqicn\":4},\"co\":{\"conc\":0.8,\"aqius\":0,\"aqicn\":0}},{\"ts\":\"2020-06-07T00:00:00.000Z\",\"p2\":{\"conc\":12.3,\"aqius\":51,\"aqicn\":18},\"aqius\":51,\"mainus\":\"p2\",\"aqicn\":29,\"maincn\":\"p1\",\"p1\":{\"conc\":29.2,\"aqius\":27,\"aqicn\":29},\"o3\":{\"conc\":13.6,\"aqius\":6,\"aqicn\":4},\"n2\":{\"conc\":19.4,\"aqius\":3,\"aqicn\":10},\"s2\":{\"conc\":4,\"aqius\":2,\"aqicn\":4},\"co\":{\"conc\":0.6,\"aqius\":0,\"aqicn\":0}},{\"ts\":\"2020-06-06T00:00:00.000Z\",\"p2\":{\"conc\":8.6,\"aqius\":36,\"aqicn\":12},\"aqius\":36,\"mainus\":\"p2\",\"aqicn\":22,\"maincn\":\"p1\",\"p1\":{\"conc\":21.9,\"aqius\":20,\"aqicn\":22},\"o3\":{\"conc\":17.7,\"aqius\":7,\"aqicn\":6},\"n2\":{\"conc\":25.3,\"aqius\":4,\"aqicn\":13},\"s2\":{\"conc\":3.5,\"aqius\":2,\"aqicn\":4},\"co\":{\"conc\":5.1,\"aqius\":0,\"aqicn\":0}},{\"ts\":\"2020-06-05T00:00:00.000Z\",\"p2\":{\"conc\":5.6,\"aqius\":23,\"aqicn\":8},\"aqius\":23,\"mainus\":\"p2\",\"aqicn\":17,\"maincn\":\"p1\",\"p1\":{\"conc\":16.5,\"aqius\":15,\"aqicn\":17},\"o3\":{\"conc\":11.5,\"aqius\":5,\"aqicn\":4},\"n2\":{\"conc\":11.5,\"aqius\":2,\"aqicn\":6},\"s2\":{\"conc\":3.9,\"aqius\":2,\"aqicn\":4},\"co\":{\"conc\":1.1,\"aqius\":0,\"aqicn\":0}},{\"ts\":\"2020-06-04T00:00:00.000Z\",\"p2\":{\"conc\":5.5,\"aqius\":23,\"aqicn\":8},\"aqius\":23,\"mainus\":\"p2\",\"aqicn\":17,\"maincn\":\"p1\",\"p1\":{\"conc\":16.9,\"aqius\":15,\"aqicn\":17},\"o3\":{\"conc\":16.5,\"aqius\":7,\"aqicn\":5},\"n2\":{\"conc\":16.7,\"aqius\":3,\"aqicn\":8},\"s2\":{\"conc\":4.3,\"aqius\":2,\"aqicn\":4},\"co\":{\"conc\":17.1,\"aqius\":0,\"aqicn\":0}},{\"ts\":\"2020-06-03T00:00:00.000Z\",\"p2\":{\"conc\":6.6,\"aqius\":27,\"aqicn\":9},\"aqius\":27,\"mainus\":\"p2\",\"aqicn\":26,\"maincn\":\"p1\",\"p1\":{\"conc\":25.6,\"aqius\":23,\"aqicn\":26},\"o3\":{\"conc\":15.8,\"aqius\":6,\"aqicn\":5},\"n2\":{\"conc\":19.9,\"aqius\":3,\"aqicn\":10},\"s2\":{\"conc\":4.1,\"aqius\":2,\"aqicn\":4},\"co\":{\"conc\":18.4,\"aqius\":0,\"aqicn\":0}},{\"ts\":\"2020-06-02T00:00:00.000Z\",\"p2\":{\"conc\":8.1,\"aqius\":33,\"aqicn\":12},\"aqius\":33,\"mainus\":\"p2\",\"aqicn\":24,\"maincn\":\"p1\",\"p1\":{\"conc\":23.6,\"aqius\":21,\"aqicn\":24},\"o3\":{\"conc\":27.6,\"aqius\":11,\"aqicn\":9},\"n2\":{\"conc\":24.9,\"aqius\":4,\"aqicn\":12},\"s2\":{\"conc\":4.5,\"aqius\":2,\"aqicn\":5},\"co\":{\"conc\":32.8,\"aqius\":0,\"aqicn\":0}},{\"ts\":\"2020-06-01T00:00:00.000Z\",\"p2\":{\"conc\":8.1,\"aqius\":33,\"aqicn\":12},\"aqius\":33,\"mainus\":\"p2\",\"aqicn\":26,\"maincn\":\"p1\",\"p1\":{\"conc\":25.8,\"aqius\":23,\"aqicn\":26},\"o3\":{\"conc\":7.3,\"aqius\":3,\"aqicn\":2},\"n2\":{\"conc\":21.6,\"aqius\":4,\"aqicn\":11},\"s2\":{\"conc\":4,\"aqius\":2,\"aqicn\":4},\"co\":{\"conc\":54.2,\"aqius\":1,\"aqicn\":1}},{\"ts\":\"2020-05-31T00:00:00.000Z\",\"p2\":{\"conc\":12.7,\"aqius\":52,\"aqicn\":18},\"aqius\":52,\"mainus\":\"p2\",\"aqicn\":29,\"maincn\":\"p1\",\"p1\":{\"conc\":29.3,\"aqius\":27,\"aqicn\":29},\"o3\":{\"conc\":20.2,\"aqius\":8,\"aqicn\":6},\"n2\":{\"conc\":22.4,\"aqius\":4,\"aqicn\":11},\"s2\":{\"conc\":4,\"aqius\":2,\"aqicn\":4},\"co\":{\"conc\":22.5,\"aqius\":0,\"aqicn\":0}},{\"ts\":\"2020-05-30T00:00:00.000Z\",\"p2\":{\"conc\":13.6,\"aqius\":54,\"aqicn\":19},\"aqius\":54,\"mainus\":\"p2\",\"aqicn\":30,\"maincn\":\"p1\",\"p1\":{\"conc\":30.1,\"aqius\":27,\"aqicn\":30},\"o3\":{\"conc\":31.5,\"aqius\":13,\"aqicn\":10},\"n2\":{\"conc\":32.5,\"aqius\":5,\"aqicn\":16},\"s2\":{\"conc\":6.7,\"aqius\":4,\"aqicn\":7},\"co\":{\"conc\":11.5,\"aqius\":0,\"aqicn\":0}},{\"ts\":\"2020-05-29T00:00:00.000Z\",\"p2\":{\"conc\":10,\"aqius\":41,\"aqicn\":14},\"aqius\":41,\"mainus\":\"p2\",\"aqicn\":23,\"maincn\":\"p1\",\"p1\":{\"conc\":22.6,\"aqius\":21,\"aqicn\":23},\"o3\":{\"conc\":3.1,\"aqius\":1,\"aqicn\":1},\"n2\":{\"conc\":26.2,\"aqius\":4,\"aqicn\":13},\"s2\":{\"conc\":5.4,\"aqius\":3,\"aqicn\":5},\"co\":{\"conc\":29.2,\"aqius\":0,\"aqicn\":0}}]}}\n"
     ]
    }
   ],
   "source": [
    "import requests\n",
    "\n",
    "url = \"https://airvisual1.p.rapidapi.com/cities/get-measurements\"\n",
    "\n",
    "querystring = {\"timezone\":\"Asia%2FSingapore\",\"aqiIndex\":\"us\",\"lang\":\"en_US\",\"id\":\"hW7vArorRd8cT9h6v\"}\n",
    "\n",
    "headers = {\n",
    "    'x-rapidapi-host': \"airvisual1.p.rapidapi.com\",\n",
    "    'x-rapidapi-key': \"5eeb1e148amsh67824ebcafb1348p1d1c15jsncfb7a2cbf97f\"\n",
    "    }\n",
    "\n",
    "response = requests.request(\"GET\", url, headers=headers, params=querystring)\n",
    "\n",
    "print(response.text)"
   ]
  },
  {
   "cell_type": "code",
   "execution_count": 59,
   "metadata": {},
   "outputs": [
    {
     "name": "stdout",
     "output_type": "stream",
     "text": [
      "\n"
     ]
    }
   ],
   "source": [
    "import requests\n",
    "\n",
    "url = \"https://airvisualraygorodskijv1.p.rapidapi.com/getCity\"\n",
    "\n",
    "payload = \"\"\n",
    "headers = {\n",
    "    'x-rapidapi-host': \"AirVisualraygorodskijV1.p.rapidapi.com\",\n",
    "    'x-rapidapi-key': \"5eeb1e148amsh67824ebcafb1348p1d1c15jsncfb7a2cbf97f\",\n",
    "    'content-type': \"application/x-www-form-urlencoded\"\n",
    "    }\n",
    "\n",
    "response = requests.request(\"POST\", url, data=payload, headers=headers)\n",
    "\n",
    "print(response.text)"
   ]
  },
  {
   "cell_type": "code",
   "execution_count": 138,
   "metadata": {},
   "outputs": [
    {
     "data": {
      "text/plain": [
       "<Response [200]>"
      ]
     },
     "execution_count": 138,
     "metadata": {},
     "output_type": "execute_result"
    }
   ],
   "source": [
    "import requests\n",
    "url=\"https://api.waqi.info/feed/jaipur/?token=b6b641a4bf2a0ae493c2d452d0eb5eff1ca32ed9\"\n",
    "\n",
    "requests.get(url)"
   ]
  },
  {
   "cell_type": "code",
   "execution_count": 139,
   "metadata": {},
   "outputs": [],
   "source": [
    "data=requests.get(url)"
   ]
  },
  {
   "cell_type": "code",
   "execution_count": 140,
   "metadata": {},
   "outputs": [
    {
     "data": {
      "text/plain": [
       "{'Server': 'nginx', 'Date': 'Sat, 27 Jun 2020 17:42:37 GMT', 'Content-Type': 'application/json; charset=UTF-8', 'Transfer-Encoding': 'chunked', 'Connection': 'keep-alive', 'Vary': 'Accept-Encoding', 'Access-Control-Allow-Origin': '*', 'X-Gen-Time': '261.738Âµs', 'X-Powered-By': 'rxstreamer-waqi/1.3', 'Content-Encoding': 'gzip'}"
      ]
     },
     "execution_count": 140,
     "metadata": {},
     "output_type": "execute_result"
    }
   ],
   "source": [
    "data.headers"
   ]
  },
  {
   "cell_type": "code",
   "execution_count": 141,
   "metadata": {},
   "outputs": [],
   "source": [
    "data=data.json()"
   ]
  },
  {
   "cell_type": "code",
   "execution_count": 153,
   "metadata": {},
   "outputs": [
    {
     "data": {
      "text/plain": [
       "{'status': 'ok',\n",
       " 'data': {'aqi': 99,\n",
       "  'idx': 11304,\n",
       "  'attributions': [{'url': 'http://cpcb.nic.in/',\n",
       "    'name': 'CPCB - India Central Pollution Control Board',\n",
       "    'logo': 'India-CPCB.png'},\n",
       "   {'url': 'https://waqi.info/', 'name': 'World Air Quality Index Project'}],\n",
       "  'city': {'geo': [26.9405166, 75.8007016],\n",
       "   'name': 'Shastri Nagar, Jaipur, India',\n",
       "   'url': 'https://aqicn.org/city/india/jaipur/shastri-nagar'},\n",
       "  'dominentpol': 'pm25',\n",
       "  'iaqi': {'co': {'v': 3.7},\n",
       "   'dew': {'v': 21},\n",
       "   'h': {'v': 42.89},\n",
       "   'no2': {'v': 5.6},\n",
       "   'o3': {'v': 13.6},\n",
       "   'p': {'v': 723.5},\n",
       "   'pm10': {'v': 63},\n",
       "   'pm25': {'v': 99},\n",
       "   'so2': {'v': 5.2},\n",
       "   't': {'v': 34.41},\n",
       "   'w': {'v': 0.38},\n",
       "   'wg': {'v': 7.7}},\n",
       "  'time': {'s': '2020-06-27 22:00:00', 'tz': '+05:30', 'v': 1593295200},\n",
       "  'forecast': {'daily': {'o3': [{'avg': 26,\n",
       "      'day': '2020-06-25',\n",
       "      'max': 40,\n",
       "      'min': 20},\n",
       "     {'avg': 21, 'day': '2020-06-26', 'max': 32, 'min': 14},\n",
       "     {'avg': 20, 'day': '2020-06-27', 'max': 25, 'min': 16},\n",
       "     {'avg': 15, 'day': '2020-06-28', 'max': 18, 'min': 13},\n",
       "     {'avg': 13, 'day': '2020-06-29', 'max': 18, 'min': 11},\n",
       "     {'avg': 15, 'day': '2020-06-30', 'max': 26, 'min': 8},\n",
       "     {'avg': 21, 'day': '2020-07-01', 'max': 28, 'min': 9},\n",
       "     {'avg': 21, 'day': '2020-07-02', 'max': 21, 'min': 17}],\n",
       "    'pm10': [{'avg': 48, 'day': '2020-06-25', 'max': 56, 'min': 27},\n",
       "     {'avg': 117, 'day': '2020-06-26', 'max': 164, 'min': 47},\n",
       "     {'avg': 121, 'day': '2020-06-27', 'max': 173, 'min': 45},\n",
       "     {'avg': 110, 'day': '2020-06-28', 'max': 184, 'min': 67},\n",
       "     {'avg': 85, 'day': '2020-06-29', 'max': 110, 'min': 58},\n",
       "     {'avg': 51, 'day': '2020-06-30', 'max': 66, 'min': 45},\n",
       "     {'avg': 41, 'day': '2020-07-01', 'max': 45, 'min': 29},\n",
       "     {'avg': 26, 'day': '2020-07-02', 'max': 35, 'min': 22},\n",
       "     {'avg': 37, 'day': '2020-07-03', 'max': 61, 'min': 22}],\n",
       "    'pm25': [{'avg': 100, 'day': '2020-06-25', 'max': 126, 'min': 89},\n",
       "     {'avg': 130, 'day': '2020-06-26', 'max': 156, 'min': 89},\n",
       "     {'avg': 130, 'day': '2020-06-27', 'max': 158, 'min': 85},\n",
       "     {'avg': 123, 'day': '2020-06-28', 'max': 162, 'min': 89},\n",
       "     {'avg': 103, 'day': '2020-06-29', 'max': 123, 'min': 78},\n",
       "     {'avg': 100, 'day': '2020-06-30', 'max': 137, 'min': 67},\n",
       "     {'avg': 114, 'day': '2020-07-01', 'max': 137, 'min': 69},\n",
       "     {'avg': 67, 'day': '2020-07-02', 'max': 68, 'min': 67},\n",
       "     {'avg': 68, 'day': '2020-07-03', 'max': 85, 'min': 59}],\n",
       "    'uvi': [{'avg': 2, 'day': '2020-06-25', 'max': 8, 'min': 0},\n",
       "     {'avg': 2, 'day': '2020-06-26', 'max': 6, 'min': 0},\n",
       "     {'avg': 2, 'day': '2020-06-27', 'max': 10, 'min': 0},\n",
       "     {'avg': 2, 'day': '2020-06-28', 'max': 10, 'min': 0},\n",
       "     {'avg': 2, 'day': '2020-06-29', 'max': 10, 'min': 0},\n",
       "     {'avg': 2, 'day': '2020-06-30', 'max': 9, 'min': 0},\n",
       "     {'avg': 2, 'day': '2020-07-01', 'max': 8, 'min': 0},\n",
       "     {'avg': 0, 'day': '2020-07-02', 'max': 0, 'min': 0}]}},\n",
       "  'debug': {'sync': '2020-06-28T02:14:21+09:00'}}}"
      ]
     },
     "execution_count": 153,
     "metadata": {},
     "output_type": "execute_result"
    }
   ],
   "source": [
    "data"
   ]
  },
  {
   "cell_type": "code",
   "execution_count": 143,
   "metadata": {},
   "outputs": [
    {
     "data": {
      "text/plain": [
       "{'aqi': 99,\n",
       " 'idx': 11304,\n",
       " 'attributions': [{'url': 'http://cpcb.nic.in/',\n",
       "   'name': 'CPCB - India Central Pollution Control Board',\n",
       "   'logo': 'India-CPCB.png'},\n",
       "  {'url': 'https://waqi.info/', 'name': 'World Air Quality Index Project'}],\n",
       " 'city': {'geo': [26.9405166, 75.8007016],\n",
       "  'name': 'Shastri Nagar, Jaipur, India',\n",
       "  'url': 'https://aqicn.org/city/india/jaipur/shastri-nagar'},\n",
       " 'dominentpol': 'pm25',\n",
       " 'iaqi': {'co': {'v': 3.7},\n",
       "  'dew': {'v': 21},\n",
       "  'h': {'v': 42.89},\n",
       "  'no2': {'v': 5.6},\n",
       "  'o3': {'v': 13.6},\n",
       "  'p': {'v': 723.5},\n",
       "  'pm10': {'v': 63},\n",
       "  'pm25': {'v': 99},\n",
       "  'so2': {'v': 5.2},\n",
       "  't': {'v': 34.41},\n",
       "  'w': {'v': 0.38},\n",
       "  'wg': {'v': 7.7}},\n",
       " 'time': {'s': '2020-06-27 22:00:00', 'tz': '+05:30', 'v': 1593295200},\n",
       " 'forecast': {'daily': {'o3': [{'avg': 26,\n",
       "     'day': '2020-06-25',\n",
       "     'max': 40,\n",
       "     'min': 20},\n",
       "    {'avg': 21, 'day': '2020-06-26', 'max': 32, 'min': 14},\n",
       "    {'avg': 20, 'day': '2020-06-27', 'max': 25, 'min': 16},\n",
       "    {'avg': 15, 'day': '2020-06-28', 'max': 18, 'min': 13},\n",
       "    {'avg': 13, 'day': '2020-06-29', 'max': 18, 'min': 11},\n",
       "    {'avg': 15, 'day': '2020-06-30', 'max': 26, 'min': 8},\n",
       "    {'avg': 21, 'day': '2020-07-01', 'max': 28, 'min': 9},\n",
       "    {'avg': 21, 'day': '2020-07-02', 'max': 21, 'min': 17}],\n",
       "   'pm10': [{'avg': 48, 'day': '2020-06-25', 'max': 56, 'min': 27},\n",
       "    {'avg': 117, 'day': '2020-06-26', 'max': 164, 'min': 47},\n",
       "    {'avg': 121, 'day': '2020-06-27', 'max': 173, 'min': 45},\n",
       "    {'avg': 110, 'day': '2020-06-28', 'max': 184, 'min': 67},\n",
       "    {'avg': 85, 'day': '2020-06-29', 'max': 110, 'min': 58},\n",
       "    {'avg': 51, 'day': '2020-06-30', 'max': 66, 'min': 45},\n",
       "    {'avg': 41, 'day': '2020-07-01', 'max': 45, 'min': 29},\n",
       "    {'avg': 26, 'day': '2020-07-02', 'max': 35, 'min': 22},\n",
       "    {'avg': 37, 'day': '2020-07-03', 'max': 61, 'min': 22}],\n",
       "   'pm25': [{'avg': 100, 'day': '2020-06-25', 'max': 126, 'min': 89},\n",
       "    {'avg': 130, 'day': '2020-06-26', 'max': 156, 'min': 89},\n",
       "    {'avg': 130, 'day': '2020-06-27', 'max': 158, 'min': 85},\n",
       "    {'avg': 123, 'day': '2020-06-28', 'max': 162, 'min': 89},\n",
       "    {'avg': 103, 'day': '2020-06-29', 'max': 123, 'min': 78},\n",
       "    {'avg': 100, 'day': '2020-06-30', 'max': 137, 'min': 67},\n",
       "    {'avg': 114, 'day': '2020-07-01', 'max': 137, 'min': 69},\n",
       "    {'avg': 67, 'day': '2020-07-02', 'max': 68, 'min': 67},\n",
       "    {'avg': 68, 'day': '2020-07-03', 'max': 85, 'min': 59}],\n",
       "   'uvi': [{'avg': 2, 'day': '2020-06-25', 'max': 8, 'min': 0},\n",
       "    {'avg': 2, 'day': '2020-06-26', 'max': 6, 'min': 0},\n",
       "    {'avg': 2, 'day': '2020-06-27', 'max': 10, 'min': 0},\n",
       "    {'avg': 2, 'day': '2020-06-28', 'max': 10, 'min': 0},\n",
       "    {'avg': 2, 'day': '2020-06-29', 'max': 10, 'min': 0},\n",
       "    {'avg': 2, 'day': '2020-06-30', 'max': 9, 'min': 0},\n",
       "    {'avg': 2, 'day': '2020-07-01', 'max': 8, 'min': 0},\n",
       "    {'avg': 0, 'day': '2020-07-02', 'max': 0, 'min': 0}]}},\n",
       " 'debug': {'sync': '2020-06-28T02:14:21+09:00'}}"
      ]
     },
     "execution_count": 143,
     "metadata": {},
     "output_type": "execute_result"
    }
   ],
   "source": [
    "data['data']"
   ]
  },
  {
   "cell_type": "code",
   "execution_count": 144,
   "metadata": {},
   "outputs": [
    {
     "data": {
      "text/plain": [
       "[{'url': 'http://cpcb.nic.in/',\n",
       "  'name': 'CPCB - India Central Pollution Control Board',\n",
       "  'logo': 'India-CPCB.png'},\n",
       " {'url': 'https://waqi.info/', 'name': 'World Air Quality Index Project'}]"
      ]
     },
     "execution_count": 144,
     "metadata": {},
     "output_type": "execute_result"
    }
   ],
   "source": [
    "data['data']['attributions']"
   ]
  },
  {
   "cell_type": "code",
   "execution_count": 158,
   "metadata": {},
   "outputs": [
    {
     "data": {
      "text/plain": [
       "'2020-06-27 22:00:00'"
      ]
     },
     "execution_count": 158,
     "metadata": {},
     "output_type": "execute_result"
    }
   ],
   "source": [
    "data['data']['time']['s']"
   ]
  },
  {
   "cell_type": "code",
   "execution_count": 161,
   "metadata": {},
   "outputs": [
    {
     "data": {
      "text/plain": [
       "'2020-06-27'"
      ]
     },
     "execution_count": 161,
     "metadata": {},
     "output_type": "execute_result"
    }
   ],
   "source": [
    "data['data']['time']['s'][0:10]"
   ]
  },
  {
   "cell_type": "code",
   "execution_count": 162,
   "metadata": {},
   "outputs": [
    {
     "data": {
      "text/plain": [
       "'+05:30'"
      ]
     },
     "execution_count": 162,
     "metadata": {},
     "output_type": "execute_result"
    }
   ],
   "source": [
    "data['data']['time']['tz']"
   ]
  },
  {
   "cell_type": "code",
   "execution_count": null,
   "metadata": {},
   "outputs": [],
   "source": []
  },
  {
   "cell_type": "code",
   "execution_count": 152,
   "metadata": {},
   "outputs": [
    {
     "data": {
      "text/plain": [
       "'Shastri Nagar, Jaipur, India'"
      ]
     },
     "execution_count": 152,
     "metadata": {},
     "output_type": "execute_result"
    }
   ],
   "source": [
    "data['data']['city']['name']"
   ]
  },
  {
   "cell_type": "code",
   "execution_count": 146,
   "metadata": {},
   "outputs": [
    {
     "data": {
      "text/plain": [
       "{'co': {'v': 3.7},\n",
       " 'dew': {'v': 21},\n",
       " 'h': {'v': 42.89},\n",
       " 'no2': {'v': 5.6},\n",
       " 'o3': {'v': 13.6},\n",
       " 'p': {'v': 723.5},\n",
       " 'pm10': {'v': 63},\n",
       " 'pm25': {'v': 99},\n",
       " 'so2': {'v': 5.2},\n",
       " 't': {'v': 34.41},\n",
       " 'w': {'v': 0.38},\n",
       " 'wg': {'v': 7.7}}"
      ]
     },
     "execution_count": 146,
     "metadata": {},
     "output_type": "execute_result"
    }
   ],
   "source": [
    "data['data']['iaqi']"
   ]
  },
  {
   "cell_type": "code",
   "execution_count": 147,
   "metadata": {},
   "outputs": [
    {
     "data": {
      "text/plain": [
       "34.41"
      ]
     },
     "execution_count": 147,
     "metadata": {},
     "output_type": "execute_result"
    }
   ],
   "source": [
    "data['data']['iaqi']['t']['v']"
   ]
  },
  {
   "cell_type": "code",
   "execution_count": 148,
   "metadata": {},
   "outputs": [
    {
     "data": {
      "text/plain": [
       "99"
      ]
     },
     "execution_count": 148,
     "metadata": {},
     "output_type": "execute_result"
    }
   ],
   "source": [
    "data['data']['iaqi']['pm25']['v']"
   ]
  },
  {
   "cell_type": "code",
   "execution_count": 149,
   "metadata": {},
   "outputs": [
    {
     "data": {
      "text/plain": [
       "42.89"
      ]
     },
     "execution_count": 149,
     "metadata": {},
     "output_type": "execute_result"
    }
   ],
   "source": [
    "data['data']['iaqi']['h']['v']"
   ]
  },
  {
   "cell_type": "code",
   "execution_count": 150,
   "metadata": {},
   "outputs": [],
   "source": [
    "a=data['data']['iaqi']['h']['v']"
   ]
  },
  {
   "cell_type": "code",
   "execution_count": 151,
   "metadata": {},
   "outputs": [
    {
     "data": {
      "text/plain": [
       "42.89"
      ]
     },
     "execution_count": 151,
     "metadata": {},
     "output_type": "execute_result"
    }
   ],
   "source": [
    "data['data']['iaqi']['h']['v']"
   ]
  },
  {
   "cell_type": "code",
   "execution_count": 208,
   "metadata": {},
   "outputs": [],
   "source": [
    "\n",
    "\n",
    "\n",
    "\n",
    "\n",
    "\n",
    "import requests\n",
    "def get_weather(city):\n",
    "    url=f\"https://api.waqi.info/feed/{city}/?token=b6b641a4bf2a0ae493c2d452d0eb5eff1ca32ed9\"\n",
    "    data=requests.get(url)\n",
    "    if data.status_code==200:\n",
    "        data=data.json()\n",
    "        d = u\"\\N{DEGREE SIGN}\"\n",
    "        Name=data['data']['city']['name']\n",
    "        temprature=data['data']['iaqi']['t']['v']\n",
    "        airpollution=round(data['data']['iaqi']['pm25']['v'],2)\n",
    "        humidity=round(data['data']['iaqi']['h']['v'],2)\n",
    "        localtime=data['data']['time']['s'][-8:]\n",
    "        date=data['data']['time']['s'][0:10]\n",
    "        timezone=data['data']['time']['tz']\n",
    "        print(\"location: \", Name)\n",
    "        print(\"temprature: \" ,temprature,d,\"c\")\n",
    "        print(\" airpollution: \" ,airpollution)\n",
    "        print(\"humidity: \" ,humidity)\n",
    "        print(\"localtime: \" ,localtime)\n",
    "        print(\"date: \" ,date)\n",
    "        print(\"timezone: \", timezone)"
   ]
  },
  {
   "cell_type": "code",
   "execution_count": 211,
   "metadata": {},
   "outputs": [
    {
     "ename": "SyntaxError",
     "evalue": "can't assign to function call (<ipython-input-211-163e8002b169>, line 3)",
     "output_type": "error",
     "traceback": [
      "\u001b[0;36m  File \u001b[0;32m\"<ipython-input-211-163e8002b169>\"\u001b[0;36m, line \u001b[0;32m3\u001b[0m\n\u001b[0;31m    round(data['data']['iaqi']['pm25']['v'],2) = red\u001b[0m\n\u001b[0m    ^\u001b[0m\n\u001b[0;31mSyntaxError\u001b[0m\u001b[0;31m:\u001b[0m can't assign to function call\n"
     ]
    }
   ],
   "source": [
    "get_weather(\"jaipur\")\n",
    "if round(data['data']['iaqi']['pm25']['v'],2) >=65:\n",
    "    round(data['data']['iaqi']['pm25']['v'],2) = red"
   ]
  },
  {
   "cell_type": "code",
   "execution_count": 218,
   "metadata": {},
   "outputs": [
    {
     "name": "stdout",
     "output_type": "stream",
     "text": [
      "delhi\n",
      "hello\n"
     ]
    }
   ],
   "source": [
    "city=input()\n",
    "url=f\"https://api.waqi.info/feed/{city}/?token=b6b641a4bf2a0ae493c2d452d0eb5eff1ca32ed9\"\n",
    "\n",
    "if data.status_code==200:\n",
    "    data=data.json()\n",
    "    d = u\"\\N{DEGREE SIGN}\"\n",
    "    Name=data['data']['city']['name']\n",
    "    temprature=data['data']['iaqi']['t']['v']\n",
    "    airpollution=round(data['data']['iaqi']['pm25']['v'],2)\n",
    "    #humidity=round(data['data']['iaqi']['h']['v'],2)\n",
    "    localtime=data['data']['time']['s'][-8:]\n",
    "    date=data['data']['time']['s'][0:10]\n",
    "    timezone=data['data']['time']['tz']\n",
    "    if airpollution >=\n",
    "    print(\"location: \", e)\n",
    "    print(\"temprature: \" ,temprature,d,\"c\")\n",
    "    print(\" airpollution: \" ,airpollution)\n",
    "    #print(\"humidity: \" ,humidity)\n",
    "    print(\"localtime: \" ,localtime)\n",
    "    print(\"date: \" ,date)\n",
    "    print(\"timezone: \", timezone)"
   ]
  },
  {
   "cell_type": "code",
   "execution_count": 198,
   "metadata": {},
   "outputs": [
    {
     "name": "stdout",
     "output_type": "stream",
     "text": [
      "28/06/2020 00:14:37\n",
      "28/06/20\n",
      " 00:14:37\n"
     ]
    }
   ],
   "source": [
    "\n",
    "\n",
    "\n",
    "\n",
    "date=\n",
    "time=\n",
    "print(dt_string)\n",
    "print(date)\n",
    "print(time)"
   ]
  },
  {
   "cell_type": "code",
   "execution_count": 204,
   "metadata": {},
   "outputs": [
    {
     "name": "stdout",
     "output_type": "stream",
     "text": [
      "NY time: 14:51:33\n",
      "London time: 19:51:33\n"
     ]
    }
   ],
   "source": [
    "\n",
    "from datetime import datetime\n",
    "import pytz\n",
    "\n",
    "tz_NY = pytz.timezone('America/New_York') \n",
    "datetime_NY = datetime.now(tz_NY)\n",
    "print(\"NY time:\", datetime_NY.strftime(\"%H:%M:%S\"))\n",
    "\n",
    "tz_London = pytz.timezone('Europe/London')\n",
    "datetime_London = datetime.now(tz_London)\n",
    "print(\"London time:\", datetime_London.strftime(\"%H:%M:%S\"))"
   ]
  },
  {
   "cell_type": "code",
   "execution_count": 227,
   "metadata": {},
   "outputs": [
    {
     "data": {
      "text/plain": [
       "<Response [404]>"
      ]
     },
     "execution_count": 227,
     "metadata": {},
     "output_type": "execute_result"
    }
   ],
   "source": [
    "api=\"UU95MWJueWdYQm0ySVIvK2xpbDVqdz09\"\n",
    "url=f\"https://trefle.io/some-url?token=UU95MWJueWdYQm0ySVIvK2xpbDVqdz09\"\n",
    "requests.get(url)"
   ]
  },
  {
   "cell_type": "code",
   "execution_count": 228,
   "metadata": {},
   "outputs": [
    {
     "data": {
      "text/plain": [
       "<Response [404]>"
      ]
     },
     "execution_count": 228,
     "metadata": {},
     "output_type": "execute_result"
    }
   ],
   "source": [
    "data"
   ]
  },
  {
   "cell_type": "code",
   "execution_count": 229,
   "metadata": {},
   "outputs": [
    {
     "data": {
      "text/plain": [
       "<Response [404]>"
      ]
     },
     "execution_count": 229,
     "metadata": {},
     "output_type": "execute_result"
    }
   ],
   "source": [
    "url=\"https://trefle.io/some-url?token=UU95MWJueWdYQm0ySVIvK2xpbDVqdz09\"\n",
    "requests.get(url)"
   ]
  },
  {
   "cell_type": "code",
   "execution_count": 232,
   "metadata": {},
   "outputs": [
    {
     "data": {
      "text/plain": [
       "<Response [404]>"
      ]
     },
     "execution_count": 232,
     "metadata": {},
     "output_type": "execute_result"
    }
   ],
   "source": [
    "url=\"https://v0.trefle.io/UU95MWJueWdYQm0ySVIvK2xpbDVqdz09\"\n",
    "requests.get(url)"
   ]
  },
  {
   "cell_type": "code",
   "execution_count": 233,
   "metadata": {},
   "outputs": [
    {
     "name": "stdout",
     "output_type": "stream",
     "text": [
      "{\"status\":\"success\",\"data\":{\"stations\":[{\"id\":\"7ZXsFM3gbTCFd43Eo\",\"name\":\"Sector - 125, Noida, UP - UPPCB\",\"city\":\"Noida\",\"state\":\"Uttar Pradesh\",\"country\":\"India\",\"i18n\":{},\"location\":{\"type\":\"Point\",\"coordinates\":[77.3231257,28.5447608]},\"type\":\"station\",\"current_measurement\":{\"aqius\":158,\"aqicn\":93,\"ts\":\"2020-06-20T05:00:00.000Z\"}},{\"id\":\"cebd7b97c83ca869dd06\",\"name\":\"Indirapuram, Ghaziabad - UPPCB\",\"city\":\"Ghaziabad\",\"state\":\"Uttar Pradesh\",\"country\":\"India\",\"i18n\":{},\"location\":{\"type\":\"Point\",\"coordinates\":[77.371422,28.641487]},\"type\":\"station\",\"current_measurement\":{\"aqius\":168,\"aqicn\":170,\"ts\":\"2020-06-27T19:00:00.000Z\"}},{\"id\":\"5addb89ecc7daec8ffa9e825\",\"name\":\"Vivek Vihar\",\"city\":\"Delhi\",\"state\":\"Delhi\",\"country\":\"India\",\"i18n\":{},\"location\":{\"type\":\"Point\",\"coordinates\":[77.313832,28.672114]},\"type\":\"station\",\"current_measurement\":{\"aqius\":167,\"aqicn\":169,\"ts\":\"2020-06-27T20:00:00.000Z\"}},{\"id\":\"MArdafdmMXEhnyzcd\",\"name\":\"Vikas Sadan, Gurugram, Haryana - HSPCB\",\"city\":\"Gurugram\",\"state\":\"Haryana\",\"country\":\"India\",\"i18n\":{},\"location\":{\"type\":\"Point\",\"coordinates\":[77.0263051,28.4501238]},\"type\":\"station\",\"current_measurement\":{\"aqius\":159,\"aqicn\":96,\"ts\":\"2020-06-27T17:00:00.000Z\"}},{\"id\":\"fkDfa4XGfMje9yf3Z\",\"name\":\"Lalbagh, Lucknow - CPCB\",\"city\":\"Lucknow\",\"state\":\"Uttar Pradesh\",\"country\":\"India\",\"i18n\":{},\"location\":{\"type\":\"Point\",\"coordinates\":[80.9365541,26.8458805]},\"type\":\"station\",\"current_measurement\":{\"aqius\":147,\"aqicn\":74,\"ts\":\"2020-06-27T18:00:00.000Z\"}},{\"id\":\"5addb89ecc7daec8ffa9e81b\",\"name\":\"Major Dhyan Chand National Stadium\",\"city\":\"Delhi\",\"state\":\"Delhi\",\"country\":\"India\",\"i18n\":{},\"location\":{\"type\":\"Point\",\"coordinates\":[77.237388,28.612498]},\"type\":\"station\",\"current_measurement\":{\"aqius\":132,\"aqicn\":134,\"ts\":\"2020-06-27T20:00:00.000Z\"}},{\"id\":\"5addb89ecc7daec8ffa9e817\",\"name\":\"IGI Airport (T3), New Delhi - IMD\",\"city\":\"Delhi\",\"state\":\"Delhi\",\"country\":\"India\",\"i18n\":{},\"location\":{\"type\":\"Point\",\"coordinates\":[77.1180053,28.5627763]},\"type\":\"station\",\"current_measurement\":{\"aqius\":171,\"aqicn\":173,\"ts\":\"2020-06-27T19:00:00.000Z\"}},{\"id\":\"5c482a2e64808d73d0606169\",\"name\":\"Indian Institute of Technology Delhi\",\"city\":\"Defence Colony\",\"state\":\"Delhi\",\"country\":\"India\",\"i18n\":{},\"location\":{\"type\":\"Point\",\"coordinates\":[77.190743,28.546516]},\"type\":\"device\",\"current_measurement\":{\"aqius\":70,\"aqicn\":30,\"ts\":\"2020-06-27T20:00:00.000Z\"}},{\"id\":\"04223b161587ba057030\",\"name\":\"Hebbal, Bengaluru - KSPCB\",\"city\":\"Bengaluru\",\"state\":\"Karnataka\",\"country\":\"India\",\"i18n\":{},\"location\":{\"type\":\"Point\",\"coordinates\":[77.585901,13.029152]},\"type\":\"station\",\"current_measurement\":{\"aqius\":56,\"aqicn\":37,\"ts\":\"2020-06-27T18:00:00.000Z\"}},{\"id\":\"Gps9ccBWKKcZt5Jke\",\"name\":\"Punjab Agricultural University, Ludhiana - PPCB\",\"city\":\"Ludhiana\",\"state\":\"Punjab\",\"country\":\"India\",\"i18n\":{},\"location\":{\"type\":\"Point\",\"coordinates\":[75.8086,30.9028]},\"type\":\"station\",\"current_measurement\":{\"aqius\":131,\"aqicn\":133,\"ts\":\"2020-06-27T18:00:00.000Z\"}}],\"cities\":[{\"id\":\"ceJrHNhXup9KtZTvQ\",\"city\":\"Delhi\",\"state\":\"Delhi\",\"country\":\"India\",\"i18n\":{},\"estimated\":0,\"location\":{\"type\":\"Point\",\"coordinates\":[77.1167,28.6683]},\"type\":\"city\",\"current_measurement\":{\"aqius\":155,\"aqicn\":154,\"ts\":\"2020-06-27T20:00:00.000Z\"}},{\"id\":\"rsCqEekpZJRFHDAiY\",\"city\":\"Mumbai\",\"state\":\"Maharashtra\",\"country\":\"India\",\"i18n\":{},\"estimated\":0,\"location\":{\"type\":\"Point\",\"coordinates\":[72.88261,19.07283]},\"type\":\"city\",\"current_measurement\":{\"aqius\":61,\"aqicn\":60,\"ts\":\"2020-06-27T19:00:00.000Z\"}},{\"id\":\"7bKmEaG2yvFWDPgis\",\"city\":\"Kolkata\",\"state\":\"West Bengal\",\"country\":\"India\",\"i18n\":{},\"estimated\":0,\"location\":{\"type\":\"Point\",\"coordinates\":[88.36304,22.56263]},\"type\":\"city\",\"current_measurement\":{\"aqius\":32,\"aqicn\":20,\"ts\":\"2020-06-27T19:00:00.000Z\"}},{\"id\":\"5bac86de24b967f0b5307bc3\",\"city\":\"New Delhi\",\"state\":\"Delhi\",\"country\":\"India\",\"i18n\":{},\"estimated\":0,\"location\":{\"type\":\"Point\",\"coordinates\":[77.231,28.656]},\"type\":\"city\",\"current_measurement\":{\"aqius\":160,\"aqicn\":145,\"ts\":\"2020-06-27T19:00:00.000Z\"}},{\"id\":\"TsYYXDtYmgPZWggyt\",\"city\":\"Bengaluru\",\"state\":\"Karnataka\",\"country\":\"India\",\"i18n\":{},\"estimated\":0,\"location\":{\"type\":\"Point\",\"coordinates\":[77.54583055555555,12.9916694]},\"type\":\"city\",\"current_measurement\":{\"aqius\":62,\"aqicn\":25,\"ts\":\"2020-06-27T19:00:00.000Z\"}},{\"id\":\"5wym6gWMtDRGHD9KF\",\"city\":\"Gurugram\",\"state\":\"Haryana\",\"country\":\"India\",\"i18n\":{},\"estimated\":0,\"location\":{\"type\":\"Point\",\"coordinates\":[77.0263051,28.4501238]},\"type\":\"city\",\"current_measurement\":{\"aqius\":159,\"aqicn\":96,\"ts\":\"2020-06-27T17:00:00.000Z\"}},{\"id\":\"75zYS2QjXuiK8MHTb\",\"city\":\"Noida\",\"state\":\"Uttar Pradesh\",\"country\":\"India\",\"i18n\":{},\"estimated\":0,\"location\":{\"type\":\"Point\",\"coordinates\":[77.33187,28.541577]},\"type\":\"city\",\"current_measurement\":{\"aqius\":128,\"aqicn\":130,\"ts\":\"2020-06-27T19:00:00.000Z\"}},{\"id\":\"MQRQdrRPrAygvidmR\",\"city\":\"Chennai\",\"state\":\"Tamil Nadu\",\"country\":\"India\",\"i18n\":{},\"estimated\":0,\"location\":{\"type\":\"Point\",\"coordinates\":[80.27847,13.08784]},\"type\":\"city\",\"current_measurement\":{\"aqius\":61,\"aqicn\":24,\"ts\":\"2020-06-27T19:00:00.000Z\"}},{\"id\":\"e2GfZCa39AcEQ5J5v\",\"city\":\"Lucknow\",\"state\":\"Uttar Pradesh\",\"country\":\"India\",\"i18n\":{},\"estimated\":0,\"location\":{\"type\":\"Point\",\"coordinates\":[80.93874444,26.84578611]},\"type\":\"city\",\"current_measurement\":{\"aqius\":101,\"aqicn\":51,\"ts\":\"2020-06-27T19:00:00.000Z\"}},{\"id\":\"txnuNKcEoqJL6kJZ7\",\"city\":\"Pune\",\"state\":\"Maharashtra\",\"country\":\"India\",\"i18n\":{},\"estimated\":0,\"location\":{\"type\":\"Point\",\"coordinates\":[73.8183358,18.4913365]},\"type\":\"city\",\"current_measurement\":{\"aqius\":37,\"aqicn\":13,\"ts\":\"2020-06-27T20:00:00.000Z\"}}],\"news\":[{\"author\":\"Louise W\",\"date\":\"2019-10-28T00:00:00.000Z\",\"status\":\"online\",\"thumbnail\":\"https://d2oixsqbjhy8z2.cloudfront.net/thumbnaildiwali2.png\",\"title\":\"No let-up in air pollution this Diwali: Delhi air quality worsens\",\"type\":\"news\",\"url\":\"https://www.airvisual.com/air-pollution-information/news/no-let-up-in-air-pollution-this-diwali-delhi-air-quality-worsens\"},{\"author\":\"Louise W\",\"date\":\"2019-10-25T00:00:00.000Z\",\"status\":\"online\",\"thumbnail\":\"https://d2oixsqbjhy8z2.cloudfront.net/greenfireworksthumbnail.jpg\",\"title\":\"Will green crackers reduce India’s air pollution during the 2019 Diwali?\",\"type\":\"news\",\"url\":\"https://www.airvisual.com/air-pollution-information/news/will-green-crackers-reduce-india-s-air-pollution-during-the-2019-diwali\"},{\"author\":\"Tech Times\",\"date\":\"2016-04-04T00:00:00.000Z\",\"status\":\"online\",\"thumbnail\":\"https://d2oixsqbjhy8z2.cloudfront.net/20160404-india-gold-temple.JPG\",\"title\":\"India's Golden Temple Loses Sheen Because Of Air Pollution\",\"type\":\"news\",\"url\":\"https://www.airvisual.com/air-pollution-information/news/india-s-golden-temple-loses-sheen-because-of-air-pollution\"},{\"author\":\"News - Medical\",\"date\":\"2016-02-15T00:00:00.000Z\",\"status\":\"online\",\"thumbnail\":\"https://d2oixsqbjhy8z2.cloudfront.net/12112015-hkmask.jpg\",\"title\":\"Household and outdoor air pollution kills more than 5.5 million people every year\",\"type\":\"news\",\"url\":\"https://www.airvisual.com/air-pollution-information/news/household-and-outdoor-air-pollution-kills-more-than-5-5-million-people-every-year\"},{\"author\":\"The Economic Times\",\"date\":\"2015-12-20T00:00:00.000Z\",\"status\":\"online\",\"thumbnail\":\"https://d2oixsqbjhy8z2.cloudfront.net/12102015-india-run.jpeg\",\"title\":\"Legislation to reduce air pollution urgently needed\",\"type\":\"news\",\"url\":\"https://www.airvisual.com/air-pollution-information/news/legislation-to-reduce-air-pollution-urgently-needed\"},{\"author\":\"Global News\",\"date\":\"2015-12-16T00:00:00.000Z\",\"status\":\"online\",\"thumbnail\":\"https://d2oixsqbjhy8z2.cloudfront.net/121020150-indiacar-polluion.jpg\",\"title\":\"India’s top court issues new rules on vehicles to curb air pollution in New Delhi\",\"type\":\"news\",\"url\":\"https://www.airvisual.com/air-pollution-information/news/india-s-top-court-issues-new-rules-on-vehicles-to-curb-air-pollution-in-new-delhi\"},{\"author\":\"Next Big Future\",\"date\":\"2015-12-05T00:00:00.000Z\",\"status\":\"online\",\"thumbnail\":\"https://d2oixsqbjhy8z2.cloudfront.net/12102015-india-trash.jpg\",\"title\":\"New Delhi has worse air pollution than Beijing\",\"type\":\"news\",\"url\":\"https://www.airvisual.com/air-pollution-information/news/new-delhi-has-worse-air-pollution-than-beijing\"},{\"author\":\"Indian Express\",\"date\":\"2015-09-30T00:00:00.000Z\",\"status\":\"online\",\"thumbnail\":\"https://d2oixsqbjhy8z2.cloudfront.net/12112015-india-california.jpg\",\"title\":\"California to help India in reducing air pollution\",\"type\":\"news\",\"url\":\"https://www.airvisual.com/air-pollution-information/news/california-to-help-india-in-reducing-air-pollution\"},{\"author\":\"New York Times\",\"date\":\"2015-06-26T00:00:00.000Z\",\"status\":\"online\",\"thumbnail\":\"https://d2oixsqbjhy8z2.cloudfront.net/10122015-india-children.jpg\",\"title\":\"Holding your breath in India\",\"type\":\"news\",\"url\":\"https://www.airvisual.com/air-pollution-information/news/holding-your-breath-in-india\"},{\"author\":\"The Economist\",\"date\":\"2015-02-05T00:00:00.000Z\",\"status\":\"online\",\"thumbnail\":\"https://d2oixsqbjhy8z2.cloudfront.net/121020150-indiacar-polluion.jpg\",\"title\":\"Breathe uneasy - The air that Indians breathe is dangerously toxic\",\"type\":\"news\",\"url\":\"https://www.airvisual.com/air-pollution-information/news/breathe-uneasy-the-air-that-indians-breathe-is-dangerously-toxic\"}],\"contributors\":[{\"id\":\"5cc160e7754da45a53df8e27\",\"name\":\"Indiana University\",\"type\":\"contributor\",\"subType\":\"organization\",\"picture\":\"https://cdn.airvisual.net/gov/tiny/indiana-university-avatar-Indiana University_logo.jpg\",\"visibility\":true,\"isVerified\":true},{\"id\":\"5cb9494be613ee17724ccf80\",\"name\":\"India System of Air Quality and Weather Forecasting And Research (SAFAR)\",\"type\":\"contributor\",\"subType\":\"government\",\"picture\":\"http://cdn.airvisual.net/gov/tiny/safar.png\",\"visibility\":true,\"isVerified\":true},{\"id\":\"5cb94899e613ee17724ccef9\",\"name\":\"Indiana Department of Environmental Management\",\"type\":\"contributor\",\"subType\":\"government\",\"picture\":\"http://cdn.airvisual.net/gov/tiny/idem-tx-sutron.png\",\"visibility\":true,\"isVerified\":true}]}}\n"
     ]
    }
   ],
   "source": [
    "import requests\n",
    "\n",
    "url = \"https://airvisual1.p.rapidapi.com/auto-complete\"\n",
    "\n",
    "querystring = {\"query\":\"india\"}\n",
    "\n",
    "headers = {\n",
    "    'x-rapidapi-host': \"airvisual1.p.rapidapi.com\",\n",
    "    'x-rapidapi-key': \"5eeb1e148amsh67824ebcafb1348p1d1c15jsncfb7a2cbf97f\"\n",
    "    }\n",
    "\n",
    "response = requests.request(\"GET\", url, headers=headers, params=querystring)\n",
    "\n",
    "print(response.text)\n"
   ]
  },
  {
   "cell_type": "code",
   "execution_count": 235,
   "metadata": {},
   "outputs": [
    {
     "data": {
      "text/plain": [
       "{'status': 'success',\n",
       " 'data': {'stations': [{'id': '7ZXsFM3gbTCFd43Eo',\n",
       "    'name': 'Sector - 125, Noida, UP - UPPCB',\n",
       "    'city': 'Noida',\n",
       "    'state': 'Uttar Pradesh',\n",
       "    'country': 'India',\n",
       "    'i18n': {},\n",
       "    'location': {'type': 'Point', 'coordinates': [77.3231257, 28.5447608]},\n",
       "    'type': 'station',\n",
       "    'current_measurement': {'aqius': 158,\n",
       "     'aqicn': 93,\n",
       "     'ts': '2020-06-20T05:00:00.000Z'}},\n",
       "   {'id': 'cebd7b97c83ca869dd06',\n",
       "    'name': 'Indirapuram, Ghaziabad - UPPCB',\n",
       "    'city': 'Ghaziabad',\n",
       "    'state': 'Uttar Pradesh',\n",
       "    'country': 'India',\n",
       "    'i18n': {},\n",
       "    'location': {'type': 'Point', 'coordinates': [77.371422, 28.641487]},\n",
       "    'type': 'station',\n",
       "    'current_measurement': {'aqius': 168,\n",
       "     'aqicn': 170,\n",
       "     'ts': '2020-06-27T19:00:00.000Z'}},\n",
       "   {'id': '5addb89ecc7daec8ffa9e825',\n",
       "    'name': 'Vivek Vihar',\n",
       "    'city': 'Delhi',\n",
       "    'state': 'Delhi',\n",
       "    'country': 'India',\n",
       "    'i18n': {},\n",
       "    'location': {'type': 'Point', 'coordinates': [77.313832, 28.672114]},\n",
       "    'type': 'station',\n",
       "    'current_measurement': {'aqius': 167,\n",
       "     'aqicn': 169,\n",
       "     'ts': '2020-06-27T20:00:00.000Z'}},\n",
       "   {'id': 'MArdafdmMXEhnyzcd',\n",
       "    'name': 'Vikas Sadan, Gurugram, Haryana - HSPCB',\n",
       "    'city': 'Gurugram',\n",
       "    'state': 'Haryana',\n",
       "    'country': 'India',\n",
       "    'i18n': {},\n",
       "    'location': {'type': 'Point', 'coordinates': [77.0263051, 28.4501238]},\n",
       "    'type': 'station',\n",
       "    'current_measurement': {'aqius': 159,\n",
       "     'aqicn': 96,\n",
       "     'ts': '2020-06-27T17:00:00.000Z'}},\n",
       "   {'id': 'fkDfa4XGfMje9yf3Z',\n",
       "    'name': 'Lalbagh, Lucknow - CPCB',\n",
       "    'city': 'Lucknow',\n",
       "    'state': 'Uttar Pradesh',\n",
       "    'country': 'India',\n",
       "    'i18n': {},\n",
       "    'location': {'type': 'Point', 'coordinates': [80.9365541, 26.8458805]},\n",
       "    'type': 'station',\n",
       "    'current_measurement': {'aqius': 147,\n",
       "     'aqicn': 74,\n",
       "     'ts': '2020-06-27T18:00:00.000Z'}},\n",
       "   {'id': '5addb89ecc7daec8ffa9e81b',\n",
       "    'name': 'Major Dhyan Chand National Stadium',\n",
       "    'city': 'Delhi',\n",
       "    'state': 'Delhi',\n",
       "    'country': 'India',\n",
       "    'i18n': {},\n",
       "    'location': {'type': 'Point', 'coordinates': [77.237388, 28.612498]},\n",
       "    'type': 'station',\n",
       "    'current_measurement': {'aqius': 132,\n",
       "     'aqicn': 134,\n",
       "     'ts': '2020-06-27T20:00:00.000Z'}},\n",
       "   {'id': '5addb89ecc7daec8ffa9e817',\n",
       "    'name': 'IGI Airport (T3), New Delhi - IMD',\n",
       "    'city': 'Delhi',\n",
       "    'state': 'Delhi',\n",
       "    'country': 'India',\n",
       "    'i18n': {},\n",
       "    'location': {'type': 'Point', 'coordinates': [77.1180053, 28.5627763]},\n",
       "    'type': 'station',\n",
       "    'current_measurement': {'aqius': 171,\n",
       "     'aqicn': 173,\n",
       "     'ts': '2020-06-27T19:00:00.000Z'}},\n",
       "   {'id': '5c482a2e64808d73d0606169',\n",
       "    'name': 'Indian Institute of Technology Delhi',\n",
       "    'city': 'Defence Colony',\n",
       "    'state': 'Delhi',\n",
       "    'country': 'India',\n",
       "    'i18n': {},\n",
       "    'location': {'type': 'Point', 'coordinates': [77.190743, 28.546516]},\n",
       "    'type': 'device',\n",
       "    'current_measurement': {'aqius': 70,\n",
       "     'aqicn': 30,\n",
       "     'ts': '2020-06-27T20:00:00.000Z'}},\n",
       "   {'id': '04223b161587ba057030',\n",
       "    'name': 'Hebbal, Bengaluru - KSPCB',\n",
       "    'city': 'Bengaluru',\n",
       "    'state': 'Karnataka',\n",
       "    'country': 'India',\n",
       "    'i18n': {},\n",
       "    'location': {'type': 'Point', 'coordinates': [77.585901, 13.029152]},\n",
       "    'type': 'station',\n",
       "    'current_measurement': {'aqius': 56,\n",
       "     'aqicn': 37,\n",
       "     'ts': '2020-06-27T18:00:00.000Z'}},\n",
       "   {'id': 'Gps9ccBWKKcZt5Jke',\n",
       "    'name': 'Punjab Agricultural University, Ludhiana - PPCB',\n",
       "    'city': 'Ludhiana',\n",
       "    'state': 'Punjab',\n",
       "    'country': 'India',\n",
       "    'i18n': {},\n",
       "    'location': {'type': 'Point', 'coordinates': [75.8086, 30.9028]},\n",
       "    'type': 'station',\n",
       "    'current_measurement': {'aqius': 131,\n",
       "     'aqicn': 133,\n",
       "     'ts': '2020-06-27T18:00:00.000Z'}}],\n",
       "  'cities': [{'id': 'ceJrHNhXup9KtZTvQ',\n",
       "    'city': 'Delhi',\n",
       "    'state': 'Delhi',\n",
       "    'country': 'India',\n",
       "    'i18n': {},\n",
       "    'estimated': 0,\n",
       "    'location': {'type': 'Point', 'coordinates': [77.1167, 28.6683]},\n",
       "    'type': 'city',\n",
       "    'current_measurement': {'aqius': 155,\n",
       "     'aqicn': 154,\n",
       "     'ts': '2020-06-27T20:00:00.000Z'}},\n",
       "   {'id': 'rsCqEekpZJRFHDAiY',\n",
       "    'city': 'Mumbai',\n",
       "    'state': 'Maharashtra',\n",
       "    'country': 'India',\n",
       "    'i18n': {},\n",
       "    'estimated': 0,\n",
       "    'location': {'type': 'Point', 'coordinates': [72.88261, 19.07283]},\n",
       "    'type': 'city',\n",
       "    'current_measurement': {'aqius': 61,\n",
       "     'aqicn': 60,\n",
       "     'ts': '2020-06-27T19:00:00.000Z'}},\n",
       "   {'id': '7bKmEaG2yvFWDPgis',\n",
       "    'city': 'Kolkata',\n",
       "    'state': 'West Bengal',\n",
       "    'country': 'India',\n",
       "    'i18n': {},\n",
       "    'estimated': 0,\n",
       "    'location': {'type': 'Point', 'coordinates': [88.36304, 22.56263]},\n",
       "    'type': 'city',\n",
       "    'current_measurement': {'aqius': 32,\n",
       "     'aqicn': 20,\n",
       "     'ts': '2020-06-27T19:00:00.000Z'}},\n",
       "   {'id': '5bac86de24b967f0b5307bc3',\n",
       "    'city': 'New Delhi',\n",
       "    'state': 'Delhi',\n",
       "    'country': 'India',\n",
       "    'i18n': {},\n",
       "    'estimated': 0,\n",
       "    'location': {'type': 'Point', 'coordinates': [77.231, 28.656]},\n",
       "    'type': 'city',\n",
       "    'current_measurement': {'aqius': 160,\n",
       "     'aqicn': 145,\n",
       "     'ts': '2020-06-27T19:00:00.000Z'}},\n",
       "   {'id': 'TsYYXDtYmgPZWggyt',\n",
       "    'city': 'Bengaluru',\n",
       "    'state': 'Karnataka',\n",
       "    'country': 'India',\n",
       "    'i18n': {},\n",
       "    'estimated': 0,\n",
       "    'location': {'type': 'Point',\n",
       "     'coordinates': [77.54583055555555, 12.9916694]},\n",
       "    'type': 'city',\n",
       "    'current_measurement': {'aqius': 62,\n",
       "     'aqicn': 25,\n",
       "     'ts': '2020-06-27T19:00:00.000Z'}},\n",
       "   {'id': '5wym6gWMtDRGHD9KF',\n",
       "    'city': 'Gurugram',\n",
       "    'state': 'Haryana',\n",
       "    'country': 'India',\n",
       "    'i18n': {},\n",
       "    'estimated': 0,\n",
       "    'location': {'type': 'Point', 'coordinates': [77.0263051, 28.4501238]},\n",
       "    'type': 'city',\n",
       "    'current_measurement': {'aqius': 159,\n",
       "     'aqicn': 96,\n",
       "     'ts': '2020-06-27T17:00:00.000Z'}},\n",
       "   {'id': '75zYS2QjXuiK8MHTb',\n",
       "    'city': 'Noida',\n",
       "    'state': 'Uttar Pradesh',\n",
       "    'country': 'India',\n",
       "    'i18n': {},\n",
       "    'estimated': 0,\n",
       "    'location': {'type': 'Point', 'coordinates': [77.33187, 28.541577]},\n",
       "    'type': 'city',\n",
       "    'current_measurement': {'aqius': 128,\n",
       "     'aqicn': 130,\n",
       "     'ts': '2020-06-27T19:00:00.000Z'}},\n",
       "   {'id': 'MQRQdrRPrAygvidmR',\n",
       "    'city': 'Chennai',\n",
       "    'state': 'Tamil Nadu',\n",
       "    'country': 'India',\n",
       "    'i18n': {},\n",
       "    'estimated': 0,\n",
       "    'location': {'type': 'Point', 'coordinates': [80.27847, 13.08784]},\n",
       "    'type': 'city',\n",
       "    'current_measurement': {'aqius': 61,\n",
       "     'aqicn': 24,\n",
       "     'ts': '2020-06-27T19:00:00.000Z'}},\n",
       "   {'id': 'e2GfZCa39AcEQ5J5v',\n",
       "    'city': 'Lucknow',\n",
       "    'state': 'Uttar Pradesh',\n",
       "    'country': 'India',\n",
       "    'i18n': {},\n",
       "    'estimated': 0,\n",
       "    'location': {'type': 'Point', 'coordinates': [80.93874444, 26.84578611]},\n",
       "    'type': 'city',\n",
       "    'current_measurement': {'aqius': 101,\n",
       "     'aqicn': 51,\n",
       "     'ts': '2020-06-27T19:00:00.000Z'}},\n",
       "   {'id': 'txnuNKcEoqJL6kJZ7',\n",
       "    'city': 'Pune',\n",
       "    'state': 'Maharashtra',\n",
       "    'country': 'India',\n",
       "    'i18n': {},\n",
       "    'estimated': 0,\n",
       "    'location': {'type': 'Point', 'coordinates': [73.8183358, 18.4913365]},\n",
       "    'type': 'city',\n",
       "    'current_measurement': {'aqius': 37,\n",
       "     'aqicn': 13,\n",
       "     'ts': '2020-06-27T20:00:00.000Z'}}],\n",
       "  'news': [{'author': 'Louise W',\n",
       "    'date': '2019-10-28T00:00:00.000Z',\n",
       "    'status': 'online',\n",
       "    'thumbnail': 'https://d2oixsqbjhy8z2.cloudfront.net/thumbnaildiwali2.png',\n",
       "    'title': 'No let-up in air pollution this Diwali: Delhi air quality worsens',\n",
       "    'type': 'news',\n",
       "    'url': 'https://www.airvisual.com/air-pollution-information/news/no-let-up-in-air-pollution-this-diwali-delhi-air-quality-worsens'},\n",
       "   {'author': 'Louise W',\n",
       "    'date': '2019-10-25T00:00:00.000Z',\n",
       "    'status': 'online',\n",
       "    'thumbnail': 'https://d2oixsqbjhy8z2.cloudfront.net/greenfireworksthumbnail.jpg',\n",
       "    'title': 'Will green crackers reduce India’s air pollution during the 2019 Diwali?',\n",
       "    'type': 'news',\n",
       "    'url': 'https://www.airvisual.com/air-pollution-information/news/will-green-crackers-reduce-india-s-air-pollution-during-the-2019-diwali'},\n",
       "   {'author': 'Tech Times',\n",
       "    'date': '2016-04-04T00:00:00.000Z',\n",
       "    'status': 'online',\n",
       "    'thumbnail': 'https://d2oixsqbjhy8z2.cloudfront.net/20160404-india-gold-temple.JPG',\n",
       "    'title': \"India's Golden Temple Loses Sheen Because Of Air Pollution\",\n",
       "    'type': 'news',\n",
       "    'url': 'https://www.airvisual.com/air-pollution-information/news/india-s-golden-temple-loses-sheen-because-of-air-pollution'},\n",
       "   {'author': 'News - Medical',\n",
       "    'date': '2016-02-15T00:00:00.000Z',\n",
       "    'status': 'online',\n",
       "    'thumbnail': 'https://d2oixsqbjhy8z2.cloudfront.net/12112015-hkmask.jpg',\n",
       "    'title': 'Household and outdoor air pollution kills more than 5.5 million people every year',\n",
       "    'type': 'news',\n",
       "    'url': 'https://www.airvisual.com/air-pollution-information/news/household-and-outdoor-air-pollution-kills-more-than-5-5-million-people-every-year'},\n",
       "   {'author': 'The Economic Times',\n",
       "    'date': '2015-12-20T00:00:00.000Z',\n",
       "    'status': 'online',\n",
       "    'thumbnail': 'https://d2oixsqbjhy8z2.cloudfront.net/12102015-india-run.jpeg',\n",
       "    'title': 'Legislation to reduce air pollution urgently needed',\n",
       "    'type': 'news',\n",
       "    'url': 'https://www.airvisual.com/air-pollution-information/news/legislation-to-reduce-air-pollution-urgently-needed'},\n",
       "   {'author': 'Global News',\n",
       "    'date': '2015-12-16T00:00:00.000Z',\n",
       "    'status': 'online',\n",
       "    'thumbnail': 'https://d2oixsqbjhy8z2.cloudfront.net/121020150-indiacar-polluion.jpg',\n",
       "    'title': 'India’s top court issues new rules on vehicles to curb air pollution in New Delhi',\n",
       "    'type': 'news',\n",
       "    'url': 'https://www.airvisual.com/air-pollution-information/news/india-s-top-court-issues-new-rules-on-vehicles-to-curb-air-pollution-in-new-delhi'},\n",
       "   {'author': 'Next Big Future',\n",
       "    'date': '2015-12-05T00:00:00.000Z',\n",
       "    'status': 'online',\n",
       "    'thumbnail': 'https://d2oixsqbjhy8z2.cloudfront.net/12102015-india-trash.jpg',\n",
       "    'title': 'New Delhi has worse air pollution than Beijing',\n",
       "    'type': 'news',\n",
       "    'url': 'https://www.airvisual.com/air-pollution-information/news/new-delhi-has-worse-air-pollution-than-beijing'},\n",
       "   {'author': 'Indian Express',\n",
       "    'date': '2015-09-30T00:00:00.000Z',\n",
       "    'status': 'online',\n",
       "    'thumbnail': 'https://d2oixsqbjhy8z2.cloudfront.net/12112015-india-california.jpg',\n",
       "    'title': 'California to help India in reducing air pollution',\n",
       "    'type': 'news',\n",
       "    'url': 'https://www.airvisual.com/air-pollution-information/news/california-to-help-india-in-reducing-air-pollution'},\n",
       "   {'author': 'New York Times',\n",
       "    'date': '2015-06-26T00:00:00.000Z',\n",
       "    'status': 'online',\n",
       "    'thumbnail': 'https://d2oixsqbjhy8z2.cloudfront.net/10122015-india-children.jpg',\n",
       "    'title': 'Holding your breath in India',\n",
       "    'type': 'news',\n",
       "    'url': 'https://www.airvisual.com/air-pollution-information/news/holding-your-breath-in-india'},\n",
       "   {'author': 'The Economist',\n",
       "    'date': '2015-02-05T00:00:00.000Z',\n",
       "    'status': 'online',\n",
       "    'thumbnail': 'https://d2oixsqbjhy8z2.cloudfront.net/121020150-indiacar-polluion.jpg',\n",
       "    'title': 'Breathe uneasy - The air that Indians breathe is dangerously toxic',\n",
       "    'type': 'news',\n",
       "    'url': 'https://www.airvisual.com/air-pollution-information/news/breathe-uneasy-the-air-that-indians-breathe-is-dangerously-toxic'}],\n",
       "  'contributors': [{'id': '5cc160e7754da45a53df8e27',\n",
       "    'name': 'Indiana University',\n",
       "    'type': 'contributor',\n",
       "    'subType': 'organization',\n",
       "    'picture': 'https://cdn.airvisual.net/gov/tiny/indiana-university-avatar-Indiana University_logo.jpg',\n",
       "    'visibility': True,\n",
       "    'isVerified': True},\n",
       "   {'id': '5cb9494be613ee17724ccf80',\n",
       "    'name': 'India System of Air Quality and Weather Forecasting And Research (SAFAR)',\n",
       "    'type': 'contributor',\n",
       "    'subType': 'government',\n",
       "    'picture': 'http://cdn.airvisual.net/gov/tiny/safar.png',\n",
       "    'visibility': True,\n",
       "    'isVerified': True},\n",
       "   {'id': '5cb94899e613ee17724ccef9',\n",
       "    'name': 'Indiana Department of Environmental Management',\n",
       "    'type': 'contributor',\n",
       "    'subType': 'government',\n",
       "    'picture': 'http://cdn.airvisual.net/gov/tiny/idem-tx-sutron.png',\n",
       "    'visibility': True,\n",
       "    'isVerified': True}]}}"
      ]
     },
     "execution_count": 235,
     "metadata": {},
     "output_type": "execute_result"
    }
   ],
   "source": [
    "response.json()"
   ]
  },
  {
   "cell_type": "code",
   "execution_count": 240,
   "metadata": {},
   "outputs": [
    {
     "name": "stdout",
     "output_type": "stream",
     "text": [
      "{\"total_hits\":58599,\"max_score\":12.394833,\"hits\":[{\"_index\":\"f762ef22-e660-434f-9071-a10ea6691c27\",\"_type\":\"item\",\"_id\":\"513fceb375b8dbbc21000022\",\"_score\":12.394833,\"fields\":{\"nf_serving_size_qty\":1,\"nf_serving_size_unit\":\"serving\"}},{\"_index\":\"f762ef22-e660-434f-9071-a10ea6691c27\",\"_type\":\"item\",\"_id\":\"5976643fa690431a53463b05\",\"_score\":12.330745,\"fields\":{\"nf_serving_size_qty\":1,\"nf_serving_size_unit\":\"serving\"}},{\"_index\":\"f762ef22-e660-434f-9071-a10ea6691c27\",\"_type\":\"item\",\"_id\":\"513fceb375b8dbbc21000021\",\"_score\":12.328987,\"fields\":{\"nf_serving_size_qty\":1,\"nf_serving_size_unit\":\"serving\"}},{\"_index\":\"f762ef22-e660-434f-9071-a10ea6691c27\",\"_type\":\"item\",\"_id\":\"513fceb375b8dbbc2100001e\",\"_score\":12.050792,\"fields\":{\"nf_serving_size_qty\":1,\"nf_serving_size_unit\":\"serving\"}},{\"_index\":\"f762ef22-e660-434f-9071-a10ea6691c27\",\"_type\":\"item\",\"_id\":\"513fceb375b8dbbc21000020\",\"_score\":12.050792,\"fields\":{\"nf_serving_size_qty\":1,\"nf_serving_size_unit\":\"serving\"}},{\"_index\":\"f762ef22-e660-434f-9071-a10ea6691c27\",\"_type\":\"item\",\"_id\":\"513fceb375b8dbbc2100001d\",\"_score\":11.751212,\"fields\":{\"nf_serving_size_qty\":1,\"nf_serving_size_unit\":\"serving\"}},{\"_index\":\"f762ef22-e660-434f-9071-a10ea6691c27\",\"_type\":\"item\",\"_id\":\"463d62377c55afd998c48efa\",\"_score\":11.68972,\"fields\":{\"nf_serving_size_qty\":1,\"nf_serving_size_unit\":\"serving\"}},{\"_index\":\"f762ef22-e660-434f-9071-a10ea6691c27\",\"_type\":\"item\",\"_id\":\"576d035441142f5e2721496c\",\"_score\":5.4310455,\"fields\":{\"nf_serving_size_qty\":1,\"nf_serving_size_unit\":\"serving\"}},{\"_index\":\"f762ef22-e660-434f-9071-a10ea6691c27\",\"_type\":\"item\",\"_id\":\"576d035241142f5e2721496a\",\"_score\":5.134797,\"fields\":{\"nf_serving_size_qty\":1,\"nf_serving_size_unit\":\"serving\"}},{\"_index\":\"f762ef22-e660-434f-9071-a10ea6691c27\",\"_type\":\"item\",\"_id\":\"576d08d7b2da0a870ab8d5f5\",\"_score\":3.3890448,\"fields\":{\"nf_serving_size_qty\":1,\"nf_serving_size_unit\":\"serving\"}}]}\n"
     ]
    }
   ],
   "source": [
    "import requests\n",
    "\n",
    "url = \"https://nutritionix-api.p.rapidapi.com/v1_1/search/cheese\"\n",
    "\n",
    "querystring = {\"fields\":\"item_name%2Citem_id%2Cbrand_name%2Cnf_calories%2Cnf_total_fat\"}\n",
    "\n",
    "headers = {\n",
    "    'x-rapidapi-host': \"nutritionix-api.p.rapidapi.com\",\n",
    "    'x-rapidapi-key': \"5eeb1e148amsh67824ebcafb1348p1d1c15jsncfb7a2cbf97f\"\n",
    "    }\n",
    "\n",
    "response = requests.request(\"GET\", url, headers=headers, params=querystring)\n",
    "\n",
    "\n",
    "print(response.text)"
   ]
  },
  {
   "cell_type": "code",
   "execution_count": 241,
   "metadata": {},
   "outputs": [
    {
     "data": {
      "text/plain": [
       "{'total_hits': 58599,\n",
       " 'max_score': 12.394833,\n",
       " 'hits': [{'_index': 'f762ef22-e660-434f-9071-a10ea6691c27',\n",
       "   '_type': 'item',\n",
       "   '_id': '513fceb375b8dbbc21000022',\n",
       "   '_score': 12.394833,\n",
       "   'fields': {'nf_serving_size_qty': 1, 'nf_serving_size_unit': 'serving'}},\n",
       "  {'_index': 'f762ef22-e660-434f-9071-a10ea6691c27',\n",
       "   '_type': 'item',\n",
       "   '_id': '5976643fa690431a53463b05',\n",
       "   '_score': 12.330745,\n",
       "   'fields': {'nf_serving_size_qty': 1, 'nf_serving_size_unit': 'serving'}},\n",
       "  {'_index': 'f762ef22-e660-434f-9071-a10ea6691c27',\n",
       "   '_type': 'item',\n",
       "   '_id': '513fceb375b8dbbc21000021',\n",
       "   '_score': 12.328987,\n",
       "   'fields': {'nf_serving_size_qty': 1, 'nf_serving_size_unit': 'serving'}},\n",
       "  {'_index': 'f762ef22-e660-434f-9071-a10ea6691c27',\n",
       "   '_type': 'item',\n",
       "   '_id': '513fceb375b8dbbc2100001e',\n",
       "   '_score': 12.050792,\n",
       "   'fields': {'nf_serving_size_qty': 1, 'nf_serving_size_unit': 'serving'}},\n",
       "  {'_index': 'f762ef22-e660-434f-9071-a10ea6691c27',\n",
       "   '_type': 'item',\n",
       "   '_id': '513fceb375b8dbbc21000020',\n",
       "   '_score': 12.050792,\n",
       "   'fields': {'nf_serving_size_qty': 1, 'nf_serving_size_unit': 'serving'}},\n",
       "  {'_index': 'f762ef22-e660-434f-9071-a10ea6691c27',\n",
       "   '_type': 'item',\n",
       "   '_id': '513fceb375b8dbbc2100001d',\n",
       "   '_score': 11.751212,\n",
       "   'fields': {'nf_serving_size_qty': 1, 'nf_serving_size_unit': 'serving'}},\n",
       "  {'_index': 'f762ef22-e660-434f-9071-a10ea6691c27',\n",
       "   '_type': 'item',\n",
       "   '_id': '463d62377c55afd998c48efa',\n",
       "   '_score': 11.68972,\n",
       "   'fields': {'nf_serving_size_qty': 1, 'nf_serving_size_unit': 'serving'}},\n",
       "  {'_index': 'f762ef22-e660-434f-9071-a10ea6691c27',\n",
       "   '_type': 'item',\n",
       "   '_id': '576d035441142f5e2721496c',\n",
       "   '_score': 5.4310455,\n",
       "   'fields': {'nf_serving_size_qty': 1, 'nf_serving_size_unit': 'serving'}},\n",
       "  {'_index': 'f762ef22-e660-434f-9071-a10ea6691c27',\n",
       "   '_type': 'item',\n",
       "   '_id': '576d035241142f5e2721496a',\n",
       "   '_score': 5.134797,\n",
       "   'fields': {'nf_serving_size_qty': 1, 'nf_serving_size_unit': 'serving'}},\n",
       "  {'_index': 'f762ef22-e660-434f-9071-a10ea6691c27',\n",
       "   '_type': 'item',\n",
       "   '_id': '576d08d7b2da0a870ab8d5f5',\n",
       "   '_score': 3.3890448,\n",
       "   'fields': {'nf_serving_size_qty': 1, 'nf_serving_size_unit': 'serving'}}]}"
      ]
     },
     "execution_count": 241,
     "metadata": {},
     "output_type": "execute_result"
    }
   ],
   "source": [
    "response.json()"
   ]
  },
  {
   "cell_type": "code",
   "execution_count": 242,
   "metadata": {},
   "outputs": [
    {
     "name": "stdout",
     "output_type": "stream",
     "text": [
      "{\"message\":\"You are not subscribed to this API.\"}\n"
     ]
    }
   ],
   "source": [
    "import requests\n",
    "\n",
    "url = \"https://elyez.p.rapidapi.com/auth\"\n",
    "\n",
    "payload = \"\"\n",
    "headers = {\n",
    "    'x-rapidapi-host': \"elyez.p.rapidapi.com\",\n",
    "    'x-rapidapi-key': \"5eeb1e148amsh67824ebcafb1348p1d1c15jsncfb7a2cbf97f\",\n",
    "    'content-type': \"application/x-www-form-urlencoded\"\n",
    "    }\n",
    "\n",
    "response = requests.request(\"POST\", url, data=payload, headers=headers)\n",
    "\n",
    "print(response.text)\n"
   ]
  },
  {
   "cell_type": "code",
   "execution_count": 243,
   "metadata": {},
   "outputs": [
    {
     "name": "stdout",
     "output_type": "stream",
     "text": [
      "401\n",
      "{\"error\":\"invalid_client\",\"error_description\":\"Client Authentication failed\"}\n"
     ]
    }
   ],
   "source": [
    "import requests\n",
    "\n",
    "url = \"https://api.sandbox.paypal.com/v1/oauth2/token\"\n",
    "\n",
    "payload = \"grant_type=client_credentials\"\n",
    "headers = {\n",
    "    'accept': \"application/json\",\n",
    "    'accept-language': \"en_US\",\n",
    "    'content-type': \"application/x-www-form-urlencoded\",\n",
    "    'authorization': \"basic QWYt**********MGc=\"\n",
    "    }\n",
    "\n",
    "response = requests.request(\"POST\", url, data=payload, headers=headers)\n",
    "\n",
    "print(response.status_code)\n",
    "\n",
    "print(response.text)"
   ]
  },
  {
   "cell_type": "code",
   "execution_count": 246,
   "metadata": {},
   "outputs": [
    {
     "data": {
      "text/plain": [
       "{'result': [{'title': 'TaoTronics Trucker Bluetooth Headset with Microphone, Wireless Cell Phone Headset Noise Cancelling Mic, On Ear Bluetooth Headphones Bluetooth 5.0 34H for Home Office Online Class PC Call Center Skype',\n",
       "   'url': 'https://www.amazon.com/dp/B081Q5RCMV',\n",
       "   'reviews': {'total_reviews': 1296,\n",
       "    'rating': '4.5',\n",
       "    'answered_questions': 126},\n",
       "   'price': {'current_price': 49.99,\n",
       "    'discounted': False,\n",
       "    'before_price': 49.99,\n",
       "    'savings_amount': 0,\n",
       "    'savings_percent': 0},\n",
       "   'images': ['https://images-na.ssl-images-amazon.com/images/I/31URF%2B3G-HL._AC_SY879_.jpg',\n",
       "    'https://images-na.ssl-images-amazon.com/images/I/51W2v-uaMbL._AC_SY879_.jpg',\n",
       "    'https://images-na.ssl-images-amazon.com/images/I/51oKw7I3SrL._AC_SY879_.jpg',\n",
       "    'https://images-na.ssl-images-amazon.com/images/I/41OUJZmjpxL._AC_SY879_.jpg',\n",
       "    'https://images-na.ssl-images-amazon.com/images/I/41f1erEC%2BSL._AC_SY879_.jpg',\n",
       "    'https://images-na.ssl-images-amazon.com/images/I/41xaBJ%2BRjwL._AC_SY879_.jpg',\n",
       "    'https://images-na.ssl-images-amazon.com/images/I/51n4k05Qp5L._AC_SY879_.jpg'],\n",
       "   'storeID': '',\n",
       "   'brand': 'TaoTronics',\n",
       "   'soldBy': 'BesDio',\n",
       "   'fulfilledBy': 'Amazon',\n",
       "   'qtyPerOrder': 50,\n",
       "   'badges': {'amazonChoice': False, 'amazonPrime': False}}]}"
      ]
     },
     "execution_count": 246,
     "metadata": {},
     "output_type": "execute_result"
    }
   ],
   "source": [
    "import requests\n",
    "\n",
    "url = \"https://amazon-product-search.p.rapidapi.com/amazon-search/product.php\"\n",
    "\n",
    "querystring = {\"asin\":\"B081Q5RCMV\",\"region\":\"com\"}\n",
    "\n",
    "headers = {\n",
    "    'x-rapidapi-host': \"amazon-product-search.p.rapidapi.com\",\n",
    "    'x-rapidapi-key': \"5eeb1e148amsh67824ebcafb1348p1d1c15jsncfb7a2cbf97f\"\n",
    "    }\n",
    "\n",
    "response = requests.request(\"GET\", url, headers=headers, params=querystring)\n",
    "\n",
    "response.json()"
   ]
  },
  {
   "cell_type": "code",
   "execution_count": 249,
   "metadata": {},
   "outputs": [
    {
     "name": "stdout",
     "output_type": "stream",
     "text": [
      "[{\"name\":\"India\",\"topLevelDomain\":[\".in\"],\"alpha2Code\":\"IN\",\"alpha3Code\":\"IND\",\"callingCodes\":[\"91\"],\"capital\":\"New Delhi\",\"altSpellings\":[\"IN\",\"Bhārat\",\"Republic of India\",\"Bharat Ganrajya\"],\"region\":\"Asia\",\"subregion\":\"Southern Asia\",\"population\":1275840000,\"latlng\":[20.0,77.0],\"demonym\":\"Indian\",\"area\":3287590.0,\"gini\":33.4,\"timezones\":[\"UTC+05:30\"],\"borders\":[\"AFG\",\"BGD\",\"BTN\",\"MMR\",\"CHN\",\"NPL\",\"PAK\",\"LKA\"],\"nativeName\":\"भारत\",\"numericCode\":\"356\",\"currencies\":[\"INR\"],\"languages\":[\"hi\",\"en\"],\"translations\":{\"de\":\"Indien\",\"es\":\"India\",\"fr\":\"Inde\",\"ja\":\"インド\",\"it\":\"India\"},\"relevance\":\"3\"}]\n"
     ]
    }
   ],
   "source": [
    "import requests\n",
    "\n",
    "url = \"https://restcountries-v1.p.rapidapi.com/capital/delhi\"\n",
    "\n",
    "headers = {\n",
    "    'x-rapidapi-host': \"restcountries-v1.p.rapidapi.com\",\n",
    "    'x-rapidapi-key': \"5eeb1e148amsh67824ebcafb1348p1d1c15jsncfb7a2cbf97f\"\n",
    "    }\n",
    "\n",
    "response = requests.request(\"GET\", url, headers=headers)\n",
    "\n",
    "print(response.text)"
   ]
  },
  {
   "cell_type": "code",
   "execution_count": 252,
   "metadata": {},
   "outputs": [],
   "source": [
    "res=response.json()"
   ]
  },
  {
   "cell_type": "code",
   "execution_count": 253,
   "metadata": {},
   "outputs": [
    {
     "data": {
      "text/plain": [
       "[{'name': 'India',\n",
       "  'topLevelDomain': ['.in'],\n",
       "  'alpha2Code': 'IN',\n",
       "  'alpha3Code': 'IND',\n",
       "  'callingCodes': ['91'],\n",
       "  'capital': 'New Delhi',\n",
       "  'altSpellings': ['IN', 'Bhārat', 'Republic of India', 'Bharat Ganrajya'],\n",
       "  'region': 'Asia',\n",
       "  'subregion': 'Southern Asia',\n",
       "  'population': 1275840000,\n",
       "  'latlng': [20.0, 77.0],\n",
       "  'demonym': 'Indian',\n",
       "  'area': 3287590.0,\n",
       "  'gini': 33.4,\n",
       "  'timezones': ['UTC+05:30'],\n",
       "  'borders': ['AFG', 'BGD', 'BTN', 'MMR', 'CHN', 'NPL', 'PAK', 'LKA'],\n",
       "  'nativeName': 'भारत',\n",
       "  'numericCode': '356',\n",
       "  'currencies': ['INR'],\n",
       "  'languages': ['hi', 'en'],\n",
       "  'translations': {'de': 'Indien',\n",
       "   'es': 'India',\n",
       "   'fr': 'Inde',\n",
       "   'ja': 'インド',\n",
       "   'it': 'India'},\n",
       "  'relevance': '3'}]"
      ]
     },
     "execution_count": 253,
     "metadata": {},
     "output_type": "execute_result"
    }
   ],
   "source": [
    "res"
   ]
  },
  {
   "cell_type": "code",
   "execution_count": 255,
   "metadata": {},
   "outputs": [
    {
     "name": "stdout",
     "output_type": "stream",
     "text": [
      "{\"message\": \"Internal server error\"}\n"
     ]
    }
   ],
   "source": [
    "import requests\n",
    "\n",
    "url = \"https://nexmo-nexmo-sms-verify-v1.p.rapidapi.com/send-verification-code\"\n",
    "\n",
    "payload = \"\"\n",
    "headers = {\n",
    "    'x-rapidapi-host': \"nexmo-nexmo-sms-verify-v1.p.rapidapi.com\",\n",
    "    'x-rapidapi-key': \"5eeb1e148amsh67824ebcafb1348p1d1c15jsncfb7a2cbf97f\",\n",
    "    'content-type': \"application/x-www-form-urlencoded\"\n",
    "    }\n",
    "\n",
    "response = requests.request(\"POST\", url, data=payload, headers=headers)\n",
    "\n",
    "print(response.text)"
   ]
  },
  {
   "cell_type": "code",
   "execution_count": 256,
   "metadata": {},
   "outputs": [
    {
     "name": "stdout",
     "output_type": "stream",
     "text": [
      "{\"airQualityHealthIndex\":2}\n"
     ]
    }
   ],
   "source": [
    "import requests\n",
    "\n",
    "url = \"https://carbonfootprint1.p.rapidapi.com/AirQualityHealthIndex\"\n",
    "\n",
    "querystring = {\"O3\":\"10\",\"NO2\":\"10\",\"PM\":\"10\"}\n",
    "\n",
    "headers = {\n",
    "    'x-rapidapi-host': \"carbonfootprint1.p.rapidapi.com\",\n",
    "    'x-rapidapi-key': \"5eeb1e148amsh67824ebcafb1348p1d1c15jsncfb7a2cbf97f\"\n",
    "    }\n",
    "\n",
    "response = requests.request(\"GET\", url, headers=headers, params=querystring)\n",
    "\n",
    "print(response.text)"
   ]
  },
  {
   "cell_type": "code",
   "execution_count": 260,
   "metadata": {},
   "outputs": [
    {
     "name": "stdout",
     "output_type": "stream",
     "text": [
      "{\"carbonEquivalent\":0.0}\n"
     ]
    }
   ],
   "source": [
    "import requests\n",
    "\n",
    "url = \"https://carbonfootprint1.p.rapidapi.com/CleanHydroToCarbonFootprint\"\n",
    "\n",
    "querystring = {\"energy\":\"Hydro\",\"consumption\":\"1000\"}\n",
    "\n",
    "headers = {\n",
    "    'x-rapidapi-host': \"carbonfootprint1.p.rapidapi.com\",\n",
    "    'x-rapidapi-key': \"5eeb1e148amsh67824ebcafb1348p1d1c15jsncfb7a2cbf97f\"\n",
    "    }\n",
    "\n",
    "response = requests.request(\"GET\", url, headers=headers, params=querystring)\n",
    "\n",
    "print(response.text)"
   ]
  },
  {
   "cell_type": "code",
   "execution_count": 268,
   "metadata": {},
   "outputs": [
    {
     "name": "stdout",
     "output_type": "stream",
     "text": [
      "{\"carbonEquivalent\":23.1}\n"
     ]
    }
   ],
   "source": [
    "import requests\n",
    "\n",
    "url = \"https://carbonfootprint1.p.rapidapi.com/FuelToCO2e\"\n",
    "\n",
    "querystring = {\"type\":\"Petrol\",\"litres\":\"10\"}\n",
    "\n",
    "headers = {\n",
    "    'x-rapidapi-host': \"carbonfootprint1.p.rapidapi.com\",\n",
    "    'x-rapidapi-key': \"5eeb1e148amsh67824ebcafb1348p1d1c15jsncfb7a2cbf97f\"\n",
    "    }\n",
    "\n",
    "response = requests.request(\"GET\", url, headers=headers, params=querystring)\n",
    "a=response.text\n",
    "print(a)"
   ]
  },
  {
   "cell_type": "code",
   "execution_count": 263,
   "metadata": {},
   "outputs": [
    {
     "data": {
      "text/plain": [
       "{'carbonEquivalent': 26.8}"
      ]
     },
     "execution_count": 263,
     "metadata": {},
     "output_type": "execute_result"
    }
   ],
   "source": []
  },
  {
   "cell_type": "code",
   "execution_count": 275,
   "metadata": {},
   "outputs": [
    {
     "name": "stdout",
     "output_type": "stream",
     "text": [
      "Transform liters of Diesel, Petrol or LPG into CO2 Equivalent in Kg Petrol\n"
     ]
    },
    {
     "ename": "ValueError",
     "evalue": "not enough values to unpack (expected 2, got 1)",
     "output_type": "error",
     "traceback": [
      "\u001b[0;31m---------------------------------------------------------------------------\u001b[0m",
      "\u001b[0;31mValueError\u001b[0m                                Traceback (most recent call last)",
      "\u001b[0;32m<ipython-input-275-6ae876b6d7da>\u001b[0m in \u001b[0;36m<module>\u001b[0;34m\u001b[0m\n\u001b[1;32m     11\u001b[0m     }\n\u001b[1;32m     12\u001b[0m \u001b[0;34m\u001b[0m\u001b[0m\n\u001b[0;32m---> 13\u001b[0;31m \u001b[0mresponse\u001b[0m \u001b[0;34m=\u001b[0m \u001b[0mrequests\u001b[0m\u001b[0;34m.\u001b[0m\u001b[0mrequest\u001b[0m\u001b[0;34m(\u001b[0m\u001b[0;34m\"GET\"\u001b[0m\u001b[0;34m,\u001b[0m \u001b[0murl\u001b[0m\u001b[0;34m,\u001b[0m \u001b[0mheaders\u001b[0m\u001b[0;34m=\u001b[0m\u001b[0mheaders\u001b[0m\u001b[0;34m,\u001b[0m \u001b[0mparams\u001b[0m\u001b[0;34m=\u001b[0m\u001b[0;34m(\u001b[0m\u001b[0mquerystring1\u001b[0m\u001b[0;34m,\u001b[0m\u001b[0mquerystring2\u001b[0m\u001b[0;34m)\u001b[0m\u001b[0;34m)\u001b[0m\u001b[0;34m\u001b[0m\u001b[0;34m\u001b[0m\u001b[0m\n\u001b[0m\u001b[1;32m     14\u001b[0m \u001b[0ma\u001b[0m\u001b[0;34m=\u001b[0m\u001b[0mresponse\u001b[0m\u001b[0;34m.\u001b[0m\u001b[0mtext\u001b[0m\u001b[0;34m\u001b[0m\u001b[0;34m\u001b[0m\u001b[0m\n\u001b[1;32m     15\u001b[0m \u001b[0mprint\u001b[0m\u001b[0;34m(\u001b[0m\u001b[0ma\u001b[0m\u001b[0;34m)\u001b[0m\u001b[0;34m\u001b[0m\u001b[0;34m\u001b[0m\u001b[0m\n",
      "\u001b[0;32m~/opt/anaconda3/lib/python3.7/site-packages/requests/api.py\u001b[0m in \u001b[0;36mrequest\u001b[0;34m(method, url, **kwargs)\u001b[0m\n\u001b[1;32m     58\u001b[0m     \u001b[0;31m# cases, and look like a memory leak in others.\u001b[0m\u001b[0;34m\u001b[0m\u001b[0;34m\u001b[0m\u001b[0;34m\u001b[0m\u001b[0m\n\u001b[1;32m     59\u001b[0m     \u001b[0;32mwith\u001b[0m \u001b[0msessions\u001b[0m\u001b[0;34m.\u001b[0m\u001b[0mSession\u001b[0m\u001b[0;34m(\u001b[0m\u001b[0;34m)\u001b[0m \u001b[0;32mas\u001b[0m \u001b[0msession\u001b[0m\u001b[0;34m:\u001b[0m\u001b[0;34m\u001b[0m\u001b[0;34m\u001b[0m\u001b[0m\n\u001b[0;32m---> 60\u001b[0;31m         \u001b[0;32mreturn\u001b[0m \u001b[0msession\u001b[0m\u001b[0;34m.\u001b[0m\u001b[0mrequest\u001b[0m\u001b[0;34m(\u001b[0m\u001b[0mmethod\u001b[0m\u001b[0;34m=\u001b[0m\u001b[0mmethod\u001b[0m\u001b[0;34m,\u001b[0m \u001b[0murl\u001b[0m\u001b[0;34m=\u001b[0m\u001b[0murl\u001b[0m\u001b[0;34m,\u001b[0m \u001b[0;34m**\u001b[0m\u001b[0mkwargs\u001b[0m\u001b[0;34m)\u001b[0m\u001b[0;34m\u001b[0m\u001b[0;34m\u001b[0m\u001b[0m\n\u001b[0m\u001b[1;32m     61\u001b[0m \u001b[0;34m\u001b[0m\u001b[0m\n\u001b[1;32m     62\u001b[0m \u001b[0;34m\u001b[0m\u001b[0m\n",
      "\u001b[0;32m~/opt/anaconda3/lib/python3.7/site-packages/requests/sessions.py\u001b[0m in \u001b[0;36mrequest\u001b[0;34m(self, method, url, params, data, headers, cookies, files, auth, timeout, allow_redirects, proxies, hooks, stream, verify, cert, json)\u001b[0m\n\u001b[1;32m    517\u001b[0m             \u001b[0mhooks\u001b[0m\u001b[0;34m=\u001b[0m\u001b[0mhooks\u001b[0m\u001b[0;34m,\u001b[0m\u001b[0;34m\u001b[0m\u001b[0;34m\u001b[0m\u001b[0m\n\u001b[1;32m    518\u001b[0m         )\n\u001b[0;32m--> 519\u001b[0;31m         \u001b[0mprep\u001b[0m \u001b[0;34m=\u001b[0m \u001b[0mself\u001b[0m\u001b[0;34m.\u001b[0m\u001b[0mprepare_request\u001b[0m\u001b[0;34m(\u001b[0m\u001b[0mreq\u001b[0m\u001b[0;34m)\u001b[0m\u001b[0;34m\u001b[0m\u001b[0;34m\u001b[0m\u001b[0m\n\u001b[0m\u001b[1;32m    520\u001b[0m \u001b[0;34m\u001b[0m\u001b[0m\n\u001b[1;32m    521\u001b[0m         \u001b[0mproxies\u001b[0m \u001b[0;34m=\u001b[0m \u001b[0mproxies\u001b[0m \u001b[0;32mor\u001b[0m \u001b[0;34m{\u001b[0m\u001b[0;34m}\u001b[0m\u001b[0;34m\u001b[0m\u001b[0;34m\u001b[0m\u001b[0m\n",
      "\u001b[0;32m~/opt/anaconda3/lib/python3.7/site-packages/requests/sessions.py\u001b[0m in \u001b[0;36mprepare_request\u001b[0;34m(self, request)\u001b[0m\n\u001b[1;32m    460\u001b[0m             \u001b[0mauth\u001b[0m\u001b[0;34m=\u001b[0m\u001b[0mmerge_setting\u001b[0m\u001b[0;34m(\u001b[0m\u001b[0mauth\u001b[0m\u001b[0;34m,\u001b[0m \u001b[0mself\u001b[0m\u001b[0;34m.\u001b[0m\u001b[0mauth\u001b[0m\u001b[0;34m)\u001b[0m\u001b[0;34m,\u001b[0m\u001b[0;34m\u001b[0m\u001b[0;34m\u001b[0m\u001b[0m\n\u001b[1;32m    461\u001b[0m             \u001b[0mcookies\u001b[0m\u001b[0;34m=\u001b[0m\u001b[0mmerged_cookies\u001b[0m\u001b[0;34m,\u001b[0m\u001b[0;34m\u001b[0m\u001b[0;34m\u001b[0m\u001b[0m\n\u001b[0;32m--> 462\u001b[0;31m             \u001b[0mhooks\u001b[0m\u001b[0;34m=\u001b[0m\u001b[0mmerge_hooks\u001b[0m\u001b[0;34m(\u001b[0m\u001b[0mrequest\u001b[0m\u001b[0;34m.\u001b[0m\u001b[0mhooks\u001b[0m\u001b[0;34m,\u001b[0m \u001b[0mself\u001b[0m\u001b[0;34m.\u001b[0m\u001b[0mhooks\u001b[0m\u001b[0;34m)\u001b[0m\u001b[0;34m,\u001b[0m\u001b[0;34m\u001b[0m\u001b[0;34m\u001b[0m\u001b[0m\n\u001b[0m\u001b[1;32m    463\u001b[0m         )\n\u001b[1;32m    464\u001b[0m         \u001b[0;32mreturn\u001b[0m \u001b[0mp\u001b[0m\u001b[0;34m\u001b[0m\u001b[0;34m\u001b[0m\u001b[0m\n",
      "\u001b[0;32m~/opt/anaconda3/lib/python3.7/site-packages/requests/models.py\u001b[0m in \u001b[0;36mprepare\u001b[0;34m(self, method, url, headers, files, data, params, auth, cookies, hooks, json)\u001b[0m\n\u001b[1;32m    311\u001b[0m \u001b[0;34m\u001b[0m\u001b[0m\n\u001b[1;32m    312\u001b[0m         \u001b[0mself\u001b[0m\u001b[0;34m.\u001b[0m\u001b[0mprepare_method\u001b[0m\u001b[0;34m(\u001b[0m\u001b[0mmethod\u001b[0m\u001b[0;34m)\u001b[0m\u001b[0;34m\u001b[0m\u001b[0;34m\u001b[0m\u001b[0m\n\u001b[0;32m--> 313\u001b[0;31m         \u001b[0mself\u001b[0m\u001b[0;34m.\u001b[0m\u001b[0mprepare_url\u001b[0m\u001b[0;34m(\u001b[0m\u001b[0murl\u001b[0m\u001b[0;34m,\u001b[0m \u001b[0mparams\u001b[0m\u001b[0;34m)\u001b[0m\u001b[0;34m\u001b[0m\u001b[0;34m\u001b[0m\u001b[0m\n\u001b[0m\u001b[1;32m    314\u001b[0m         \u001b[0mself\u001b[0m\u001b[0;34m.\u001b[0m\u001b[0mprepare_headers\u001b[0m\u001b[0;34m(\u001b[0m\u001b[0mheaders\u001b[0m\u001b[0;34m)\u001b[0m\u001b[0;34m\u001b[0m\u001b[0;34m\u001b[0m\u001b[0m\n\u001b[1;32m    315\u001b[0m         \u001b[0mself\u001b[0m\u001b[0;34m.\u001b[0m\u001b[0mprepare_cookies\u001b[0m\u001b[0;34m(\u001b[0m\u001b[0mcookies\u001b[0m\u001b[0;34m)\u001b[0m\u001b[0;34m\u001b[0m\u001b[0;34m\u001b[0m\u001b[0m\n",
      "\u001b[0;32m~/opt/anaconda3/lib/python3.7/site-packages/requests/models.py\u001b[0m in \u001b[0;36mprepare_url\u001b[0;34m(self, url, params)\u001b[0m\n\u001b[1;32m    429\u001b[0m             \u001b[0mparams\u001b[0m \u001b[0;34m=\u001b[0m \u001b[0mto_native_string\u001b[0m\u001b[0;34m(\u001b[0m\u001b[0mparams\u001b[0m\u001b[0;34m)\u001b[0m\u001b[0;34m\u001b[0m\u001b[0;34m\u001b[0m\u001b[0m\n\u001b[1;32m    430\u001b[0m \u001b[0;34m\u001b[0m\u001b[0m\n\u001b[0;32m--> 431\u001b[0;31m         \u001b[0menc_params\u001b[0m \u001b[0;34m=\u001b[0m \u001b[0mself\u001b[0m\u001b[0;34m.\u001b[0m\u001b[0m_encode_params\u001b[0m\u001b[0;34m(\u001b[0m\u001b[0mparams\u001b[0m\u001b[0;34m)\u001b[0m\u001b[0;34m\u001b[0m\u001b[0;34m\u001b[0m\u001b[0m\n\u001b[0m\u001b[1;32m    432\u001b[0m         \u001b[0;32mif\u001b[0m \u001b[0menc_params\u001b[0m\u001b[0;34m:\u001b[0m\u001b[0;34m\u001b[0m\u001b[0;34m\u001b[0m\u001b[0m\n\u001b[1;32m    433\u001b[0m             \u001b[0;32mif\u001b[0m \u001b[0mquery\u001b[0m\u001b[0;34m:\u001b[0m\u001b[0;34m\u001b[0m\u001b[0;34m\u001b[0m\u001b[0m\n",
      "\u001b[0;32m~/opt/anaconda3/lib/python3.7/site-packages/requests/models.py\u001b[0m in \u001b[0;36m_encode_params\u001b[0;34m(data)\u001b[0m\n\u001b[1;32m     95\u001b[0m         \u001b[0;32melif\u001b[0m \u001b[0mhasattr\u001b[0m\u001b[0;34m(\u001b[0m\u001b[0mdata\u001b[0m\u001b[0;34m,\u001b[0m \u001b[0;34m'__iter__'\u001b[0m\u001b[0;34m)\u001b[0m\u001b[0;34m:\u001b[0m\u001b[0;34m\u001b[0m\u001b[0;34m\u001b[0m\u001b[0m\n\u001b[1;32m     96\u001b[0m             \u001b[0mresult\u001b[0m \u001b[0;34m=\u001b[0m \u001b[0;34m[\u001b[0m\u001b[0;34m]\u001b[0m\u001b[0;34m\u001b[0m\u001b[0;34m\u001b[0m\u001b[0m\n\u001b[0;32m---> 97\u001b[0;31m             \u001b[0;32mfor\u001b[0m \u001b[0mk\u001b[0m\u001b[0;34m,\u001b[0m \u001b[0mvs\u001b[0m \u001b[0;32min\u001b[0m \u001b[0mto_key_val_list\u001b[0m\u001b[0;34m(\u001b[0m\u001b[0mdata\u001b[0m\u001b[0;34m)\u001b[0m\u001b[0;34m:\u001b[0m\u001b[0;34m\u001b[0m\u001b[0;34m\u001b[0m\u001b[0m\n\u001b[0m\u001b[1;32m     98\u001b[0m                 \u001b[0;32mif\u001b[0m \u001b[0misinstance\u001b[0m\u001b[0;34m(\u001b[0m\u001b[0mvs\u001b[0m\u001b[0;34m,\u001b[0m \u001b[0mbasestring\u001b[0m\u001b[0;34m)\u001b[0m \u001b[0;32mor\u001b[0m \u001b[0;32mnot\u001b[0m \u001b[0mhasattr\u001b[0m\u001b[0;34m(\u001b[0m\u001b[0mvs\u001b[0m\u001b[0;34m,\u001b[0m \u001b[0;34m'__iter__'\u001b[0m\u001b[0;34m)\u001b[0m\u001b[0;34m:\u001b[0m\u001b[0;34m\u001b[0m\u001b[0;34m\u001b[0m\u001b[0m\n\u001b[1;32m     99\u001b[0m                     \u001b[0mvs\u001b[0m \u001b[0;34m=\u001b[0m \u001b[0;34m[\u001b[0m\u001b[0mvs\u001b[0m\u001b[0;34m]\u001b[0m\u001b[0;34m\u001b[0m\u001b[0;34m\u001b[0m\u001b[0m\n",
      "\u001b[0;31mValueError\u001b[0m: not enough values to unpack (expected 2, got 1)"
     ]
    }
   ],
   "source": [
    "import requests\n",
    "\n",
    "url = \"https://carbonfootprint1.p.rapidapi.com/FuelToCO2e\"\n",
    "\n",
    "querystring1 = {\"type\":\"Petrol\"}\n",
    "querystring2 = {\"litres\":\"10\"}\n",
    "\n",
    "headers = {\n",
    "    'x-rapidapi-host': \"carbonfootprint1.p.rapidapi.com\",\n",
    "    'x-rapidapi-key': \"5eeb1e148amsh67824ebcafb1348p1d1c15jsncfb7a2cbf97f\"\n",
    "    }\n",
    "\n",
    "response = requests.request(\"GET\", url, headers=headers, params=(querystring1,querystring2))\n",
    "a=response.text\n",
    "print(a)"
   ]
  },
  {
   "cell_type": "code",
   "execution_count": 277,
   "metadata": {},
   "outputs": [],
   "source": [
    "querystring = {\"type\":\"Petrol\",\"litres\":\"10\"}"
   ]
  },
  {
   "cell_type": "code",
   "execution_count": 284,
   "metadata": {},
   "outputs": [
    {
     "name": "stdout",
     "output_type": "stream",
     "text": [
      "LPG\n"
     ]
    }
   ],
   "source": [
    "querystring['type']=input()"
   ]
  },
  {
   "cell_type": "code",
   "execution_count": 285,
   "metadata": {},
   "outputs": [
    {
     "data": {
      "text/plain": [
       "{'type': 'LPG', 'litres': '10'}"
      ]
     },
     "execution_count": 285,
     "metadata": {},
     "output_type": "execute_result"
    }
   ],
   "source": [
    "querystring"
   ]
  },
  {
   "cell_type": "code",
   "execution_count": 302,
   "metadata": {},
   "outputs": [
    {
     "name": "stdout",
     "output_type": "stream",
     "text": [
      "Diesel, Petrol or LPG  :Petrol\n",
      "23.1 kg CO2\n"
     ]
    }
   ],
   "source": [
    "import requests\n",
    "\n",
    "url = \"https://carbonfootprint1.p.rapidapi.com/FuelToCO2e\"\n",
    "\n",
    "querystring = {\"type\":,\"litres\":\"10\"}\n",
    "\n",
    "headers = {\n",
    "    'x-rapidapi-host': \"carbonfootprint1.p.rapidapi.com\",\n",
    "    'x-rapidapi-key': \"5eeb1e148amsh67824ebcafb1348p1d1c15jsncfb7a2cbf97f\"\n",
    "    }\n",
    "\n",
    "response = requests.request(\"GET\", url, headers=headers, params=querystring)\n",
    "a=response.json()\n",
    "print"
   ]
  },
  {
   "cell_type": "code",
   "execution_count": 295,
   "metadata": {},
   "outputs": [
    {
     "data": {
      "text/plain": [
       "15.1"
      ]
     },
     "execution_count": 295,
     "metadata": {},
     "output_type": "execute_result"
    }
   ],
   "source": []
  },
  {
   "cell_type": "code",
   "execution_count": 328,
   "metadata": {},
   "outputs": [
    {
     "name": "stdout",
     "output_type": "stream",
     "text": [
      "Diesel, Petrol or LPG  :LPG\n",
      "1000\n"
     ]
    }
   ],
   "source": [
    "fuel=input(\"Diesel, Petrol or LPG  :\")\n",
    "liters=input(\"\")\n",
    "\n"
   ]
  },
  {
   "cell_type": "code",
   "execution_count": 330,
   "metadata": {},
   "outputs": [
    {
     "data": {
      "text/plain": [
       "1510.0"
      ]
     },
     "execution_count": 330,
     "metadata": {},
     "output_type": "execute_result"
    }
   ],
   "source": [
    "data[]"
   ]
  },
  {
   "cell_type": "code",
   "execution_count": null,
   "metadata": {},
   "outputs": [],
   "source": []
  }
 ],
 "metadata": {
  "kernelspec": {
   "display_name": "Python 3",
   "language": "python",
   "name": "python3"
  },
  "language_info": {
   "codemirror_mode": {
    "name": "ipython",
    "version": 3
   },
   "file_extension": ".py",
   "mimetype": "text/x-python",
   "name": "python",
   "nbconvert_exporter": "python",
   "pygments_lexer": "ipython3",
   "version": "3.7.6"
  }
 },
 "nbformat": 4,
 "nbformat_minor": 4
}
